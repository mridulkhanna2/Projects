{
 "cells": [
  {
   "cell_type": "code",
   "execution_count": 1,
   "metadata": {},
   "outputs": [],
   "source": [
    "import numpy as np\n",
    "import pandas as pd"
   ]
  },
  {
   "cell_type": "code",
   "execution_count": 2,
   "metadata": {},
   "outputs": [],
   "source": [
    "train_df=pd.read_csv(\"train.csv\",delimiter=\",\")"
   ]
  },
  {
   "cell_type": "code",
   "execution_count": 3,
   "metadata": {},
   "outputs": [],
   "source": [
    "tr_y=train_df.values[:,4]"
   ]
  },
  {
   "cell_type": "code",
   "execution_count": 4,
   "metadata": {},
   "outputs": [
    {
     "data": {
      "text/plain": [
       "array([482.26, 446.94, 452.56, ..., 437.65, 459.97, 444.42])"
      ]
     },
     "execution_count": 4,
     "metadata": {},
     "output_type": "execute_result"
    }
   ],
   "source": [
    "tr_y"
   ]
  },
  {
   "cell_type": "code",
   "execution_count": 5,
   "metadata": {},
   "outputs": [],
   "source": [
    "test=np.genfromtxt(\"test.csv\",delimiter=\",\")\n",
    "test_df=pd.DataFrame(test,columns=train_df.columns[0:train_df.shape[1]-1])"
   ]
  },
  {
   "cell_type": "code",
   "execution_count": 6,
   "metadata": {
    "scrolled": true
   },
   "outputs": [
    {
     "data": {
      "text/plain": [
       "(7176, 5)"
      ]
     },
     "execution_count": 6,
     "metadata": {},
     "output_type": "execute_result"
    }
   ],
   "source": [
    "train_df.shape"
   ]
  },
  {
   "cell_type": "code",
   "execution_count": 7,
   "metadata": {
    "scrolled": true
   },
   "outputs": [
    {
     "data": {
      "text/plain": [
       "(2392, 4)"
      ]
     },
     "execution_count": 7,
     "metadata": {},
     "output_type": "execute_result"
    }
   ],
   "source": [
    "test_df.shape"
   ]
  },
  {
   "cell_type": "code",
   "execution_count": 8,
   "metadata": {},
   "outputs": [
    {
     "data": {
      "text/html": [
       "<div>\n",
       "<style scoped>\n",
       "    .dataframe tbody tr th:only-of-type {\n",
       "        vertical-align: middle;\n",
       "    }\n",
       "\n",
       "    .dataframe tbody tr th {\n",
       "        vertical-align: top;\n",
       "    }\n",
       "\n",
       "    .dataframe thead th {\n",
       "        text-align: right;\n",
       "    }\n",
       "</style>\n",
       "<table border=\"1\" class=\"dataframe\">\n",
       "  <thead>\n",
       "    <tr style=\"text-align: right;\">\n",
       "      <th></th>\n",
       "      <th># T</th>\n",
       "      <th>V</th>\n",
       "      <th>AP</th>\n",
       "      <th>RH</th>\n",
       "      <th>EP</th>\n",
       "    </tr>\n",
       "  </thead>\n",
       "  <tbody>\n",
       "    <tr>\n",
       "      <th>0</th>\n",
       "      <td>8.58</td>\n",
       "      <td>38.38</td>\n",
       "      <td>1021.03</td>\n",
       "      <td>84.37</td>\n",
       "      <td>482.26</td>\n",
       "    </tr>\n",
       "    <tr>\n",
       "      <th>1</th>\n",
       "      <td>21.79</td>\n",
       "      <td>58.20</td>\n",
       "      <td>1017.21</td>\n",
       "      <td>66.74</td>\n",
       "      <td>446.94</td>\n",
       "    </tr>\n",
       "    <tr>\n",
       "      <th>2</th>\n",
       "      <td>16.64</td>\n",
       "      <td>48.92</td>\n",
       "      <td>1011.55</td>\n",
       "      <td>78.76</td>\n",
       "      <td>452.56</td>\n",
       "    </tr>\n",
       "    <tr>\n",
       "      <th>3</th>\n",
       "      <td>31.38</td>\n",
       "      <td>71.32</td>\n",
       "      <td>1009.17</td>\n",
       "      <td>60.42</td>\n",
       "      <td>433.44</td>\n",
       "    </tr>\n",
       "    <tr>\n",
       "      <th>4</th>\n",
       "      <td>9.20</td>\n",
       "      <td>40.03</td>\n",
       "      <td>1017.05</td>\n",
       "      <td>92.46</td>\n",
       "      <td>480.38</td>\n",
       "    </tr>\n",
       "  </tbody>\n",
       "</table>\n",
       "</div>"
      ],
      "text/plain": [
       "     # T      V       AP     RH      EP\n",
       "0   8.58  38.38  1021.03  84.37  482.26\n",
       "1  21.79  58.20  1017.21  66.74  446.94\n",
       "2  16.64  48.92  1011.55  78.76  452.56\n",
       "3  31.38  71.32  1009.17  60.42  433.44\n",
       "4   9.20  40.03  1017.05  92.46  480.38"
      ]
     },
     "execution_count": 8,
     "metadata": {},
     "output_type": "execute_result"
    }
   ],
   "source": [
    "train_df.head()"
   ]
  },
  {
   "cell_type": "code",
   "execution_count": 9,
   "metadata": {},
   "outputs": [
    {
     "data": {
      "text/html": [
       "<div>\n",
       "<style scoped>\n",
       "    .dataframe tbody tr th:only-of-type {\n",
       "        vertical-align: middle;\n",
       "    }\n",
       "\n",
       "    .dataframe tbody tr th {\n",
       "        vertical-align: top;\n",
       "    }\n",
       "\n",
       "    .dataframe thead th {\n",
       "        text-align: right;\n",
       "    }\n",
       "</style>\n",
       "<table border=\"1\" class=\"dataframe\">\n",
       "  <thead>\n",
       "    <tr style=\"text-align: right;\">\n",
       "      <th></th>\n",
       "      <th># T</th>\n",
       "      <th>V</th>\n",
       "      <th>AP</th>\n",
       "      <th>RH</th>\n",
       "    </tr>\n",
       "  </thead>\n",
       "  <tbody>\n",
       "    <tr>\n",
       "      <th>0</th>\n",
       "      <td>11.95</td>\n",
       "      <td>42.03</td>\n",
       "      <td>1017.58</td>\n",
       "      <td>90.89</td>\n",
       "    </tr>\n",
       "    <tr>\n",
       "      <th>1</th>\n",
       "      <td>12.07</td>\n",
       "      <td>38.25</td>\n",
       "      <td>1012.67</td>\n",
       "      <td>81.66</td>\n",
       "    </tr>\n",
       "    <tr>\n",
       "      <th>2</th>\n",
       "      <td>26.91</td>\n",
       "      <td>74.99</td>\n",
       "      <td>1005.64</td>\n",
       "      <td>78.98</td>\n",
       "    </tr>\n",
       "    <tr>\n",
       "      <th>3</th>\n",
       "      <td>20.58</td>\n",
       "      <td>39.53</td>\n",
       "      <td>1005.68</td>\n",
       "      <td>62.09</td>\n",
       "    </tr>\n",
       "    <tr>\n",
       "      <th>4</th>\n",
       "      <td>16.78</td>\n",
       "      <td>37.20</td>\n",
       "      <td>1011.97</td>\n",
       "      <td>68.94</td>\n",
       "    </tr>\n",
       "  </tbody>\n",
       "</table>\n",
       "</div>"
      ],
      "text/plain": [
       "     # T      V       AP     RH\n",
       "0  11.95  42.03  1017.58  90.89\n",
       "1  12.07  38.25  1012.67  81.66\n",
       "2  26.91  74.99  1005.64  78.98\n",
       "3  20.58  39.53  1005.68  62.09\n",
       "4  16.78  37.20  1011.97  68.94"
      ]
     },
     "execution_count": 9,
     "metadata": {},
     "output_type": "execute_result"
    }
   ],
   "source": [
    "test_df.head()"
   ]
  },
  {
   "cell_type": "code",
   "execution_count": 10,
   "metadata": {},
   "outputs": [],
   "source": [
    "test_df[' EP'] = np.nan"
   ]
  },
  {
   "cell_type": "code",
   "execution_count": 11,
   "metadata": {},
   "outputs": [
    {
     "data": {
      "text/html": [
       "<div>\n",
       "<style scoped>\n",
       "    .dataframe tbody tr th:only-of-type {\n",
       "        vertical-align: middle;\n",
       "    }\n",
       "\n",
       "    .dataframe tbody tr th {\n",
       "        vertical-align: top;\n",
       "    }\n",
       "\n",
       "    .dataframe thead th {\n",
       "        text-align: right;\n",
       "    }\n",
       "</style>\n",
       "<table border=\"1\" class=\"dataframe\">\n",
       "  <thead>\n",
       "    <tr style=\"text-align: right;\">\n",
       "      <th></th>\n",
       "      <th># T</th>\n",
       "      <th>V</th>\n",
       "      <th>AP</th>\n",
       "      <th>RH</th>\n",
       "      <th>EP</th>\n",
       "    </tr>\n",
       "  </thead>\n",
       "  <tbody>\n",
       "    <tr>\n",
       "      <th>0</th>\n",
       "      <td>11.95</td>\n",
       "      <td>42.03</td>\n",
       "      <td>1017.58</td>\n",
       "      <td>90.89</td>\n",
       "      <td>NaN</td>\n",
       "    </tr>\n",
       "    <tr>\n",
       "      <th>1</th>\n",
       "      <td>12.07</td>\n",
       "      <td>38.25</td>\n",
       "      <td>1012.67</td>\n",
       "      <td>81.66</td>\n",
       "      <td>NaN</td>\n",
       "    </tr>\n",
       "    <tr>\n",
       "      <th>2</th>\n",
       "      <td>26.91</td>\n",
       "      <td>74.99</td>\n",
       "      <td>1005.64</td>\n",
       "      <td>78.98</td>\n",
       "      <td>NaN</td>\n",
       "    </tr>\n",
       "    <tr>\n",
       "      <th>3</th>\n",
       "      <td>20.58</td>\n",
       "      <td>39.53</td>\n",
       "      <td>1005.68</td>\n",
       "      <td>62.09</td>\n",
       "      <td>NaN</td>\n",
       "    </tr>\n",
       "    <tr>\n",
       "      <th>4</th>\n",
       "      <td>16.78</td>\n",
       "      <td>37.20</td>\n",
       "      <td>1011.97</td>\n",
       "      <td>68.94</td>\n",
       "      <td>NaN</td>\n",
       "    </tr>\n",
       "  </tbody>\n",
       "</table>\n",
       "</div>"
      ],
      "text/plain": [
       "     # T      V       AP     RH   EP\n",
       "0  11.95  42.03  1017.58  90.89  NaN\n",
       "1  12.07  38.25  1012.67  81.66  NaN\n",
       "2  26.91  74.99  1005.64  78.98  NaN\n",
       "3  20.58  39.53  1005.68  62.09  NaN\n",
       "4  16.78  37.20  1011.97  68.94  NaN"
      ]
     },
     "execution_count": 11,
     "metadata": {},
     "output_type": "execute_result"
    }
   ],
   "source": [
    "test_df.head()"
   ]
  },
  {
   "cell_type": "code",
   "execution_count": 12,
   "metadata": {
    "scrolled": true
   },
   "outputs": [
    {
     "data": {
      "text/html": [
       "<div>\n",
       "<style scoped>\n",
       "    .dataframe tbody tr th:only-of-type {\n",
       "        vertical-align: middle;\n",
       "    }\n",
       "\n",
       "    .dataframe tbody tr th {\n",
       "        vertical-align: top;\n",
       "    }\n",
       "\n",
       "    .dataframe thead th {\n",
       "        text-align: right;\n",
       "    }\n",
       "</style>\n",
       "<table border=\"1\" class=\"dataframe\">\n",
       "  <thead>\n",
       "    <tr style=\"text-align: right;\">\n",
       "      <th></th>\n",
       "      <th># T</th>\n",
       "      <th>V</th>\n",
       "      <th>AP</th>\n",
       "      <th>RH</th>\n",
       "      <th>EP</th>\n",
       "    </tr>\n",
       "  </thead>\n",
       "  <tbody>\n",
       "    <tr>\n",
       "      <th>0</th>\n",
       "      <td>8.58</td>\n",
       "      <td>38.38</td>\n",
       "      <td>1021.03</td>\n",
       "      <td>84.37</td>\n",
       "      <td>482.26</td>\n",
       "    </tr>\n",
       "    <tr>\n",
       "      <th>1</th>\n",
       "      <td>21.79</td>\n",
       "      <td>58.20</td>\n",
       "      <td>1017.21</td>\n",
       "      <td>66.74</td>\n",
       "      <td>446.94</td>\n",
       "    </tr>\n",
       "    <tr>\n",
       "      <th>2</th>\n",
       "      <td>16.64</td>\n",
       "      <td>48.92</td>\n",
       "      <td>1011.55</td>\n",
       "      <td>78.76</td>\n",
       "      <td>452.56</td>\n",
       "    </tr>\n",
       "    <tr>\n",
       "      <th>3</th>\n",
       "      <td>31.38</td>\n",
       "      <td>71.32</td>\n",
       "      <td>1009.17</td>\n",
       "      <td>60.42</td>\n",
       "      <td>433.44</td>\n",
       "    </tr>\n",
       "    <tr>\n",
       "      <th>4</th>\n",
       "      <td>9.20</td>\n",
       "      <td>40.03</td>\n",
       "      <td>1017.05</td>\n",
       "      <td>92.46</td>\n",
       "      <td>480.38</td>\n",
       "    </tr>\n",
       "    <tr>\n",
       "      <th>...</th>\n",
       "      <td>...</td>\n",
       "      <td>...</td>\n",
       "      <td>...</td>\n",
       "      <td>...</td>\n",
       "      <td>...</td>\n",
       "    </tr>\n",
       "    <tr>\n",
       "      <th>9563</th>\n",
       "      <td>29.49</td>\n",
       "      <td>69.71</td>\n",
       "      <td>1009.34</td>\n",
       "      <td>56.35</td>\n",
       "      <td>NaN</td>\n",
       "    </tr>\n",
       "    <tr>\n",
       "      <th>9564</th>\n",
       "      <td>27.69</td>\n",
       "      <td>65.34</td>\n",
       "      <td>1014.31</td>\n",
       "      <td>46.59</td>\n",
       "      <td>NaN</td>\n",
       "    </tr>\n",
       "    <tr>\n",
       "      <th>9565</th>\n",
       "      <td>24.32</td>\n",
       "      <td>66.25</td>\n",
       "      <td>1009.09</td>\n",
       "      <td>91.89</td>\n",
       "      <td>NaN</td>\n",
       "    </tr>\n",
       "    <tr>\n",
       "      <th>9566</th>\n",
       "      <td>23.49</td>\n",
       "      <td>42.80</td>\n",
       "      <td>1013.96</td>\n",
       "      <td>65.31</td>\n",
       "      <td>NaN</td>\n",
       "    </tr>\n",
       "    <tr>\n",
       "      <th>9567</th>\n",
       "      <td>21.76</td>\n",
       "      <td>60.27</td>\n",
       "      <td>1018.96</td>\n",
       "      <td>85.06</td>\n",
       "      <td>NaN</td>\n",
       "    </tr>\n",
       "  </tbody>\n",
       "</table>\n",
       "<p>9568 rows × 5 columns</p>\n",
       "</div>"
      ],
      "text/plain": [
       "        # T      V       AP     RH      EP\n",
       "0      8.58  38.38  1021.03  84.37  482.26\n",
       "1     21.79  58.20  1017.21  66.74  446.94\n",
       "2     16.64  48.92  1011.55  78.76  452.56\n",
       "3     31.38  71.32  1009.17  60.42  433.44\n",
       "4      9.20  40.03  1017.05  92.46  480.38\n",
       "...     ...    ...      ...    ...     ...\n",
       "9563  29.49  69.71  1009.34  56.35     NaN\n",
       "9564  27.69  65.34  1014.31  46.59     NaN\n",
       "9565  24.32  66.25  1009.09  91.89     NaN\n",
       "9566  23.49  42.80  1013.96  65.31     NaN\n",
       "9567  21.76  60.27  1018.96  85.06     NaN\n",
       "\n",
       "[9568 rows x 5 columns]"
      ]
     },
     "execution_count": 12,
     "metadata": {},
     "output_type": "execute_result"
    }
   ],
   "source": [
    "df=pd.concat([train_df,test_df],axis=0,ignore_index=True)\n",
    "df"
   ]
  },
  {
   "cell_type": "code",
   "execution_count": 13,
   "metadata": {},
   "outputs": [],
   "source": [
    "del df[' EP']"
   ]
  },
  {
   "cell_type": "code",
   "execution_count": 14,
   "metadata": {
    "scrolled": true
   },
   "outputs": [
    {
     "data": {
      "text/html": [
       "<div>\n",
       "<style scoped>\n",
       "    .dataframe tbody tr th:only-of-type {\n",
       "        vertical-align: middle;\n",
       "    }\n",
       "\n",
       "    .dataframe tbody tr th {\n",
       "        vertical-align: top;\n",
       "    }\n",
       "\n",
       "    .dataframe thead th {\n",
       "        text-align: right;\n",
       "    }\n",
       "</style>\n",
       "<table border=\"1\" class=\"dataframe\">\n",
       "  <thead>\n",
       "    <tr style=\"text-align: right;\">\n",
       "      <th></th>\n",
       "      <th># T</th>\n",
       "      <th>V</th>\n",
       "      <th>AP</th>\n",
       "      <th>RH</th>\n",
       "    </tr>\n",
       "  </thead>\n",
       "  <tbody>\n",
       "    <tr>\n",
       "      <th>0</th>\n",
       "      <td>8.58</td>\n",
       "      <td>38.38</td>\n",
       "      <td>1021.03</td>\n",
       "      <td>84.37</td>\n",
       "    </tr>\n",
       "    <tr>\n",
       "      <th>1</th>\n",
       "      <td>21.79</td>\n",
       "      <td>58.20</td>\n",
       "      <td>1017.21</td>\n",
       "      <td>66.74</td>\n",
       "    </tr>\n",
       "    <tr>\n",
       "      <th>2</th>\n",
       "      <td>16.64</td>\n",
       "      <td>48.92</td>\n",
       "      <td>1011.55</td>\n",
       "      <td>78.76</td>\n",
       "    </tr>\n",
       "    <tr>\n",
       "      <th>3</th>\n",
       "      <td>31.38</td>\n",
       "      <td>71.32</td>\n",
       "      <td>1009.17</td>\n",
       "      <td>60.42</td>\n",
       "    </tr>\n",
       "    <tr>\n",
       "      <th>4</th>\n",
       "      <td>9.20</td>\n",
       "      <td>40.03</td>\n",
       "      <td>1017.05</td>\n",
       "      <td>92.46</td>\n",
       "    </tr>\n",
       "  </tbody>\n",
       "</table>\n",
       "</div>"
      ],
      "text/plain": [
       "     # T      V       AP     RH\n",
       "0   8.58  38.38  1021.03  84.37\n",
       "1  21.79  58.20  1017.21  66.74\n",
       "2  16.64  48.92  1011.55  78.76\n",
       "3  31.38  71.32  1009.17  60.42\n",
       "4   9.20  40.03  1017.05  92.46"
      ]
     },
     "execution_count": 14,
     "metadata": {},
     "output_type": "execute_result"
    }
   ],
   "source": [
    "df.head()"
   ]
  },
  {
   "cell_type": "code",
   "execution_count": 15,
   "metadata": {},
   "outputs": [],
   "source": [
    "from sklearn import preprocessing"
   ]
  },
  {
   "cell_type": "code",
   "execution_count": 16,
   "metadata": {},
   "outputs": [],
   "source": [
    "df_scaled=preprocessing.scale(df)"
   ]
  },
  {
   "cell_type": "code",
   "execution_count": 17,
   "metadata": {
    "scrolled": true
   },
   "outputs": [
    {
     "data": {
      "text/html": [
       "<div>\n",
       "<style scoped>\n",
       "    .dataframe tbody tr th:only-of-type {\n",
       "        vertical-align: middle;\n",
       "    }\n",
       "\n",
       "    .dataframe tbody tr th {\n",
       "        vertical-align: top;\n",
       "    }\n",
       "\n",
       "    .dataframe thead th {\n",
       "        text-align: right;\n",
       "    }\n",
       "</style>\n",
       "<table border=\"1\" class=\"dataframe\">\n",
       "  <thead>\n",
       "    <tr style=\"text-align: right;\">\n",
       "      <th></th>\n",
       "      <th># T</th>\n",
       "      <th>V</th>\n",
       "      <th>AP</th>\n",
       "      <th>RH</th>\n",
       "    </tr>\n",
       "  </thead>\n",
       "  <tbody>\n",
       "    <tr>\n",
       "      <th>0</th>\n",
       "      <td>-1.485656</td>\n",
       "      <td>-1.253287</td>\n",
       "      <td>1.308572</td>\n",
       "      <td>0.757630</td>\n",
       "    </tr>\n",
       "    <tr>\n",
       "      <th>1</th>\n",
       "      <td>0.287003</td>\n",
       "      <td>0.306455</td>\n",
       "      <td>0.665309</td>\n",
       "      <td>-0.449945</td>\n",
       "    </tr>\n",
       "    <tr>\n",
       "      <th>2</th>\n",
       "      <td>-0.404079</td>\n",
       "      <td>-0.423838</td>\n",
       "      <td>-0.287798</td>\n",
       "      <td>0.373370</td>\n",
       "    </tr>\n",
       "    <tr>\n",
       "      <th>3</th>\n",
       "      <td>1.573891</td>\n",
       "      <td>1.338938</td>\n",
       "      <td>-0.688574</td>\n",
       "      <td>-0.882837</td>\n",
       "    </tr>\n",
       "    <tr>\n",
       "      <th>4</th>\n",
       "      <td>-1.402458</td>\n",
       "      <td>-1.123440</td>\n",
       "      <td>0.638366</td>\n",
       "      <td>1.311758</td>\n",
       "    </tr>\n",
       "  </tbody>\n",
       "</table>\n",
       "</div>"
      ],
      "text/plain": [
       "        # T         V        AP        RH\n",
       "0 -1.485656 -1.253287  1.308572  0.757630\n",
       "1  0.287003  0.306455  0.665309 -0.449945\n",
       "2 -0.404079 -0.423838 -0.287798  0.373370\n",
       "3  1.573891  1.338938 -0.688574 -0.882837\n",
       "4 -1.402458 -1.123440  0.638366  1.311758"
      ]
     },
     "execution_count": 17,
     "metadata": {},
     "output_type": "execute_result"
    }
   ],
   "source": [
    "scaled=pd.DataFrame(df_scaled, columns=df.columns[0:df.shape[1]])\n",
    "scaled.head(5)"
   ]
  },
  {
   "cell_type": "code",
   "execution_count": 18,
   "metadata": {},
   "outputs": [
    {
     "data": {
      "text/html": [
       "<div>\n",
       "<style scoped>\n",
       "    .dataframe tbody tr th:only-of-type {\n",
       "        vertical-align: middle;\n",
       "    }\n",
       "\n",
       "    .dataframe tbody tr th {\n",
       "        vertical-align: top;\n",
       "    }\n",
       "\n",
       "    .dataframe thead th {\n",
       "        text-align: right;\n",
       "    }\n",
       "</style>\n",
       "<table border=\"1\" class=\"dataframe\">\n",
       "  <thead>\n",
       "    <tr style=\"text-align: right;\">\n",
       "      <th></th>\n",
       "      <th># T</th>\n",
       "      <th>V</th>\n",
       "      <th>AP</th>\n",
       "      <th>RH</th>\n",
       "    </tr>\n",
       "  </thead>\n",
       "  <tbody>\n",
       "    <tr>\n",
       "      <th>0</th>\n",
       "      <td>-1.485656</td>\n",
       "      <td>-1.253287</td>\n",
       "      <td>1.308572</td>\n",
       "      <td>0.757630</td>\n",
       "    </tr>\n",
       "    <tr>\n",
       "      <th>1</th>\n",
       "      <td>0.287003</td>\n",
       "      <td>0.306455</td>\n",
       "      <td>0.665309</td>\n",
       "      <td>-0.449945</td>\n",
       "    </tr>\n",
       "    <tr>\n",
       "      <th>2</th>\n",
       "      <td>-0.404079</td>\n",
       "      <td>-0.423838</td>\n",
       "      <td>-0.287798</td>\n",
       "      <td>0.373370</td>\n",
       "    </tr>\n",
       "    <tr>\n",
       "      <th>3</th>\n",
       "      <td>1.573891</td>\n",
       "      <td>1.338938</td>\n",
       "      <td>-0.688574</td>\n",
       "      <td>-0.882837</td>\n",
       "    </tr>\n",
       "    <tr>\n",
       "      <th>4</th>\n",
       "      <td>-1.402458</td>\n",
       "      <td>-1.123440</td>\n",
       "      <td>0.638366</td>\n",
       "      <td>1.311758</td>\n",
       "    </tr>\n",
       "    <tr>\n",
       "      <th>...</th>\n",
       "      <td>...</td>\n",
       "      <td>...</td>\n",
       "      <td>...</td>\n",
       "      <td>...</td>\n",
       "    </tr>\n",
       "    <tr>\n",
       "      <th>9563</th>\n",
       "      <td>1.320271</td>\n",
       "      <td>1.212239</td>\n",
       "      <td>-0.659947</td>\n",
       "      <td>-1.161613</td>\n",
       "    </tr>\n",
       "    <tr>\n",
       "      <th>9564</th>\n",
       "      <td>1.078728</td>\n",
       "      <td>0.868340</td>\n",
       "      <td>0.176968</td>\n",
       "      <td>-1.830129</td>\n",
       "    </tr>\n",
       "    <tr>\n",
       "      <th>9565</th>\n",
       "      <td>0.626505</td>\n",
       "      <td>0.939953</td>\n",
       "      <td>-0.702045</td>\n",
       "      <td>1.272716</td>\n",
       "    </tr>\n",
       "    <tr>\n",
       "      <th>9566</th>\n",
       "      <td>0.515127</td>\n",
       "      <td>-0.905453</td>\n",
       "      <td>0.118031</td>\n",
       "      <td>-0.547894</td>\n",
       "    </tr>\n",
       "    <tr>\n",
       "      <th>9567</th>\n",
       "      <td>0.282977</td>\n",
       "      <td>0.469355</td>\n",
       "      <td>0.959998</td>\n",
       "      <td>0.804892</td>\n",
       "    </tr>\n",
       "  </tbody>\n",
       "</table>\n",
       "<p>9568 rows × 4 columns</p>\n",
       "</div>"
      ],
      "text/plain": [
       "           # T         V        AP        RH\n",
       "0    -1.485656 -1.253287  1.308572  0.757630\n",
       "1     0.287003  0.306455  0.665309 -0.449945\n",
       "2    -0.404079 -0.423838 -0.287798  0.373370\n",
       "3     1.573891  1.338938 -0.688574 -0.882837\n",
       "4    -1.402458 -1.123440  0.638366  1.311758\n",
       "...        ...       ...       ...       ...\n",
       "9563  1.320271  1.212239 -0.659947 -1.161613\n",
       "9564  1.078728  0.868340  0.176968 -1.830129\n",
       "9565  0.626505  0.939953 -0.702045  1.272716\n",
       "9566  0.515127 -0.905453  0.118031 -0.547894\n",
       "9567  0.282977  0.469355  0.959998  0.804892\n",
       "\n",
       "[9568 rows x 4 columns]"
      ]
     },
     "execution_count": 18,
     "metadata": {},
     "output_type": "execute_result"
    }
   ],
   "source": [
    "scaled"
   ]
  },
  {
   "cell_type": "code",
   "execution_count": 19,
   "metadata": {},
   "outputs": [],
   "source": [
    "train_scaled = scaled[0:7176]\n",
    "test_scaled = scaled[7176:9568]"
   ]
  },
  {
   "cell_type": "code",
   "execution_count": 20,
   "metadata": {},
   "outputs": [
    {
     "data": {
      "text/html": [
       "<div>\n",
       "<style scoped>\n",
       "    .dataframe tbody tr th:only-of-type {\n",
       "        vertical-align: middle;\n",
       "    }\n",
       "\n",
       "    .dataframe tbody tr th {\n",
       "        vertical-align: top;\n",
       "    }\n",
       "\n",
       "    .dataframe thead th {\n",
       "        text-align: right;\n",
       "    }\n",
       "</style>\n",
       "<table border=\"1\" class=\"dataframe\">\n",
       "  <thead>\n",
       "    <tr style=\"text-align: right;\">\n",
       "      <th></th>\n",
       "      <th># T</th>\n",
       "      <th>V</th>\n",
       "      <th>AP</th>\n",
       "      <th>RH</th>\n",
       "    </tr>\n",
       "  </thead>\n",
       "  <tbody>\n",
       "    <tr>\n",
       "      <th>0</th>\n",
       "      <td>-1.485656</td>\n",
       "      <td>-1.253287</td>\n",
       "      <td>1.308572</td>\n",
       "      <td>0.757630</td>\n",
       "    </tr>\n",
       "    <tr>\n",
       "      <th>1</th>\n",
       "      <td>0.287003</td>\n",
       "      <td>0.306455</td>\n",
       "      <td>0.665309</td>\n",
       "      <td>-0.449945</td>\n",
       "    </tr>\n",
       "    <tr>\n",
       "      <th>2</th>\n",
       "      <td>-0.404079</td>\n",
       "      <td>-0.423838</td>\n",
       "      <td>-0.287798</td>\n",
       "      <td>0.373370</td>\n",
       "    </tr>\n",
       "    <tr>\n",
       "      <th>3</th>\n",
       "      <td>1.573891</td>\n",
       "      <td>1.338938</td>\n",
       "      <td>-0.688574</td>\n",
       "      <td>-0.882837</td>\n",
       "    </tr>\n",
       "    <tr>\n",
       "      <th>4</th>\n",
       "      <td>-1.402458</td>\n",
       "      <td>-1.123440</td>\n",
       "      <td>0.638366</td>\n",
       "      <td>1.311758</td>\n",
       "    </tr>\n",
       "    <tr>\n",
       "      <th>...</th>\n",
       "      <td>...</td>\n",
       "      <td>...</td>\n",
       "      <td>...</td>\n",
       "      <td>...</td>\n",
       "    </tr>\n",
       "    <tr>\n",
       "      <th>7171</th>\n",
       "      <td>-1.386355</td>\n",
       "      <td>-1.304439</td>\n",
       "      <td>1.495489</td>\n",
       "      <td>0.423372</td>\n",
       "    </tr>\n",
       "    <tr>\n",
       "      <th>7172</th>\n",
       "      <td>-1.134076</td>\n",
       "      <td>-1.017201</td>\n",
       "      <td>1.412976</td>\n",
       "      <td>-0.782148</td>\n",
       "    </tr>\n",
       "    <tr>\n",
       "      <th>7173</th>\n",
       "      <td>1.361870</td>\n",
       "      <td>1.183122</td>\n",
       "      <td>-0.656579</td>\n",
       "      <td>-0.586936</td>\n",
       "    </tr>\n",
       "    <tr>\n",
       "      <th>7174</th>\n",
       "      <td>-0.440311</td>\n",
       "      <td>-0.000457</td>\n",
       "      <td>0.788237</td>\n",
       "      <td>-0.662966</td>\n",
       "    </tr>\n",
       "    <tr>\n",
       "      <th>7175</th>\n",
       "      <td>1.403469</td>\n",
       "      <td>0.608645</td>\n",
       "      <td>-0.432616</td>\n",
       "      <td>-1.736290</td>\n",
       "    </tr>\n",
       "  </tbody>\n",
       "</table>\n",
       "<p>7176 rows × 4 columns</p>\n",
       "</div>"
      ],
      "text/plain": [
       "           # T         V        AP        RH\n",
       "0    -1.485656 -1.253287  1.308572  0.757630\n",
       "1     0.287003  0.306455  0.665309 -0.449945\n",
       "2    -0.404079 -0.423838 -0.287798  0.373370\n",
       "3     1.573891  1.338938 -0.688574 -0.882837\n",
       "4    -1.402458 -1.123440  0.638366  1.311758\n",
       "...        ...       ...       ...       ...\n",
       "7171 -1.386355 -1.304439  1.495489  0.423372\n",
       "7172 -1.134076 -1.017201  1.412976 -0.782148\n",
       "7173  1.361870  1.183122 -0.656579 -0.586936\n",
       "7174 -0.440311 -0.000457  0.788237 -0.662966\n",
       "7175  1.403469  0.608645 -0.432616 -1.736290\n",
       "\n",
       "[7176 rows x 4 columns]"
      ]
     },
     "execution_count": 20,
     "metadata": {},
     "output_type": "execute_result"
    }
   ],
   "source": [
    "train_scaled"
   ]
  },
  {
   "cell_type": "code",
   "execution_count": 21,
   "metadata": {},
   "outputs": [],
   "source": [
    "index=['EP']\n",
    "df_=pd.DataFrame(tr_y,columns=index)"
   ]
  },
  {
   "cell_type": "code",
   "execution_count": 22,
   "metadata": {
    "scrolled": true
   },
   "outputs": [
    {
     "data": {
      "text/html": [
       "<div>\n",
       "<style scoped>\n",
       "    .dataframe tbody tr th:only-of-type {\n",
       "        vertical-align: middle;\n",
       "    }\n",
       "\n",
       "    .dataframe tbody tr th {\n",
       "        vertical-align: top;\n",
       "    }\n",
       "\n",
       "    .dataframe thead th {\n",
       "        text-align: right;\n",
       "    }\n",
       "</style>\n",
       "<table border=\"1\" class=\"dataframe\">\n",
       "  <thead>\n",
       "    <tr style=\"text-align: right;\">\n",
       "      <th></th>\n",
       "      <th># T</th>\n",
       "      <th>V</th>\n",
       "      <th>AP</th>\n",
       "      <th>RH</th>\n",
       "      <th>EP</th>\n",
       "    </tr>\n",
       "  </thead>\n",
       "  <tbody>\n",
       "    <tr>\n",
       "      <th>0</th>\n",
       "      <td>-1.485656</td>\n",
       "      <td>-1.253287</td>\n",
       "      <td>1.308572</td>\n",
       "      <td>0.757630</td>\n",
       "      <td>482.26</td>\n",
       "    </tr>\n",
       "    <tr>\n",
       "      <th>1</th>\n",
       "      <td>0.287003</td>\n",
       "      <td>0.306455</td>\n",
       "      <td>0.665309</td>\n",
       "      <td>-0.449945</td>\n",
       "      <td>446.94</td>\n",
       "    </tr>\n",
       "    <tr>\n",
       "      <th>2</th>\n",
       "      <td>-0.404079</td>\n",
       "      <td>-0.423838</td>\n",
       "      <td>-0.287798</td>\n",
       "      <td>0.373370</td>\n",
       "      <td>452.56</td>\n",
       "    </tr>\n",
       "    <tr>\n",
       "      <th>3</th>\n",
       "      <td>1.573891</td>\n",
       "      <td>1.338938</td>\n",
       "      <td>-0.688574</td>\n",
       "      <td>-0.882837</td>\n",
       "      <td>433.44</td>\n",
       "    </tr>\n",
       "    <tr>\n",
       "      <th>4</th>\n",
       "      <td>-1.402458</td>\n",
       "      <td>-1.123440</td>\n",
       "      <td>0.638366</td>\n",
       "      <td>1.311758</td>\n",
       "      <td>480.38</td>\n",
       "    </tr>\n",
       "    <tr>\n",
       "      <th>5</th>\n",
       "      <td>0.961982</td>\n",
       "      <td>1.174465</td>\n",
       "      <td>0.003523</td>\n",
       "      <td>-1.537653</td>\n",
       "      <td>436.36</td>\n",
       "    </tr>\n",
       "    <tr>\n",
       "      <th>6</th>\n",
       "      <td>-1.364884</td>\n",
       "      <td>-1.062844</td>\n",
       "      <td>1.778390</td>\n",
       "      <td>0.388439</td>\n",
       "      <td>485.36</td>\n",
       "    </tr>\n",
       "    <tr>\n",
       "      <th>7</th>\n",
       "      <td>-1.374278</td>\n",
       "      <td>-1.004610</td>\n",
       "      <td>1.047562</td>\n",
       "      <td>0.608310</td>\n",
       "      <td>481.59</td>\n",
       "    </tr>\n",
       "    <tr>\n",
       "      <th>8</th>\n",
       "      <td>1.526924</td>\n",
       "      <td>1.202795</td>\n",
       "      <td>-0.924325</td>\n",
       "      <td>-0.640363</td>\n",
       "      <td>432.56</td>\n",
       "    </tr>\n",
       "    <tr>\n",
       "      <th>9</th>\n",
       "      <td>-0.189374</td>\n",
       "      <td>0.381216</td>\n",
       "      <td>-0.212021</td>\n",
       "      <td>0.759685</td>\n",
       "      <td>449.48</td>\n",
       "    </tr>\n",
       "  </tbody>\n",
       "</table>\n",
       "</div>"
      ],
      "text/plain": [
       "        # T         V        AP        RH      EP\n",
       "0 -1.485656 -1.253287  1.308572  0.757630  482.26\n",
       "1  0.287003  0.306455  0.665309 -0.449945  446.94\n",
       "2 -0.404079 -0.423838 -0.287798  0.373370  452.56\n",
       "3  1.573891  1.338938 -0.688574 -0.882837  433.44\n",
       "4 -1.402458 -1.123440  0.638366  1.311758  480.38\n",
       "5  0.961982  1.174465  0.003523 -1.537653  436.36\n",
       "6 -1.364884 -1.062844  1.778390  0.388439  485.36\n",
       "7 -1.374278 -1.004610  1.047562  0.608310  481.59\n",
       "8  1.526924  1.202795 -0.924325 -0.640363  432.56\n",
       "9 -0.189374  0.381216 -0.212021  0.759685  449.48"
      ]
     },
     "execution_count": 22,
     "metadata": {},
     "output_type": "execute_result"
    }
   ],
   "source": [
    "df = train_scaled.join(df_)\n",
    "df.head(10)"
   ]
  },
  {
   "cell_type": "code",
   "execution_count": 23,
   "metadata": {},
   "outputs": [
    {
     "data": {
      "text/plain": [
       "array([[-1.48565576e+00, -1.25328692e+00,  1.30857232e+00,\n",
       "         7.57629905e-01],\n",
       "       [ 2.87002787e-01,  3.06455193e-01,  6.65309346e-01,\n",
       "        -4.49945221e-01],\n",
       "       [-4.04079084e-01, -4.23837783e-01, -2.87797566e-01,\n",
       "         3.73370321e-01],\n",
       "       ...,\n",
       "       [ 1.36186993e+00,  1.18312154e+00, -6.56579216e-01,\n",
       "        -5.86936159e-01],\n",
       "       [-4.40310561e-01, -4.56725914e-04,  7.88236563e-01,\n",
       "        -6.62966130e-01],\n",
       "       [ 1.40346903e+00,  6.08645389e-01, -4.32615931e-01,\n",
       "        -1.73629014e+00]])"
      ]
     },
     "execution_count": 23,
     "metadata": {},
     "output_type": "execute_result"
    }
   ],
   "source": [
    "train_data=train_scaled.values\n",
    "train_data"
   ]
  },
  {
   "cell_type": "code",
   "execution_count": 24,
   "metadata": {},
   "outputs": [
    {
     "data": {
      "text/plain": [
       "array([[-1.03343325, -0.96604884,  0.72761492,  1.20422036],\n",
       "       [-1.01733038, -1.26351731, -0.09919691,  0.57200718],\n",
       "       [ 0.97405894,  1.62775035, -1.28300284,  0.38843932],\n",
       "       ...,\n",
       "       [ 0.62650514,  0.93995287, -0.70204545,  1.27271583],\n",
       "       [ 0.5151269 , -0.90545341,  0.11803064, -0.54789374],\n",
       "       [ 0.28297707,  0.4693546 ,  0.95999788,  0.80489178]])"
      ]
     },
     "execution_count": 24,
     "metadata": {},
     "output_type": "execute_result"
    }
   ],
   "source": [
    "\n",
    "test_data=test_scaled.values\n",
    "test_data"
   ]
  },
  {
   "cell_type": "code",
   "execution_count": 25,
   "metadata": {},
   "outputs": [],
   "source": [
    "def step_grad(points, learn_rate, M):\n",
    "    r = points.shape[0]\n",
    "    c = points.shape[1]\n",
    "    new_M = np.zeros(c)\n",
    "    \n",
    "    for i in range(r):\n",
    "        x = points[i, 0:c-1]\n",
    "        x = np.append(x, 1)\n",
    "        y = points[i,c-1]\n",
    "        for j in range(c):\n",
    "            new_M[j] += (-2/r) * (y - (M * x).sum()) * x[j]\n",
    "        M = M - (learn_rate * new_M)\n",
    "    return M"
   ]
  },
  {
   "cell_type": "code",
   "execution_count": 26,
   "metadata": {},
   "outputs": [],
   "source": [
    "def gd(points, learn_rate, num_iter):\n",
    "    c = points.shape[1]\n",
    "    M = np.zeros(c)\n",
    "    \n",
    "    for i in range(num_iter):\n",
    "        M = step_grad(points, learn_rate, M)\n",
    "        print(i, \"cost = \", cost(points, M))\n",
    "\n",
    "    return M"
   ]
  },
  {
   "cell_type": "code",
   "execution_count": 27,
   "metadata": {},
   "outputs": [],
   "source": [
    "def cost(points, M):\n",
    "    total_cost = 0\n",
    "    r = points.shape[0]\n",
    "    c = points.shape[1]\n",
    "    \n",
    "    for i in range(r):\n",
    "        x = points[i,0:c-1]\n",
    "        x = np.append(x, 1)\n",
    "        y = points[i,c-1]\n",
    "        total_cost += (y - (M * x).sum()) ** 2  \n",
    "    total_cost = (1/r) * total_cost\n",
    "    return total_cost\n"
   ]
  },
  {
   "cell_type": "code",
   "execution_count": 28,
   "metadata": {},
   "outputs": [],
   "source": [
    "def run():\n",
    "    learning_rate = 0.0001\n",
    "    num_iterations = 50\n",
    "    m = gd(train_data, learning_rate, num_iterations)\n",
    "    \n",
    "    return m[0:train_data.shape[1]-1],m[train_data.shape[1]-1]"
   ]
  },
  {
   "cell_type": "code",
   "execution_count": 29,
   "metadata": {
    "scrolled": true
   },
   "outputs": [
    {
     "name": "stdout",
     "output_type": "stream",
     "text": [
      "0 cost =  0.7783473927884373\n",
      "1 cost =  0.7255667787750425\n",
      "2 cost =  0.6949914365712948\n",
      "3 cost =  0.6723704137601995\n",
      "4 cost =  0.6548600866014482\n",
      "5 cost =  0.6410026299839271\n",
      "6 cost =  0.6299540453324058\n",
      "7 cost =  0.6211149534923222\n",
      "8 cost =  0.6140345728433009\n",
      "9 cost =  0.608359930797991\n",
      "10 cost =  0.6038109027078347\n",
      "11 cost =  0.600163756176506\n",
      "12 cost =  0.5972394024930021\n",
      "13 cost =  0.5948943648039429\n",
      "14 cost =  0.593013666827449\n",
      "15 cost =  0.5915051656827793\n",
      "16 cost =  0.590295017553968\n",
      "17 cost =  0.5893240442671239\n",
      "18 cost =  0.5885448207378586\n",
      "19 cost =  0.5879193402623698\n",
      "20 cost =  0.5874171432207596\n",
      "21 cost =  0.5870138173954026\n",
      "22 cost =  0.5866897962311686\n",
      "23 cost =  0.5864293959193905\n",
      "24 cost =  0.5862200438839357\n",
      "25 cost =  0.5860516606428646\n",
      "26 cost =  0.5859161645618991\n",
      "27 cost =  0.5858070750677545\n",
      "28 cost =  0.5857191947430731\n",
      "29 cost =  0.585648354616045\n",
      "30 cost =  0.5855912100766587\n",
      "31 cost =  0.5855450773509842\n",
      "32 cost =  0.5855078024675779\n",
      "33 cost =  0.5854776562545173\n",
      "34 cost =  0.5854532501909443\n",
      "35 cost =  0.5854334689667702\n",
      "36 cost =  0.5854174164289017\n",
      "37 cost =  0.5854043722532604\n",
      "38 cost =  0.5853937572108697\n",
      "39 cost =  0.5853851053205631\n",
      "40 cost =  0.585378041520148\n",
      "41 cost =  0.5853722637601562\n",
      "42 cost =  0.5853675286420436\n",
      "43 cost =  0.5853636398973605\n",
      "44 cost =  0.5853604391441827\n",
      "45 cost =  0.585357798469218\n",
      "46 cost =  0.5853556144735592\n",
      "47 cost =  0.5853538034921505\n",
      "48 cost =  0.5853522977544906\n",
      "49 cost =  0.585351042300286\n"
     ]
    }
   ],
   "source": [
    "m,c=run()\n"
   ]
  },
  {
   "cell_type": "code",
   "execution_count": 30,
   "metadata": {},
   "outputs": [
    {
     "name": "stdout",
     "output_type": "stream",
     "text": [
      "m =  [-1.10656442  0.51187129 -0.25018605]\n",
      "c =  -0.008230682267050697\n"
     ]
    }
   ],
   "source": [
    "print(\"m = \", m)\n",
    "print(\"c = \", c)"
   ]
  },
  {
   "cell_type": "code",
   "execution_count": 31,
   "metadata": {},
   "outputs": [],
   "source": [
    "def predict(points, m, c):\n",
    "    r = points.shape[0]\n",
    "    pred = np.zeros(r)\n",
    "    \n",
    "    for i in range(r):\n",
    "        X = points[i,:]\n",
    "        pred[i] = (m * X).sum() + c\n",
    "        \n",
    "    return pred"
   ]
  },
  {
   "cell_type": "code",
   "execution_count": 32,
   "metadata": {},
   "outputs": [
    {
     "ename": "ValueError",
     "evalue": "operands could not be broadcast together with shapes (3,) (4,) ",
     "output_type": "error",
     "traceback": [
      "\u001b[1;31m---------------------------------------------------------------------------\u001b[0m",
      "\u001b[1;31mValueError\u001b[0m                                Traceback (most recent call last)",
      "\u001b[1;32m<ipython-input-32-e45baf02c2f2>\u001b[0m in \u001b[0;36m<module>\u001b[1;34m\u001b[0m\n\u001b[1;32m----> 1\u001b[1;33m \u001b[0mpredictions\u001b[0m \u001b[1;33m=\u001b[0m \u001b[0mpredict\u001b[0m\u001b[1;33m(\u001b[0m\u001b[0mtest_data\u001b[0m\u001b[1;33m,\u001b[0m \u001b[0mm\u001b[0m\u001b[1;33m,\u001b[0m \u001b[0mc\u001b[0m\u001b[1;33m)\u001b[0m\u001b[1;33m\u001b[0m\u001b[1;33m\u001b[0m\u001b[0m\n\u001b[0m",
      "\u001b[1;32m<ipython-input-31-58b926d1c0f3>\u001b[0m in \u001b[0;36mpredict\u001b[1;34m(points, m, c)\u001b[0m\n\u001b[0;32m      5\u001b[0m     \u001b[1;32mfor\u001b[0m \u001b[0mi\u001b[0m \u001b[1;32min\u001b[0m \u001b[0mrange\u001b[0m\u001b[1;33m(\u001b[0m\u001b[0mr\u001b[0m\u001b[1;33m)\u001b[0m\u001b[1;33m:\u001b[0m\u001b[1;33m\u001b[0m\u001b[1;33m\u001b[0m\u001b[0m\n\u001b[0;32m      6\u001b[0m         \u001b[0mX\u001b[0m \u001b[1;33m=\u001b[0m \u001b[0mpoints\u001b[0m\u001b[1;33m[\u001b[0m\u001b[0mi\u001b[0m\u001b[1;33m,\u001b[0m\u001b[1;33m:\u001b[0m\u001b[1;33m]\u001b[0m\u001b[1;33m\u001b[0m\u001b[1;33m\u001b[0m\u001b[0m\n\u001b[1;32m----> 7\u001b[1;33m         \u001b[0mpred\u001b[0m\u001b[1;33m[\u001b[0m\u001b[0mi\u001b[0m\u001b[1;33m]\u001b[0m \u001b[1;33m=\u001b[0m \u001b[1;33m(\u001b[0m\u001b[0mm\u001b[0m \u001b[1;33m*\u001b[0m \u001b[0mX\u001b[0m\u001b[1;33m)\u001b[0m\u001b[1;33m.\u001b[0m\u001b[0msum\u001b[0m\u001b[1;33m(\u001b[0m\u001b[1;33m)\u001b[0m \u001b[1;33m+\u001b[0m \u001b[0mc\u001b[0m\u001b[1;33m\u001b[0m\u001b[1;33m\u001b[0m\u001b[0m\n\u001b[0m\u001b[0;32m      8\u001b[0m \u001b[1;33m\u001b[0m\u001b[0m\n\u001b[0;32m      9\u001b[0m     \u001b[1;32mreturn\u001b[0m \u001b[0mpred\u001b[0m\u001b[1;33m\u001b[0m\u001b[1;33m\u001b[0m\u001b[0m\n",
      "\u001b[1;31mValueError\u001b[0m: operands could not be broadcast together with shapes (3,) (4,) "
     ]
    }
   ],
   "source": [
    "predictions = predict(test_data, m, c)"
   ]
  },
  {
   "cell_type": "code",
   "execution_count": null,
   "metadata": {
    "scrolled": true
   },
   "outputs": [],
   "source": [
    "np.savetxt(\"predictions.csv\",predictions,fmt=\"%.5f\")"
   ]
  },
  {
   "cell_type": "code",
   "execution_count": null,
   "metadata": {},
   "outputs": [],
   "source": [
    "predictions"
   ]
  },
  {
   "cell_type": "code",
   "execution_count": null,
   "metadata": {},
   "outputs": [],
   "source": []
  }
 ],
 "metadata": {
  "kernelspec": {
   "display_name": "Python 3",
   "language": "python",
   "name": "python3"
  },
  "language_info": {
   "codemirror_mode": {
    "name": "ipython",
    "version": 3
   },
   "file_extension": ".py",
   "mimetype": "text/x-python",
   "name": "python",
   "nbconvert_exporter": "python",
   "pygments_lexer": "ipython3",
   "version": "3.8.2"
  }
 },
 "nbformat": 4,
 "nbformat_minor": 4
}
