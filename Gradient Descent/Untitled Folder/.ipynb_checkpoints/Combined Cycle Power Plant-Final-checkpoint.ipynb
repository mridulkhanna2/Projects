{
 "cells": [
  {
   "cell_type": "code",
   "execution_count": 1,
   "metadata": {},
   "outputs": [],
   "source": [
    "import numpy as np\n",
    "import pandas as pd"
   ]
  },
  {
   "cell_type": "code",
   "execution_count": 2,
   "metadata": {},
   "outputs": [],
   "source": [
    "train_df=pd.read_csv(\"train.csv\",delimiter=\",\")"
   ]
  },
  {
   "cell_type": "code",
   "execution_count": 3,
   "metadata": {},
   "outputs": [],
   "source": [
    "tr_y=train_df.values[:,4]"
   ]
  },
  {
   "cell_type": "code",
   "execution_count": 4,
   "metadata": {
    "scrolled": true
   },
   "outputs": [
    {
     "data": {
      "text/plain": [
       "array([482.26, 446.94, 452.56, ..., 437.65, 459.97, 444.42])"
      ]
     },
     "execution_count": 4,
     "metadata": {},
     "output_type": "execute_result"
    }
   ],
   "source": [
    "tr_y"
   ]
  },
  {
   "cell_type": "code",
   "execution_count": 5,
   "metadata": {},
   "outputs": [
    {
     "data": {
      "text/html": [
       "<div>\n",
       "<style scoped>\n",
       "    .dataframe tbody tr th:only-of-type {\n",
       "        vertical-align: middle;\n",
       "    }\n",
       "\n",
       "    .dataframe tbody tr th {\n",
       "        vertical-align: top;\n",
       "    }\n",
       "\n",
       "    .dataframe thead th {\n",
       "        text-align: right;\n",
       "    }\n",
       "</style>\n",
       "<table border=\"1\" class=\"dataframe\">\n",
       "  <thead>\n",
       "    <tr style=\"text-align: right;\">\n",
       "      <th></th>\n",
       "      <th># T</th>\n",
       "      <th>V</th>\n",
       "      <th>AP</th>\n",
       "      <th>RH</th>\n",
       "      <th>EP</th>\n",
       "    </tr>\n",
       "  </thead>\n",
       "  <tbody>\n",
       "    <tr>\n",
       "      <th>0</th>\n",
       "      <td>8.58</td>\n",
       "      <td>38.38</td>\n",
       "      <td>1021.03</td>\n",
       "      <td>84.37</td>\n",
       "      <td>482.26</td>\n",
       "    </tr>\n",
       "    <tr>\n",
       "      <th>1</th>\n",
       "      <td>21.79</td>\n",
       "      <td>58.20</td>\n",
       "      <td>1017.21</td>\n",
       "      <td>66.74</td>\n",
       "      <td>446.94</td>\n",
       "    </tr>\n",
       "    <tr>\n",
       "      <th>2</th>\n",
       "      <td>16.64</td>\n",
       "      <td>48.92</td>\n",
       "      <td>1011.55</td>\n",
       "      <td>78.76</td>\n",
       "      <td>452.56</td>\n",
       "    </tr>\n",
       "    <tr>\n",
       "      <th>3</th>\n",
       "      <td>31.38</td>\n",
       "      <td>71.32</td>\n",
       "      <td>1009.17</td>\n",
       "      <td>60.42</td>\n",
       "      <td>433.44</td>\n",
       "    </tr>\n",
       "    <tr>\n",
       "      <th>4</th>\n",
       "      <td>9.20</td>\n",
       "      <td>40.03</td>\n",
       "      <td>1017.05</td>\n",
       "      <td>92.46</td>\n",
       "      <td>480.38</td>\n",
       "    </tr>\n",
       "  </tbody>\n",
       "</table>\n",
       "</div>"
      ],
      "text/plain": [
       "     # T      V       AP     RH      EP\n",
       "0   8.58  38.38  1021.03  84.37  482.26\n",
       "1  21.79  58.20  1017.21  66.74  446.94\n",
       "2  16.64  48.92  1011.55  78.76  452.56\n",
       "3  31.38  71.32  1009.17  60.42  433.44\n",
       "4   9.20  40.03  1017.05  92.46  480.38"
      ]
     },
     "execution_count": 5,
     "metadata": {},
     "output_type": "execute_result"
    }
   ],
   "source": [
    "train_df.head()"
   ]
  },
  {
   "cell_type": "code",
   "execution_count": 6,
   "metadata": {},
   "outputs": [],
   "source": [
    "del train_df[' EP']"
   ]
  },
  {
   "cell_type": "code",
   "execution_count": 7,
   "metadata": {},
   "outputs": [],
   "source": [
    "test=np.genfromtxt(\"test.csv\",delimiter=\",\")"
   ]
  },
  {
   "cell_type": "code",
   "execution_count": 8,
   "metadata": {},
   "outputs": [],
   "source": [
    "from sklearn import preprocessing"
   ]
  },
  {
   "cell_type": "code",
   "execution_count": 9,
   "metadata": {},
   "outputs": [],
   "source": [
    "scaler=preprocessing.StandardScaler()"
   ]
  },
  {
   "cell_type": "code",
   "execution_count": 10,
   "metadata": {},
   "outputs": [
    {
     "data": {
      "text/plain": [
       "StandardScaler()"
      ]
     },
     "execution_count": 10,
     "metadata": {},
     "output_type": "execute_result"
    }
   ],
   "source": [
    "scaler.fit(train_df)"
   ]
  },
  {
   "cell_type": "code",
   "execution_count": 11,
   "metadata": {},
   "outputs": [],
   "source": [
    "train_scaled=scaler.transform(train_df)"
   ]
  },
  {
   "cell_type": "code",
   "execution_count": 12,
   "metadata": {},
   "outputs": [],
   "source": [
    "test_scaled=scaler.transform(test)"
   ]
  },
  {
   "cell_type": "code",
   "execution_count": 13,
   "metadata": {
    "scrolled": false
   },
   "outputs": [
    {
     "data": {
      "text/html": [
       "<div>\n",
       "<style scoped>\n",
       "    .dataframe tbody tr th:only-of-type {\n",
       "        vertical-align: middle;\n",
       "    }\n",
       "\n",
       "    .dataframe tbody tr th {\n",
       "        vertical-align: top;\n",
       "    }\n",
       "\n",
       "    .dataframe thead th {\n",
       "        text-align: right;\n",
       "    }\n",
       "</style>\n",
       "<table border=\"1\" class=\"dataframe\">\n",
       "  <thead>\n",
       "    <tr style=\"text-align: right;\">\n",
       "      <th></th>\n",
       "      <th># T</th>\n",
       "      <th>V</th>\n",
       "      <th>AP</th>\n",
       "      <th>RH</th>\n",
       "    </tr>\n",
       "  </thead>\n",
       "  <tbody>\n",
       "    <tr>\n",
       "      <th>0</th>\n",
       "      <td>8.58</td>\n",
       "      <td>38.38</td>\n",
       "      <td>1021.03</td>\n",
       "      <td>84.37</td>\n",
       "    </tr>\n",
       "    <tr>\n",
       "      <th>1</th>\n",
       "      <td>21.79</td>\n",
       "      <td>58.20</td>\n",
       "      <td>1017.21</td>\n",
       "      <td>66.74</td>\n",
       "    </tr>\n",
       "    <tr>\n",
       "      <th>2</th>\n",
       "      <td>16.64</td>\n",
       "      <td>48.92</td>\n",
       "      <td>1011.55</td>\n",
       "      <td>78.76</td>\n",
       "    </tr>\n",
       "    <tr>\n",
       "      <th>3</th>\n",
       "      <td>31.38</td>\n",
       "      <td>71.32</td>\n",
       "      <td>1009.17</td>\n",
       "      <td>60.42</td>\n",
       "    </tr>\n",
       "    <tr>\n",
       "      <th>4</th>\n",
       "      <td>9.20</td>\n",
       "      <td>40.03</td>\n",
       "      <td>1017.05</td>\n",
       "      <td>92.46</td>\n",
       "    </tr>\n",
       "  </tbody>\n",
       "</table>\n",
       "</div>"
      ],
      "text/plain": [
       "     # T      V       AP     RH\n",
       "0   8.58  38.38  1021.03  84.37\n",
       "1  21.79  58.20  1017.21  66.74\n",
       "2  16.64  48.92  1011.55  78.76\n",
       "3  31.38  71.32  1009.17  60.42\n",
       "4   9.20  40.03  1017.05  92.46"
      ]
     },
     "execution_count": 13,
     "metadata": {},
     "output_type": "execute_result"
    }
   ],
   "source": [
    "train_df.head()"
   ]
  },
  {
   "cell_type": "code",
   "execution_count": 14,
   "metadata": {},
   "outputs": [],
   "source": [
    "names=train_df.columns"
   ]
  },
  {
   "cell_type": "code",
   "execution_count": 15,
   "metadata": {},
   "outputs": [],
   "source": [
    "index=names\n",
    "df_train=pd.DataFrame(train_scaled,columns=index)"
   ]
  },
  {
   "cell_type": "code",
   "execution_count": 16,
   "metadata": {},
   "outputs": [],
   "source": [
    "index=[' EP']\n",
    "df_y=pd.DataFrame(tr_y,columns=index)"
   ]
  },
  {
   "cell_type": "code",
   "execution_count": 17,
   "metadata": {
    "scrolled": false
   },
   "outputs": [
    {
     "data": {
      "text/html": [
       "<div>\n",
       "<style scoped>\n",
       "    .dataframe tbody tr th:only-of-type {\n",
       "        vertical-align: middle;\n",
       "    }\n",
       "\n",
       "    .dataframe tbody tr th {\n",
       "        vertical-align: top;\n",
       "    }\n",
       "\n",
       "    .dataframe thead th {\n",
       "        text-align: right;\n",
       "    }\n",
       "</style>\n",
       "<table border=\"1\" class=\"dataframe\">\n",
       "  <thead>\n",
       "    <tr style=\"text-align: right;\">\n",
       "      <th></th>\n",
       "      <th># T</th>\n",
       "      <th>V</th>\n",
       "      <th>AP</th>\n",
       "      <th>RH</th>\n",
       "      <th>EP</th>\n",
       "    </tr>\n",
       "  </thead>\n",
       "  <tbody>\n",
       "    <tr>\n",
       "      <th>0</th>\n",
       "      <td>-1.478275</td>\n",
       "      <td>-1.247642</td>\n",
       "      <td>1.302211</td>\n",
       "      <td>0.758625</td>\n",
       "      <td>482.26</td>\n",
       "    </tr>\n",
       "    <tr>\n",
       "      <th>1</th>\n",
       "      <td>0.289012</td>\n",
       "      <td>0.306798</td>\n",
       "      <td>0.661749</td>\n",
       "      <td>-0.446922</td>\n",
       "      <td>446.94</td>\n",
       "    </tr>\n",
       "    <tr>\n",
       "      <th>2</th>\n",
       "      <td>-0.399976</td>\n",
       "      <td>-0.421013</td>\n",
       "      <td>-0.287207</td>\n",
       "      <td>0.375011</td>\n",
       "      <td>452.56</td>\n",
       "    </tr>\n",
       "    <tr>\n",
       "      <th>3</th>\n",
       "      <td>1.572001</td>\n",
       "      <td>1.335770</td>\n",
       "      <td>-0.686238</td>\n",
       "      <td>-0.879086</td>\n",
       "      <td>433.44</td>\n",
       "    </tr>\n",
       "    <tr>\n",
       "      <th>4</th>\n",
       "      <td>-1.395329</td>\n",
       "      <td>-1.118236</td>\n",
       "      <td>0.634923</td>\n",
       "      <td>1.311822</td>\n",
       "      <td>480.38</td>\n",
       "    </tr>\n",
       "    <tr>\n",
       "      <th>5</th>\n",
       "      <td>0.961946</td>\n",
       "      <td>1.171856</td>\n",
       "      <td>0.002845</td>\n",
       "      <td>-1.532803</td>\n",
       "      <td>436.36</td>\n",
       "    </tr>\n",
       "    <tr>\n",
       "      <th>6</th>\n",
       "      <td>-1.357869</td>\n",
       "      <td>-1.057846</td>\n",
       "      <td>1.769982</td>\n",
       "      <td>0.390054</td>\n",
       "      <td>485.36</td>\n",
       "    </tr>\n",
       "    <tr>\n",
       "      <th>7</th>\n",
       "      <td>-1.367234</td>\n",
       "      <td>-0.999810</td>\n",
       "      <td>1.042338</td>\n",
       "      <td>0.609555</td>\n",
       "      <td>481.59</td>\n",
       "    </tr>\n",
       "    <tr>\n",
       "      <th>8</th>\n",
       "      <td>1.525176</td>\n",
       "      <td>1.200090</td>\n",
       "      <td>-0.920962</td>\n",
       "      <td>-0.637019</td>\n",
       "      <td>432.56</td>\n",
       "    </tr>\n",
       "    <tr>\n",
       "      <th>9</th>\n",
       "      <td>-0.185921</td>\n",
       "      <td>0.381304</td>\n",
       "      <td>-0.211760</td>\n",
       "      <td>0.760676</td>\n",
       "      <td>449.48</td>\n",
       "    </tr>\n",
       "  </tbody>\n",
       "</table>\n",
       "</div>"
      ],
      "text/plain": [
       "        # T         V        AP        RH      EP\n",
       "0 -1.478275 -1.247642  1.302211  0.758625  482.26\n",
       "1  0.289012  0.306798  0.661749 -0.446922  446.94\n",
       "2 -0.399976 -0.421013 -0.287207  0.375011  452.56\n",
       "3  1.572001  1.335770 -0.686238 -0.879086  433.44\n",
       "4 -1.395329 -1.118236  0.634923  1.311822  480.38\n",
       "5  0.961946  1.171856  0.002845 -1.532803  436.36\n",
       "6 -1.357869 -1.057846  1.769982  0.390054  485.36\n",
       "7 -1.367234 -0.999810  1.042338  0.609555  481.59\n",
       "8  1.525176  1.200090 -0.920962 -0.637019  432.56\n",
       "9 -0.185921  0.381304 -0.211760  0.760676  449.48"
      ]
     },
     "execution_count": 17,
     "metadata": {},
     "output_type": "execute_result"
    }
   ],
   "source": [
    "df = df_train.join(df_y)\n",
    "df.head(10)"
   ]
  },
  {
   "cell_type": "code",
   "execution_count": 18,
   "metadata": {},
   "outputs": [
    {
     "data": {
      "text/plain": [
       "array([[-1.47827466e+00, -1.24764165e+00,  1.30221067e+00,\n",
       "         7.58624590e-01,  4.82260000e+02],\n",
       "       [ 2.89012041e-01,  3.06797549e-01,  6.61749044e-01,\n",
       "        -4.46921842e-01,  4.46940000e+02],\n",
       "       [-3.99975582e-01, -4.21012529e-01, -2.87207194e-01,\n",
       "         3.75010552e-01,  4.52560000e+02],\n",
       "       ...,\n",
       "       [ 1.36062192e+00,  1.18048335e+00, -6.54382840e-01,\n",
       "        -5.83682640e-01,  4.37650000e+02],\n",
       "       [-4.36097263e-01,  9.29089763e-04,  7.84140927e-01,\n",
       "        -6.59584883e-01,  4.59970000e+02],\n",
       "       [ 1.40209496e+00,  6.07960340e-01, -4.31394890e-01,\n",
       "        -1.73110573e+00,  4.44420000e+02]])"
      ]
     },
     "execution_count": 18,
     "metadata": {},
     "output_type": "execute_result"
    }
   ],
   "source": [
    "train_data=df.values\n",
    "train_data"
   ]
  },
  {
   "cell_type": "code",
   "execution_count": 19,
   "metadata": {},
   "outputs": [],
   "source": [
    "def step_grad(points, learn_rate, M):\n",
    "    r = points.shape[0]\n",
    "    c = points.shape[1]\n",
    "    new_M = np.zeros(c)\n",
    "    \n",
    "    for i in range(r):\n",
    "        x = points[i, 0:c-1]\n",
    "        x = np.append(x, 1)\n",
    "        y = points[i,c-1]\n",
    "        for j in range(c):\n",
    "            new_M[j] += (-2/r) * (y - (M * x).sum()) * x[j]\n",
    "        M = M - (learn_rate * new_M)\n",
    "    return M"
   ]
  },
  {
   "cell_type": "code",
   "execution_count": 20,
   "metadata": {},
   "outputs": [],
   "source": [
    "def gd(points, learn_rate, num_iter):\n",
    "    c = points.shape[1]\n",
    "    M = np.zeros(c)\n",
    "    \n",
    "    for i in range(num_iter):\n",
    "        M = step_grad(points, learn_rate, M)\n",
    "        print(i, \"cost = \", cost(points, M))\n",
    "\n",
    "    return M"
   ]
  },
  {
   "cell_type": "code",
   "execution_count": 21,
   "metadata": {},
   "outputs": [],
   "source": [
    "def cost(points, M):\n",
    "    total_cost = 0\n",
    "    r = points.shape[0]\n",
    "    c = points.shape[1]\n",
    "    \n",
    "    for i in range(r):\n",
    "        x = points[i,0:c-1]\n",
    "        x = np.append(x, 1)\n",
    "        y = points[i,c-1]\n",
    "        total_cost += (y - (M * x).sum()) ** 2  \n",
    "    total_cost = (1/r) * total_cost\n",
    "    return total_cost\n"
   ]
  },
  {
   "cell_type": "code",
   "execution_count": 22,
   "metadata": {},
   "outputs": [],
   "source": [
    "def run():\n",
    "    learning_rate = 0.0001\n",
    "    num_iterations = 500\n",
    "    m = gd(train_data, learning_rate, num_iterations)\n",
    "    \n",
    "    return m[0:train_data.shape[1]-1],m[train_data.shape[1]-1]"
   ]
  },
  {
   "cell_type": "code",
   "execution_count": null,
   "metadata": {},
   "outputs": [
    {
     "name": "stdout",
     "output_type": "stream",
     "text": [
      "0 cost =  27422.391537749892\n",
      "1 cost =  3661.741184229716\n",
      "2 cost =  509.4162439398636\n",
      "3 cost =  90.679865576776\n",
      "4 cost =  34.36609667266653\n",
      "5 cost =  26.298115850695876\n",
      "6 cost =  24.711342779573602\n",
      "7 cost =  24.063822257310964\n",
      "8 cost =  23.60319883249452\n",
      "9 cost =  23.22127102304074\n",
      "10 cost =  22.89527361542579\n",
      "11 cost =  22.615669698410695\n",
      "12 cost =  22.375561062899454\n",
      "13 cost =  22.169300129563187\n",
      "14 cost =  21.99208784322746\n",
      "15 cost =  21.83982674403131\n",
      "16 cost =  21.709004737632025\n",
      "17 cost =  21.59660814698133\n",
      "18 cost =  21.500048515549384\n",
      "19 cost =  21.4171016519018\n",
      "20 cost =  21.34585580381125\n",
      "21 cost =  21.284667512958013\n",
      "22 cost =  21.232123831265003\n",
      "23 cost =  21.187009933797146\n",
      "24 cost =  21.148281318950268\n",
      "25 cost =  21.115039930080364\n",
      "26 cost =  21.086513635387\n",
      "27 cost =  21.062038588616364\n",
      "28 cost =  21.04104406313109\n",
      "29 cost =  21.023039410871657\n",
      "30 cost =  21.007602847529906\n",
      "31 cost =  20.994371807677126\n",
      "32 cost =  20.983034649788788\n",
      "33 cost =  20.973323522101623\n",
      "34 cost =  20.965008226805004\n",
      "35 cost =  20.95789094286603\n",
      "36 cost =  20.951801687365784\n",
      "37 cost =  20.946594412043755\n",
      "38 cost =  20.942143646206222\n",
      "39 cost =  20.93834160958533\n",
      "40 cost =  20.935095729416716\n",
      "41 cost =  20.932326505203083\n",
      "42 cost =  20.929965672531676\n",
      "43 cost =  20.92795462411075\n",
      "44 cost =  20.926243052047152\n",
      "45 cost =  20.92478778040401\n",
      "46 cost =  20.923551761421006\n",
      "47 cost =  20.922503212489175\n",
      "48 cost =  20.921614874182584\n",
      "49 cost =  20.92086337239862\n",
      "50 cost =  20.920228670034515\n",
      "51 cost =  20.919693595657307\n",
      "52 cost =  20.919243438388236\n",
      "53 cost =  20.91886559972177\n",
      "54 cost =  20.91854929430457\n",
      "55 cost =  20.918285292809372\n",
      "56 cost =  20.918065701004537\n",
      "57 cost =  20.917883769942748\n",
      "58 cost =  20.91773373290112\n",
      "59 cost =  20.917610665322986\n",
      "60 cost =  20.917510364528955\n",
      "61 cost =  20.91742924642206\n",
      "62 cost =  20.917364256799363\n",
      "63 cost =  20.917312795216795\n",
      "64 cost =  20.917272649642392\n",
      "65 cost =  20.91724194037932\n",
      "66 cost =  20.91721907195301\n",
      "67 cost =  20.91720269184202\n",
      "68 cost =  20.917191655086757\n",
      "69 cost =  20.91718499394717\n",
      "70 cost =  20.91718189189579\n",
      "71 cost =  20.917181661334862\n",
      "72 cost =  20.91718372450936\n",
      "73 cost =  20.917187597165128\n",
      "74 cost =  20.917192874561216\n",
      "75 cost =  20.917199219503225\n",
      "76 cost =  20.91720635211015\n",
      "77 cost =  20.91721404107057\n",
      "78 cost =  20.917222096169755\n",
      "79 cost =  20.917230361914232\n",
      "80 cost =  20.91723871209008\n",
      "81 cost =  20.917247045127127\n",
      "82 cost =  20.917255280147188\n",
      "83 cost =  20.917263353602145\n",
      "84 cost =  20.917271216418094\n",
      "85 cost =  20.917278831565525\n",
      "86 cost =  20.91728617200332\n",
      "87 cost =  20.91729321893281\n",
      "88 cost =  20.91729996032377\n",
      "89 cost =  20.917306389669033\n",
      "90 cost =  20.917312504933935\n",
      "91 cost =  20.91731830767364\n",
      "92 cost =  20.9173238022926\n",
      "93 cost =  20.91732899542396\n",
      "94 cost =  20.917333895412213\n",
      "95 cost =  20.917338511883187\n",
      "96 cost =  20.917342855387624\n",
      "97 cost =  20.917346937107588\n",
      "98 cost =  20.917350768615876\n",
      "99 cost =  20.9173543616795\n",
      "100 cost =  20.917357728102484\n",
      "101 cost =  20.917360879596988\n",
      "102 cost =  20.917363827685516\n",
      "103 cost =  20.91736658362075\n",
      "104 cost =  20.917369158327798\n",
      "105 cost =  20.917371562358092\n",
      "106 cost =  20.9173738058596\n",
      "107 cost =  20.917375898554695\n",
      "108 cost =  20.917377849728208\n",
      "109 cost =  20.91737966822124\n",
      "110 cost =  20.917381362432504\n",
      "111 cost =  20.917382940320902\n",
      "112 cost =  20.91738440941578\n",
      "113 cost =  20.917385776826066\n",
      "114 cost =  20.9173870492538\n",
      "115 cost =  20.917388233008392\n",
      "116 cost =  20.917389334022428\n",
      "117 cost =  20.917390357867028\n",
      "118 cost =  20.917391309769215\n",
      "119 cost =  20.917392194628217\n",
      "120 cost =  20.917393017031742\n",
      "121 cost =  20.917393781273365\n",
      "122 cost =  20.91739449136725\n",
      "123 cost =  20.917395151065502\n",
      "124 cost =  20.917395763871642\n",
      "125 cost =  20.91739633305675\n",
      "126 cost =  20.91739686167165\n",
      "127 cost =  20.917397352562112\n",
      "128 cost =  20.9173978083807\n",
      "129 cost =  20.917398231598952\n",
      "130 cost =  20.917398624519265\n",
      "131 cost =  20.91739898928566\n",
      "132 cost =  20.917399327893445\n",
      "133 cost =  20.91739964220024\n",
      "134 cost =  20.917399933933993\n",
      "135 cost =  20.91740020470211\n",
      "136 cost =  20.917400455999477\n",
      "137 cost =  20.917400689216034\n",
      "138 cost =  20.91740090564401\n",
      "139 cost =  20.917401106484352\n",
      "140 cost =  20.91740129285348\n",
      "141 cost =  20.917401465788238\n",
      "142 cost =  20.917401626252754\n",
      "143 cost =  20.917401775141485\n",
      "144 cost =  20.917401913286557\n",
      "145 cost =  20.9174020414598\n",
      "146 cost =  20.917402160378625\n",
      "147 cost =  20.91740227070883\n",
      "148 cost =  20.917402373068846\n",
      "149 cost =  20.91740246803288\n",
      "150 cost =  20.917402556133677\n",
      "151 cost =  20.917402637866115\n",
      "152 cost =  20.91740271368968\n",
      "153 cost =  20.91740278403023\n",
      "154 cost =  20.917402849283718\n",
      "155 cost =  20.917402909817216\n",
      "156 cost =  20.917402965972155\n",
      "157 cost =  20.91740301806396\n",
      "158 cost =  20.91740306638652\n",
      "159 cost =  20.917403111212305\n",
      "160 cost =  20.917403152793817\n",
      "161 cost =  20.917403191365725\n",
      "162 cost =  20.91740322714585\n",
      "163 cost =  20.917403260335536\n",
      "164 cost =  20.91740329112256\n",
      "165 cost =  20.91740331968054\n",
      "166 cost =  20.917403346170826\n",
      "167 cost =  20.917403370742928\n",
      "168 cost =  20.917403393535622\n",
      "169 cost =  20.917403414677725\n",
      "170 cost =  20.917403434288772\n",
      "171 cost =  20.91740345247969\n",
      "172 cost =  20.91740346935277\n",
      "173 cost =  20.917403485004222\n",
      "174 cost =  20.917403499521548\n",
      "175 cost =  20.917403512987487\n",
      "176 cost =  20.917403525477955\n",
      "177 cost =  20.917403537063684\n",
      "178 cost =  20.91740354781008\n",
      "179 cost =  20.917403557778112\n",
      "180 cost =  20.917403567024138\n",
      "181 cost =  20.917403575600083\n",
      "182 cost =  20.917403583554872\n",
      "183 cost =  20.917403590933358\n",
      "184 cost =  20.917403597777213\n",
      "185 cost =  20.917403604125365\n",
      "186 cost =  20.917403610013533\n",
      "187 cost =  20.91740361547529\n",
      "188 cost =  20.917403620541116\n",
      "189 cost =  20.91740362523995\n",
      "190 cost =  20.91740362959811\n",
      "191 cost =  20.91740363364094\n",
      "192 cost =  20.91740363739044\n",
      "193 cost =  20.917403640868546\n",
      "194 cost =  20.917403644094513\n",
      "195 cost =  20.91740364708679\n",
      "196 cost =  20.91740364986223\n",
      "197 cost =  20.917403652436658\n",
      "198 cost =  20.917403654824508\n",
      "199 cost =  20.917403657039173\n",
      "200 cost =  20.917403659093498\n",
      "201 cost =  20.91740366099907\n",
      "202 cost =  20.917403662766333\n",
      "203 cost =  20.91740366440584\n",
      "204 cost =  20.917403665926244\n"
     ]
    }
   ],
   "source": [
    "m,c=run()\n"
   ]
  },
  {
   "cell_type": "code",
   "execution_count": null,
   "metadata": {},
   "outputs": [],
   "source": [
    "print(\"m = \", m)\n",
    "print(\"c = \", c)"
   ]
  },
  {
   "cell_type": "code",
   "execution_count": null,
   "metadata": {},
   "outputs": [],
   "source": [
    "def predict(points, m, c):\n",
    "    r = points.shape[0]\n",
    "    pred = np.zeros(r)\n",
    "    \n",
    "    for i in range(r):\n",
    "        X = points[i,:]\n",
    "        pred[i] = (m * X).sum() + c\n",
    "        \n",
    "    return pred"
   ]
  },
  {
   "cell_type": "code",
   "execution_count": null,
   "metadata": {},
   "outputs": [],
   "source": [
    "index=names\n",
    "df_test=pd.DataFrame(test_scaled,columns=index)"
   ]
  },
  {
   "cell_type": "code",
   "execution_count": null,
   "metadata": {},
   "outputs": [],
   "source": [
    "test_data=df_test.values\n",
    "test_data"
   ]
  },
  {
   "cell_type": "code",
   "execution_count": null,
   "metadata": {},
   "outputs": [],
   "source": [
    "predictions = predict(test_data, m, c)"
   ]
  },
  {
   "cell_type": "code",
   "execution_count": null,
   "metadata": {
    "scrolled": true
   },
   "outputs": [],
   "source": [
    "np.savetxt(\"predictions.csv\",predictions,fmt=\"%.5f\")"
   ]
  },
  {
   "cell_type": "code",
   "execution_count": null,
   "metadata": {},
   "outputs": [],
   "source": [
    "predictions"
   ]
  }
 ],
 "metadata": {
  "kernelspec": {
   "display_name": "Python 3",
   "language": "python",
   "name": "python3"
  },
  "language_info": {
   "codemirror_mode": {
    "name": "ipython",
    "version": 3
   },
   "file_extension": ".py",
   "mimetype": "text/x-python",
   "name": "python",
   "nbconvert_exporter": "python",
   "pygments_lexer": "ipython3",
   "version": "3.8.2"
  }
 },
 "nbformat": 4,
 "nbformat_minor": 4
}
