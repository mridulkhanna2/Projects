{
 "cells": [
  {
   "cell_type": "code",
   "execution_count": 701,
   "metadata": {},
   "outputs": [],
   "source": [
    "#importing libraries\n",
    "from selenium import webdriver\n",
    "from selenium.webdriver.common.keys import Keys\n",
    "from selenium.common.exceptions import TimeoutException\n",
    "from selenium.common.exceptions import NoSuchElementException\n",
    "import time\n",
    "\n",
    "#Creating a web driver session\n",
    "driver = webdriver.Chrome(executable_path = 'D:\\Coding Ninja\\Data science & Machine Learning/chromedriver')"
   ]
  },
  {
   "cell_type": "code",
   "execution_count": 702,
   "metadata": {},
   "outputs": [],
   "source": [
    "def login(user,password):\n",
    "    \n",
    "    driver.get('https://www.instagram.com/?hl=en')\n",
    "    time.sleep(10)\n",
    "    us=driver.find_element_by_name(\"username\")\n",
    "    us.send_keys(user)\n",
    "    ps=driver.find_element_by_name(\"password\")\n",
    "    ps.send_keys(password)\n",
    "    bt=driver.find_element_by_xpath(\"//button[contains(@class,'y3zKF')]\")\n",
    "    bt.submit()\n",
    "    time.sleep(10)"
   ]
  },
  {
   "cell_type": "code",
   "execution_count": 177,
   "metadata": {},
   "outputs": [],
   "source": [
    "def verification(x):\n",
    "    sc=driver.find_element_by_name(\"verificationCode\")\n",
    "    sc.send_keys(x)\n",
    "    bt=driver.find_element_by_xpath(\"//button[contains(@class,'y3zKF')]\")\n",
    "    bt.submit()\n",
    "    time.sleep(10)\n",
    "    login_process()"
   ]
  },
  {
   "cell_type": "code",
   "execution_count": 175,
   "metadata": {},
   "outputs": [],
   "source": [
    "def login_process():   \n",
    "    try :\n",
    "        #dont save information\n",
    "        bt=driver.find_element_by_xpath(\"//button[contains(@class,'sqdOP yWX7d    y3zKF     ')]\")\n",
    "        bt.click()\n",
    "    \n",
    "    except NoSuchElementException:\n",
    "        pass\n",
    "    \n",
    "    try:\n",
    "        # dont turn on notification\n",
    "        bt=driver.find_element_by_xpath(\"//button[contains(@class,'aOOlW   HoLwm ')]\")\n",
    "        bt.click()\n",
    "        \n",
    "    except NoSuchElementException:\n",
    "        pass    "
   ]
  },
  {
   "cell_type": "code",
   "execution_count": 703,
   "metadata": {},
   "outputs": [],
   "source": [
    "login(\"mridul_khanna_\",\"Sociallife@22\")"
   ]
  },
  {
   "cell_type": "code",
   "execution_count": 704,
   "metadata": {},
   "outputs": [],
   "source": [
    "verification(\"517434\")"
   ]
  },
  {
   "cell_type": "markdown",
   "metadata": {},
   "source": [
    "### Logged In Successfully"
   ]
  },
  {
   "cell_type": "markdown",
   "metadata": {},
   "source": [
    "## Search"
   ]
  },
  {
   "cell_type": "code",
   "execution_count": 255,
   "metadata": {},
   "outputs": [],
   "source": [
    "def search(text):\n",
    "    search=driver.find_element_by_xpath(\"//div[contains(@class,'LWmhU _0aCwM')]/input\")\n",
    "    search.clear()\n",
    "    search.send_keys(text)\n",
    "    time.sleep(5)\n",
    "    \n",
    "    drop=driver.find_elements_by_class_name(\"Ap253\")\n",
    "    for i in drop:\n",
    "        x=i.text\n",
    "        if x[0] != \"#\":\n",
    "            print(x)"
   ]
  },
  {
   "cell_type": "code",
   "execution_count": 256,
   "metadata": {},
   "outputs": [
    {
     "name": "stdout",
     "output_type": "stream",
     "text": [
      "foodi.buddy\n",
      "food__crushhh___\n",
      "foodrush.recipe\n",
      "yourfoodlab\n",
      "foodzaara\n",
      "ranchi_food_walks\n",
      "food\n",
      "foodie_hub_ranchi\n",
      "foodranchi\n",
      "food.lords\n",
      "foodie.yaar\n",
      "foodboutique16\n",
      "dr.fooditude\n",
      "foodieshraddha\n",
      "itsfoodiebabaji\n",
      "meghnasfoodmagic\n",
      "delhifoodnest\n",
      "food_khokha\n",
      "_foodies_station_\n",
      "thefood.vlogger\n",
      "foodys\n",
      "food._.sustenance\n",
      "fatgirlkitchenchronicle\n",
      "crazy__food___\n",
      "foodnetwork\n",
      "next.food.network\n",
      "all_day_i_think_about_food\n",
      "home_food_recipes_\n",
      "moodiey_foodie\n",
      "foodmerijaan\n",
      "food__o__graphy\n",
      "food_lunatic\n",
      "food_mantraa\n",
      "foodiesince96\n",
      "buzzfeedfood\n",
      "wannabefoodii\n",
      "me_hungry_give_food\n",
      "foodinsider\n",
      "foodis__pyaar\n",
      "foodie_soul05\n",
      "foodbella__\n",
      "delhi_streets_food\n",
      "food.sane\n",
      "street_food_chandigarh\n",
      "foodozers\n",
      "platesofflavor__\n",
      "thisisdelhi\n",
      "foodishlyy\n",
      "FOOD HUT\n",
      "The Food Court\n",
      "gorakhpurfoods\n",
      "food_love_foodie\n",
      "foodmaniacindia\n",
      "Moti Mahal Food Truck, Lalpur, Ranchi\n"
     ]
    }
   ],
   "source": [
    "search(\"food\")"
   ]
  },
  {
   "cell_type": "markdown",
   "metadata": {},
   "source": [
    "## Follow/Unfollow :\n",
    "#### page : So Delhi"
   ]
  },
  {
   "cell_type": "code",
   "execution_count": 257,
   "metadata": {},
   "outputs": [],
   "source": [
    "def open_profile(handle):\n",
    "    search=driver.find_element_by_xpath(\"//div[contains(@class,'LWmhU _0aCwM')]/input\")\n",
    "    search.clear()\n",
    "    search.send_keys(handle)\n",
    "    time.sleep(5)\n",
    "    \n",
    "    so_del=driver.find_element_by_xpath(\"//div[@class='fuqBx']/a\")\n",
    "    so_del.click()"
   ]
  },
  {
   "cell_type": "code",
   "execution_count": 258,
   "metadata": {},
   "outputs": [],
   "source": [
    "open_profile(\"So Delhi\")"
   ]
  },
  {
   "cell_type": "code",
   "execution_count": 262,
   "metadata": {},
   "outputs": [],
   "source": [
    "def follow():\n",
    "    try:\n",
    "        follow=driver.find_element_by_xpath(\"//button[contains(@class,'_5f5mN       jIbKX  _6VtSN     yZn4P   ')]\")\n",
    "        if follow != 'Follow':\n",
    "            follow.click()\n",
    "            print(\"Followed\")\n",
    "    \n",
    "    except NoSuchElementException:\n",
    "        print('Already following')"
   ]
  },
  {
   "cell_type": "code",
   "execution_count": 263,
   "metadata": {},
   "outputs": [
    {
     "name": "stdout",
     "output_type": "stream",
     "text": [
      "Followed\n"
     ]
    }
   ],
   "source": [
    "follow()"
   ]
  },
  {
   "cell_type": "code",
   "execution_count": 264,
   "metadata": {},
   "outputs": [],
   "source": [
    "def unfollow():\n",
    "    try:\n",
    "        unfollow=driver.find_element_by_xpath(\"//button[contains(@class,'_5f5mN    -fzfL     _6VtSN     yZn4P   ')]\")\n",
    "        unfollow.click()\n",
    "        time.sleep(5)\n",
    "\n",
    "        unfollow=driver.find_element_by_xpath(\"//button[contains(@class,'aOOlW -Cab_   ')]\")\n",
    "        if unfollow.text == 'Unfollow':\n",
    "            unfollow.click()\n",
    "            print(\"Unfollowed\")\n",
    "        \n",
    "    except NoSuchElementException:\n",
    "        print('You are not following')"
   ]
  },
  {
   "cell_type": "code",
   "execution_count": 265,
   "metadata": {},
   "outputs": [
    {
     "name": "stdout",
     "output_type": "stream",
     "text": [
      "Unfollowed\n"
     ]
    }
   ],
   "source": [
    "unfollow()"
   ]
  },
  {
   "cell_type": "markdown",
   "metadata": {},
   "source": [
    "## Like/Unlike :"
   ]
  },
  {
   "cell_type": "code",
   "execution_count": 695,
   "metadata": {},
   "outputs": [],
   "source": [
    "def like_post(profile):\n",
    "    open_profile(profile) # calling func to open given profile\n",
    "    time.sleep(5)\n",
    "    driver.maximize_window()\n",
    "    time.sleep(4)\n",
    "    \n",
    "    post=driver.find_element_by_class_name(\"_9AhH0\")\n",
    "    post.click()\n",
    "    time.sleep(4)\n",
    "    \n",
    "    svg=driver.find_elements_by_class_name(\"_8-yf5 \")        \n",
    "    if ((svg[9].get_attribute('aria-label') == 'Like') or (svg[9].get_attribute('aria-label') == 'Unlike')):\n",
    "        x=9\n",
    "    elif ((svg[10].get_attribute('aria-label') == 'Like') or (svg[10].get_attribute('aria-label') == 'Unlike')):\n",
    "        x=10\n",
    "    elif ((svg[11].get_attribute('aria-label') == 'Like') or (svg[11].get_attribute('aria-label') == 'Unlike')):\n",
    "        x=11\n",
    "    elif ((svg[12].get_attribute('aria-label') == 'Like') or (svg[12].get_attribute('aria-label') == 'Unlike')):\n",
    "        x=12\n",
    "    \n",
    "    for i in range(30):\n",
    "        time.sleep(10)\n",
    "        driver.execute_script('window.scrollBy(0,100);')\n",
    "        time.sleep(5)\n",
    "        svg=driver.find_elements_by_class_name(\"_8-yf5 \")\n",
    "        \n",
    "        \n",
    "        if svg[x].get_attribute('aria-label') != 'Unlike':\n",
    "            like=driver.find_element_by_xpath(\"//section[contains(@class,'ltpMr Slqrh')]/span/button\")\n",
    "            like.click()\n",
    "            time.sleep(5)\n",
    "            print(\"Liked post no\",i+1)\n",
    "        else:\n",
    "            print(\"Post no\", i+1 ,\"is already liked by you\")\n",
    "            \n",
    "\n",
    "        next=driver.find_element_by_xpath(\"//a[contains(@class,' _65Bje  coreSpriteRightPaginationArrow')]\")\n",
    "        next.click()\n",
    "        \n",
    "        if (i% 6 == 0):\n",
    "            driver.execute_script('window.scrollBy(0,500);') \n",
    "            time.sleep(5)\n",
    "            \n",
    "            \n",
    "    close=driver.find_element_by_xpath(\"//div[contains(@class,'                    Igw0E     IwRSH      eGOV_         _4EzTm                                                                                  BI4qX            qJPeX            fm1AK   TxciK yiMZG')]/button\")\n",
    "    close.click()"
   ]
  },
  {
   "cell_type": "code",
   "execution_count": null,
   "metadata": {},
   "outputs": [],
   "source": [
    "like_post(\"dilsefoodie\")"
   ]
  },
  {
   "cell_type": "code",
   "execution_count": 698,
   "metadata": {},
   "outputs": [],
   "source": [
    "def unlike_post(profile):\n",
    "    open_profile(profile) # calling func to open given profile\n",
    "    time.sleep(5)\n",
    "    driver.maximize_window()\n",
    "    time.sleep(4)\n",
    "    \n",
    "    post=driver.find_element_by_class_name(\"_9AhH0\")\n",
    "    post.click()\n",
    "    time.sleep(4)\n",
    "    \n",
    "    svg=driver.find_elements_by_class_name(\"_8-yf5 \")        \n",
    "    if ((svg[9].get_attribute('aria-label') == 'Like') or (svg[9].get_attribute('aria-label') == 'Unlike')):\n",
    "        x=9\n",
    "    elif ((svg[10].get_attribute('aria-label') == 'Like') or (svg[10].get_attribute('aria-label') == 'Unlike')):\n",
    "        x=10\n",
    "    elif ((svg[11].get_attribute('aria-label') == 'Like') or (svg[11].get_attribute('aria-label') == 'Unlike')):\n",
    "        x=11\n",
    "    elif ((svg[12].get_attribute('aria-label') == 'Like') or (svg[12].get_attribute('aria-label') == 'Unlike')):\n",
    "        x=12\n",
    "    \n",
    "    for i in range(30):\n",
    "        time.sleep(10)\n",
    "        driver.execute_script('window.scrollBy(0,100);')\n",
    "        time.sleep(5)\n",
    "        svg=driver.find_elements_by_class_name(\"_8-yf5 \")\n",
    "        \n",
    "        \n",
    "        if svg[x].get_attribute('aria-label') == 'Unlike':\n",
    "            like=driver.find_element_by_xpath(\"//section[contains(@class,'ltpMr Slqrh')]/span/button\")\n",
    "            like.click()\n",
    "            time.sleep(5)\n",
    "            print(\"Unliked post no\",i+1)\n",
    "        else:\n",
    "            print(\"Post no\", i+1 ,\"is not liked by you\")\n",
    "            \n",
    "\n",
    "        next=driver.find_element_by_xpath(\"//a[contains(@class,' _65Bje  coreSpriteRightPaginationArrow')]\")\n",
    "        next.click()\n",
    "        \n",
    "        if (i% 6 == 0):\n",
    "            driver.execute_script('window.scrollBy(0,500);') \n",
    "            time.sleep(5)\n",
    "            \n",
    "            \n",
    "    close=driver.find_element_by_xpath(\"//div[contains(@class,'                    Igw0E     IwRSH      eGOV_         _4EzTm                                                                                  BI4qX            qJPeX            fm1AK   TxciK yiMZG')]/button\")\n",
    "    close.click()"
   ]
  },
  {
   "cell_type": "markdown",
   "metadata": {},
   "source": [
    "unlike_post(\"pubityearth\")"
   ]
  },
  {
   "cell_type": "code",
   "execution_count": null,
   "metadata": {},
   "outputs": [],
   "source": []
  },
  {
   "cell_type": "code",
   "execution_count": null,
   "metadata": {},
   "outputs": [],
   "source": []
  },
  {
   "cell_type": "code",
   "execution_count": null,
   "metadata": {},
   "outputs": [],
   "source": []
  },
  {
   "cell_type": "code",
   "execution_count": null,
   "metadata": {},
   "outputs": [],
   "source": []
  },
  {
   "cell_type": "code",
   "execution_count": 601,
   "metadata": {
    "scrolled": true
   },
   "outputs": [
    {
     "data": {
      "text/plain": [
       "'<svg aria-label=\"Comment\" class=\"_8-yf5 \" fill=\"#262626\" height=\"24\" viewBox=\"0 0 48 48\" width=\"24\"><path clip-rule=\"evenodd\" d=\"M47.5 46.1l-2.8-11c1.8-3.3 2.8-7.1 2.8-11.1C47.5 11 37 .5 24 .5S.5 11 .5 24 11 47.5 24 47.5c4 0 7.8-1 11.1-2.8l11 2.8c.8.2 1.6-.6 1.4-1.4zm-3-22.1c0 4-1 7-2.6 10-.2.4-.3.9-.2 1.4l2.1 8.4-8.3-2.1c-.5-.1-1-.1-1.4.2-1.8 1-5.2 2.6-10 2.6-11.4 0-20.6-9.2-20.6-20.5S12.7 3.5 24 3.5 44.5 12.7 44.5 24z\" fill-rule=\"evenodd\"></path></svg>'"
      ]
     },
     "execution_count": 601,
     "metadata": {},
     "output_type": "execute_result"
    }
   ],
   "source": [
    "svg[10].get_attribute('outerHTML')"
   ]
  },
  {
   "cell_type": "code",
   "execution_count": 681,
   "metadata": {},
   "outputs": [
    {
     "name": "stdout",
     "output_type": "stream",
     "text": [
      "Like\n",
      "11\n"
     ]
    }
   ],
   "source": [
    "svg=driver.find_elements_by_class_name(\"_8-yf5 \")\n",
    "print(svg[11].get_attribute('aria-label'))\n",
    "        \n",
    "if ((svg[9].get_attribute('aria-label') == 'Like') or (svg[9].get_attribute('aria-label') == 'Unlike')):\n",
    "    x=9\n",
    "elif ((svg[10].get_attribute('aria-label') == 'Like') or (svg[10].get_attribute('aria-label') == 'Unlike')):\n",
    "    x=10\n",
    "elif ((svg[11].get_attribute('aria-label') == 'Like') or (svg[11].get_attribute('aria-label') == 'Unlike')):\n",
    "    x=11\n",
    "elif ((svg[12].get_attribute('aria-label') == 'Like') or (svg[12].get_attribute('aria-label') == 'Unlike')):\n",
    "    x=12\n",
    "    \n",
    "    \n",
    "print(x)"
   ]
  },
  {
   "cell_type": "code",
   "execution_count": 642,
   "metadata": {},
   "outputs": [
    {
     "ename": "StaleElementReferenceException",
     "evalue": "Message: stale element reference: element is not attached to the page document\n  (Session info: chrome=86.0.4240.111)\n",
     "output_type": "error",
     "traceback": [
      "\u001b[1;31m---------------------------------------------------------------------------\u001b[0m",
      "\u001b[1;31mStaleElementReferenceException\u001b[0m            Traceback (most recent call last)",
      "\u001b[1;32m<ipython-input-642-05d8322e6638>\u001b[0m in \u001b[0;36m<module>\u001b[1;34m\u001b[0m\n\u001b[1;32m----> 1\u001b[1;33m \u001b[0msvg\u001b[0m\u001b[1;33m[\u001b[0m\u001b[1;36m11\u001b[0m\u001b[1;33m]\u001b[0m\u001b[1;33m.\u001b[0m\u001b[0mget_attribute\u001b[0m\u001b[1;33m(\u001b[0m\u001b[1;34m'aria-label'\u001b[0m\u001b[1;33m)\u001b[0m\u001b[1;33m.\u001b[0m\u001b[0msubmit\u001b[0m\u001b[1;33m(\u001b[0m\u001b[1;33m)\u001b[0m\u001b[1;33m\u001b[0m\u001b[1;33m\u001b[0m\u001b[0m\n\u001b[0m",
      "\u001b[1;32mc:\\users\\mridu\\appdata\\local\\programs\\python\\python38-32\\lib\\site-packages\\selenium\\webdriver\\remote\\webelement.py\u001b[0m in \u001b[0;36mget_attribute\u001b[1;34m(self, name)\u001b[0m\n\u001b[0;32m    137\u001b[0m         \u001b[0mattributeValue\u001b[0m \u001b[1;33m=\u001b[0m \u001b[1;34m''\u001b[0m\u001b[1;33m\u001b[0m\u001b[1;33m\u001b[0m\u001b[0m\n\u001b[0;32m    138\u001b[0m         \u001b[1;32mif\u001b[0m \u001b[0mself\u001b[0m\u001b[1;33m.\u001b[0m\u001b[0m_w3c\u001b[0m\u001b[1;33m:\u001b[0m\u001b[1;33m\u001b[0m\u001b[1;33m\u001b[0m\u001b[0m\n\u001b[1;32m--> 139\u001b[1;33m             attributeValue = self.parent.execute_script(\n\u001b[0m\u001b[0;32m    140\u001b[0m                 \u001b[1;34m\"return (%s).apply(null, arguments);\"\u001b[0m \u001b[1;33m%\u001b[0m \u001b[0mgetAttribute_js\u001b[0m\u001b[1;33m,\u001b[0m\u001b[1;33m\u001b[0m\u001b[1;33m\u001b[0m\u001b[0m\n\u001b[0;32m    141\u001b[0m                 self, name)\n",
      "\u001b[1;32mc:\\users\\mridu\\appdata\\local\\programs\\python\\python38-32\\lib\\site-packages\\selenium\\webdriver\\remote\\webdriver.py\u001b[0m in \u001b[0;36mexecute_script\u001b[1;34m(self, script, *args)\u001b[0m\n\u001b[0;32m    632\u001b[0m             \u001b[0mcommand\u001b[0m \u001b[1;33m=\u001b[0m \u001b[0mCommand\u001b[0m\u001b[1;33m.\u001b[0m\u001b[0mEXECUTE_SCRIPT\u001b[0m\u001b[1;33m\u001b[0m\u001b[1;33m\u001b[0m\u001b[0m\n\u001b[0;32m    633\u001b[0m \u001b[1;33m\u001b[0m\u001b[0m\n\u001b[1;32m--> 634\u001b[1;33m         return self.execute(command, {\n\u001b[0m\u001b[0;32m    635\u001b[0m             \u001b[1;34m'script'\u001b[0m\u001b[1;33m:\u001b[0m \u001b[0mscript\u001b[0m\u001b[1;33m,\u001b[0m\u001b[1;33m\u001b[0m\u001b[1;33m\u001b[0m\u001b[0m\n\u001b[0;32m    636\u001b[0m             'args': converted_args})['value']\n",
      "\u001b[1;32mc:\\users\\mridu\\appdata\\local\\programs\\python\\python38-32\\lib\\site-packages\\selenium\\webdriver\\remote\\webdriver.py\u001b[0m in \u001b[0;36mexecute\u001b[1;34m(self, driver_command, params)\u001b[0m\n\u001b[0;32m    319\u001b[0m         \u001b[0mresponse\u001b[0m \u001b[1;33m=\u001b[0m \u001b[0mself\u001b[0m\u001b[1;33m.\u001b[0m\u001b[0mcommand_executor\u001b[0m\u001b[1;33m.\u001b[0m\u001b[0mexecute\u001b[0m\u001b[1;33m(\u001b[0m\u001b[0mdriver_command\u001b[0m\u001b[1;33m,\u001b[0m \u001b[0mparams\u001b[0m\u001b[1;33m)\u001b[0m\u001b[1;33m\u001b[0m\u001b[1;33m\u001b[0m\u001b[0m\n\u001b[0;32m    320\u001b[0m         \u001b[1;32mif\u001b[0m \u001b[0mresponse\u001b[0m\u001b[1;33m:\u001b[0m\u001b[1;33m\u001b[0m\u001b[1;33m\u001b[0m\u001b[0m\n\u001b[1;32m--> 321\u001b[1;33m             \u001b[0mself\u001b[0m\u001b[1;33m.\u001b[0m\u001b[0merror_handler\u001b[0m\u001b[1;33m.\u001b[0m\u001b[0mcheck_response\u001b[0m\u001b[1;33m(\u001b[0m\u001b[0mresponse\u001b[0m\u001b[1;33m)\u001b[0m\u001b[1;33m\u001b[0m\u001b[1;33m\u001b[0m\u001b[0m\n\u001b[0m\u001b[0;32m    322\u001b[0m             response['value'] = self._unwrap_value(\n\u001b[0;32m    323\u001b[0m                 response.get('value', None))\n",
      "\u001b[1;32mc:\\users\\mridu\\appdata\\local\\programs\\python\\python38-32\\lib\\site-packages\\selenium\\webdriver\\remote\\errorhandler.py\u001b[0m in \u001b[0;36mcheck_response\u001b[1;34m(self, response)\u001b[0m\n\u001b[0;32m    240\u001b[0m                 \u001b[0malert_text\u001b[0m \u001b[1;33m=\u001b[0m \u001b[0mvalue\u001b[0m\u001b[1;33m[\u001b[0m\u001b[1;34m'alert'\u001b[0m\u001b[1;33m]\u001b[0m\u001b[1;33m.\u001b[0m\u001b[0mget\u001b[0m\u001b[1;33m(\u001b[0m\u001b[1;34m'text'\u001b[0m\u001b[1;33m)\u001b[0m\u001b[1;33m\u001b[0m\u001b[1;33m\u001b[0m\u001b[0m\n\u001b[0;32m    241\u001b[0m             \u001b[1;32mraise\u001b[0m \u001b[0mexception_class\u001b[0m\u001b[1;33m(\u001b[0m\u001b[0mmessage\u001b[0m\u001b[1;33m,\u001b[0m \u001b[0mscreen\u001b[0m\u001b[1;33m,\u001b[0m \u001b[0mstacktrace\u001b[0m\u001b[1;33m,\u001b[0m \u001b[0malert_text\u001b[0m\u001b[1;33m)\u001b[0m\u001b[1;33m\u001b[0m\u001b[1;33m\u001b[0m\u001b[0m\n\u001b[1;32m--> 242\u001b[1;33m         \u001b[1;32mraise\u001b[0m \u001b[0mexception_class\u001b[0m\u001b[1;33m(\u001b[0m\u001b[0mmessage\u001b[0m\u001b[1;33m,\u001b[0m \u001b[0mscreen\u001b[0m\u001b[1;33m,\u001b[0m \u001b[0mstacktrace\u001b[0m\u001b[1;33m)\u001b[0m\u001b[1;33m\u001b[0m\u001b[1;33m\u001b[0m\u001b[0m\n\u001b[0m\u001b[0;32m    243\u001b[0m \u001b[1;33m\u001b[0m\u001b[0m\n\u001b[0;32m    244\u001b[0m     \u001b[1;32mdef\u001b[0m \u001b[0m_value_or_default\u001b[0m\u001b[1;33m(\u001b[0m\u001b[0mself\u001b[0m\u001b[1;33m,\u001b[0m \u001b[0mobj\u001b[0m\u001b[1;33m,\u001b[0m \u001b[0mkey\u001b[0m\u001b[1;33m,\u001b[0m \u001b[0mdefault\u001b[0m\u001b[1;33m)\u001b[0m\u001b[1;33m:\u001b[0m\u001b[1;33m\u001b[0m\u001b[1;33m\u001b[0m\u001b[0m\n",
      "\u001b[1;31mStaleElementReferenceException\u001b[0m: Message: stale element reference: element is not attached to the page document\n  (Session info: chrome=86.0.4240.111)\n"
     ]
    }
   ],
   "source": [
    "svg[11].get_attribute('aria-label').submit()"
   ]
  },
  {
   "cell_type": "code",
   "execution_count": 620,
   "metadata": {},
   "outputs": [
    {
     "name": "stdout",
     "output_type": "stream",
     "text": [
      "Post no  already liked by you\n"
     ]
    }
   ],
   "source": [
    "svg=driver.find_elements_by_class_name(\"_8-yf5 \")\n",
    "        \n",
    "if svg[9].get_attribute('aria-label') != 'Unlike':\n",
    "    like=driver.find_element_by_xpath(\"//section[contains(@class,'ltpMr Slqrh')]/span/button\")\n",
    "    like.click()\n",
    "    time.sleep(5)\n",
    "    print(\"Liked post no\")\n",
    "else:\n",
    "    print(\"Post no  already liked by you\")"
   ]
  },
  {
   "cell_type": "code",
   "execution_count": 456,
   "metadata": {},
   "outputs": [],
   "source": [
    "close=driver.find_element_by_xpath(\"//div[contains(@class,'                    Igw0E     IwRSH      eGOV_         _4EzTm                                                                                  BI4qX            qJPeX            fm1AK   TxciK yiMZG')]/button\")"
   ]
  },
  {
   "cell_type": "code",
   "execution_count": 457,
   "metadata": {},
   "outputs": [],
   "source": [
    "close.click()"
   ]
  },
  {
   "cell_type": "code",
   "execution_count": 446,
   "metadata": {},
   "outputs": [],
   "source": [
    "like_posts()"
   ]
  },
  {
   "cell_type": "code",
   "execution_count": 387,
   "metadata": {},
   "outputs": [],
   "source": [
    "next=driver.find_element_by_xpath(\"//a[contains(@class,' _65Bje  coreSpriteRightPaginationArrow')]\")"
   ]
  },
  {
   "cell_type": "code",
   "execution_count": 482,
   "metadata": {},
   "outputs": [
    {
     "data": {
      "text/plain": [
       "'<svg aria-label=\"Like\" class=\"_8-yf5 \" fill=\"#262626\" height=\"24\" viewBox=\"0 0 48 48\" width=\"24\"><path d=\"M34.6 6.1c5.7 0 10.4 5.2 10.4 11.5 0 6.8-5.9 11-11.5 16S25 41.3 24 41.9c-1.1-.7-4.7-4-9.5-8.3-5.7-5-11.5-9.2-11.5-16C3 11.3 7.7 6.1 13.4 6.1c4.2 0 6.5 2 8.1 4.3 1.9 2.6 2.2 3.9 2.5 3.9.3 0 .6-1.3 2.5-3.9 1.6-2.3 3.9-4.3 8.1-4.3m0-3c-4.5 0-7.9 1.8-10.6 5.6-2.7-3.7-6.1-5.5-10.6-5.5C6 3.1 0 9.6 0 17.6c0 7.3 5.4 12 10.6 16.5.6.5 1.3 1.1 1.9 1.7l2.3 2c4.4 3.9 6.6 5.9 7.6 6.5.5.3 1.1.5 1.6.5.6 0 1.1-.2 1.6-.5 1-.6 2.8-2.2 7.8-6.8l2-1.8c.7-.6 1.3-1.2 2-1.7C42.7 29.6 48 25 48 17.6c0-8-6-14.5-13.4-14.5z\"></path></svg>'"
      ]
     },
     "execution_count": 482,
     "metadata": {},
     "output_type": "execute_result"
    }
   ],
   "source": []
  },
  {
   "cell_type": "code",
   "execution_count": 366,
   "metadata": {},
   "outputs": [
    {
     "data": {
      "text/plain": [
       "'Next'"
      ]
     },
     "execution_count": 366,
     "metadata": {},
     "output_type": "execute_result"
    }
   ],
   "source": [
    "next.text"
   ]
  },
  {
   "cell_type": "code",
   "execution_count": 397,
   "metadata": {},
   "outputs": [],
   "source": [
    "next.click()"
   ]
  },
  {
   "cell_type": "code",
   "execution_count": 421,
   "metadata": {},
   "outputs": [],
   "source": [
    "like=driver.find_element_by_xpath(\"//section[contains(@class,'ltpMr Slqrh')]/span/button\")"
   ]
  },
  {
   "cell_type": "code",
   "execution_count": 438,
   "metadata": {},
   "outputs": [],
   "source": [
    "like=driver.find_element_by_xpath(\"//section[contains(@class,'ltpMr Slqrh')]/span/button//div/span\")"
   ]
  },
  {
   "cell_type": "code",
   "execution_count": null,
   "metadata": {},
   "outputs": [],
   "source": []
  },
  {
   "cell_type": "code",
   "execution_count": 396,
   "metadata": {
    "scrolled": true
   },
   "outputs": [],
   "source": [
    "like.click()"
   ]
  },
  {
   "cell_type": "code",
   "execution_count": null,
   "metadata": {},
   "outputs": [],
   "source": [
    "like_btn =(By.XPATH, \"//section/span/button\")))\n",
    "    like_btn.click()"
   ]
  },
  {
   "cell_type": "code",
   "execution_count": 597,
   "metadata": {},
   "outputs": [
    {
     "ename": "StaleElementReferenceException",
     "evalue": "Message: stale element reference: element is not attached to the page document\n  (Session info: chrome=86.0.4240.111)\n",
     "output_type": "error",
     "traceback": [
      "\u001b[1;31m---------------------------------------------------------------------------\u001b[0m",
      "\u001b[1;31mStaleElementReferenceException\u001b[0m            Traceback (most recent call last)",
      "\u001b[1;32m<ipython-input-597-a03fc78e5a00>\u001b[0m in \u001b[0;36m<module>\u001b[1;34m\u001b[0m\n\u001b[1;32m----> 1\u001b[1;33m \u001b[0mlike\u001b[0m\u001b[1;33m.\u001b[0m\u001b[0mget_attribute\u001b[0m\u001b[1;33m(\u001b[0m\u001b[1;34m\"outerHTML\"\u001b[0m\u001b[1;33m)\u001b[0m\u001b[1;33m\u001b[0m\u001b[1;33m\u001b[0m\u001b[0m\n\u001b[0m",
      "\u001b[1;32mc:\\users\\mridu\\appdata\\local\\programs\\python\\python38-32\\lib\\site-packages\\selenium\\webdriver\\remote\\webelement.py\u001b[0m in \u001b[0;36mget_attribute\u001b[1;34m(self, name)\u001b[0m\n\u001b[0;32m    137\u001b[0m         \u001b[0mattributeValue\u001b[0m \u001b[1;33m=\u001b[0m \u001b[1;34m''\u001b[0m\u001b[1;33m\u001b[0m\u001b[1;33m\u001b[0m\u001b[0m\n\u001b[0;32m    138\u001b[0m         \u001b[1;32mif\u001b[0m \u001b[0mself\u001b[0m\u001b[1;33m.\u001b[0m\u001b[0m_w3c\u001b[0m\u001b[1;33m:\u001b[0m\u001b[1;33m\u001b[0m\u001b[1;33m\u001b[0m\u001b[0m\n\u001b[1;32m--> 139\u001b[1;33m             attributeValue = self.parent.execute_script(\n\u001b[0m\u001b[0;32m    140\u001b[0m                 \u001b[1;34m\"return (%s).apply(null, arguments);\"\u001b[0m \u001b[1;33m%\u001b[0m \u001b[0mgetAttribute_js\u001b[0m\u001b[1;33m,\u001b[0m\u001b[1;33m\u001b[0m\u001b[1;33m\u001b[0m\u001b[0m\n\u001b[0;32m    141\u001b[0m                 self, name)\n",
      "\u001b[1;32mc:\\users\\mridu\\appdata\\local\\programs\\python\\python38-32\\lib\\site-packages\\selenium\\webdriver\\remote\\webdriver.py\u001b[0m in \u001b[0;36mexecute_script\u001b[1;34m(self, script, *args)\u001b[0m\n\u001b[0;32m    632\u001b[0m             \u001b[0mcommand\u001b[0m \u001b[1;33m=\u001b[0m \u001b[0mCommand\u001b[0m\u001b[1;33m.\u001b[0m\u001b[0mEXECUTE_SCRIPT\u001b[0m\u001b[1;33m\u001b[0m\u001b[1;33m\u001b[0m\u001b[0m\n\u001b[0;32m    633\u001b[0m \u001b[1;33m\u001b[0m\u001b[0m\n\u001b[1;32m--> 634\u001b[1;33m         return self.execute(command, {\n\u001b[0m\u001b[0;32m    635\u001b[0m             \u001b[1;34m'script'\u001b[0m\u001b[1;33m:\u001b[0m \u001b[0mscript\u001b[0m\u001b[1;33m,\u001b[0m\u001b[1;33m\u001b[0m\u001b[1;33m\u001b[0m\u001b[0m\n\u001b[0;32m    636\u001b[0m             'args': converted_args})['value']\n",
      "\u001b[1;32mc:\\users\\mridu\\appdata\\local\\programs\\python\\python38-32\\lib\\site-packages\\selenium\\webdriver\\remote\\webdriver.py\u001b[0m in \u001b[0;36mexecute\u001b[1;34m(self, driver_command, params)\u001b[0m\n\u001b[0;32m    319\u001b[0m         \u001b[0mresponse\u001b[0m \u001b[1;33m=\u001b[0m \u001b[0mself\u001b[0m\u001b[1;33m.\u001b[0m\u001b[0mcommand_executor\u001b[0m\u001b[1;33m.\u001b[0m\u001b[0mexecute\u001b[0m\u001b[1;33m(\u001b[0m\u001b[0mdriver_command\u001b[0m\u001b[1;33m,\u001b[0m \u001b[0mparams\u001b[0m\u001b[1;33m)\u001b[0m\u001b[1;33m\u001b[0m\u001b[1;33m\u001b[0m\u001b[0m\n\u001b[0;32m    320\u001b[0m         \u001b[1;32mif\u001b[0m \u001b[0mresponse\u001b[0m\u001b[1;33m:\u001b[0m\u001b[1;33m\u001b[0m\u001b[1;33m\u001b[0m\u001b[0m\n\u001b[1;32m--> 321\u001b[1;33m             \u001b[0mself\u001b[0m\u001b[1;33m.\u001b[0m\u001b[0merror_handler\u001b[0m\u001b[1;33m.\u001b[0m\u001b[0mcheck_response\u001b[0m\u001b[1;33m(\u001b[0m\u001b[0mresponse\u001b[0m\u001b[1;33m)\u001b[0m\u001b[1;33m\u001b[0m\u001b[1;33m\u001b[0m\u001b[0m\n\u001b[0m\u001b[0;32m    322\u001b[0m             response['value'] = self._unwrap_value(\n\u001b[0;32m    323\u001b[0m                 response.get('value', None))\n",
      "\u001b[1;32mc:\\users\\mridu\\appdata\\local\\programs\\python\\python38-32\\lib\\site-packages\\selenium\\webdriver\\remote\\errorhandler.py\u001b[0m in \u001b[0;36mcheck_response\u001b[1;34m(self, response)\u001b[0m\n\u001b[0;32m    240\u001b[0m                 \u001b[0malert_text\u001b[0m \u001b[1;33m=\u001b[0m \u001b[0mvalue\u001b[0m\u001b[1;33m[\u001b[0m\u001b[1;34m'alert'\u001b[0m\u001b[1;33m]\u001b[0m\u001b[1;33m.\u001b[0m\u001b[0mget\u001b[0m\u001b[1;33m(\u001b[0m\u001b[1;34m'text'\u001b[0m\u001b[1;33m)\u001b[0m\u001b[1;33m\u001b[0m\u001b[1;33m\u001b[0m\u001b[0m\n\u001b[0;32m    241\u001b[0m             \u001b[1;32mraise\u001b[0m \u001b[0mexception_class\u001b[0m\u001b[1;33m(\u001b[0m\u001b[0mmessage\u001b[0m\u001b[1;33m,\u001b[0m \u001b[0mscreen\u001b[0m\u001b[1;33m,\u001b[0m \u001b[0mstacktrace\u001b[0m\u001b[1;33m,\u001b[0m \u001b[0malert_text\u001b[0m\u001b[1;33m)\u001b[0m\u001b[1;33m\u001b[0m\u001b[1;33m\u001b[0m\u001b[0m\n\u001b[1;32m--> 242\u001b[1;33m         \u001b[1;32mraise\u001b[0m \u001b[0mexception_class\u001b[0m\u001b[1;33m(\u001b[0m\u001b[0mmessage\u001b[0m\u001b[1;33m,\u001b[0m \u001b[0mscreen\u001b[0m\u001b[1;33m,\u001b[0m \u001b[0mstacktrace\u001b[0m\u001b[1;33m)\u001b[0m\u001b[1;33m\u001b[0m\u001b[1;33m\u001b[0m\u001b[0m\n\u001b[0m\u001b[0;32m    243\u001b[0m \u001b[1;33m\u001b[0m\u001b[0m\n\u001b[0;32m    244\u001b[0m     \u001b[1;32mdef\u001b[0m \u001b[0m_value_or_default\u001b[0m\u001b[1;33m(\u001b[0m\u001b[0mself\u001b[0m\u001b[1;33m,\u001b[0m \u001b[0mobj\u001b[0m\u001b[1;33m,\u001b[0m \u001b[0mkey\u001b[0m\u001b[1;33m,\u001b[0m \u001b[0mdefault\u001b[0m\u001b[1;33m)\u001b[0m\u001b[1;33m:\u001b[0m\u001b[1;33m\u001b[0m\u001b[1;33m\u001b[0m\u001b[0m\n",
      "\u001b[1;31mStaleElementReferenceException\u001b[0m: Message: stale element reference: element is not attached to the page document\n  (Session info: chrome=86.0.4240.111)\n"
     ]
    }
   ],
   "source": [
    "like.get_attribute(\"outerHTML\")"
   ]
  },
  {
   "cell_type": "code",
   "execution_count": 344,
   "metadata": {},
   "outputs": [
    {
     "data": {
      "text/plain": [
       "'Options'"
      ]
     },
     "execution_count": 344,
     "metadata": {},
     "output_type": "execute_result"
    }
   ],
   "source": [
    "like.get_attribute('aria-label')"
   ]
  },
  {
   "cell_type": "code",
   "execution_count": 299,
   "metadata": {},
   "outputs": [],
   "source": [
    "like(\"dilsefoodie\")"
   ]
  },
  {
   "cell_type": "code",
   "execution_count": 311,
   "metadata": {},
   "outputs": [],
   "source": [
    "driver.execute_script('window.scrollBy(0,600);') \n",
    "time.sleep(3)"
   ]
  },
  {
   "cell_type": "code",
   "execution_count": 419,
   "metadata": {},
   "outputs": [],
   "source": [
    "post=driver.find_element_by_class_name(\"_9AhH0\")"
   ]
  },
  {
   "cell_type": "code",
   "execution_count": 420,
   "metadata": {},
   "outputs": [],
   "source": [
    "post.click()"
   ]
  },
  {
   "cell_type": "code",
   "execution_count": 310,
   "metadata": {},
   "outputs": [
    {
     "ename": "ElementClickInterceptedException",
     "evalue": "Message: element click intercepted: Element <div class=\"_9AhH0\"></div> is not clickable at point (639, 147). Other element would receive the click: <video class=\"tWeCl\" controls=\"\" controlslist=\"nodownload\" playsinline=\"\" poster=\"https://scontent-bom1-2.cdninstagram.com/v/t51.2885-15/e35/122327422_713279722610847_5014941201968056798_n.jpg?_nc_ht=scontent-bom1-2.cdninstagram.com&amp;_nc_cat=1&amp;_nc_ohc=d75AOJO0C60AX98RAFv&amp;_nc_tp=18&amp;oh=6870a80e4a9d0878be6a57b05936540f&amp;oe=5F93D203\" preload=\"metadata\" type=\"video/mp4\" src=\"https://scontent-bom1-1.cdninstagram.com/v/t50.2886-16/10000000_418330125822146_4499612417762372564_n.mp4?_nc_ht=scontent-bom1-1.cdninstagram.com&amp;_nc_cat=102&amp;_nc_ohc=WK4HZ6EPq1IAX9Cl2bn&amp;oe=5F939834&amp;oh=664439dc090450cb7555583d7800455b\" loop=\"\"></video>\n  (Session info: chrome=86.0.4240.111)\n",
     "output_type": "error",
     "traceback": [
      "\u001b[1;31m---------------------------------------------------------------------------\u001b[0m",
      "\u001b[1;31mElementClickInterceptedException\u001b[0m          Traceback (most recent call last)",
      "\u001b[1;32m<ipython-input-310-cf1d4126fa03>\u001b[0m in \u001b[0;36m<module>\u001b[1;34m\u001b[0m\n\u001b[0;32m      1\u001b[0m \u001b[1;32mfor\u001b[0m \u001b[0mi\u001b[0m \u001b[1;32min\u001b[0m \u001b[0mpost\u001b[0m\u001b[1;33m:\u001b[0m\u001b[1;33m\u001b[0m\u001b[1;33m\u001b[0m\u001b[0m\n\u001b[1;32m----> 2\u001b[1;33m     \u001b[0mi\u001b[0m\u001b[1;33m.\u001b[0m\u001b[0mclick\u001b[0m\u001b[1;33m(\u001b[0m\u001b[1;33m)\u001b[0m\u001b[1;33m\u001b[0m\u001b[1;33m\u001b[0m\u001b[0m\n\u001b[0m\u001b[0;32m      3\u001b[0m \u001b[1;31m#     like=driver.find_element_by_xpath(\"//button[contains(@class,'wpO6b ')]\")\u001b[0m\u001b[1;33m\u001b[0m\u001b[1;33m\u001b[0m\u001b[1;33m\u001b[0m\u001b[0m\n\u001b[0;32m      4\u001b[0m \u001b[1;31m#     like.click()\u001b[0m\u001b[1;33m\u001b[0m\u001b[1;33m\u001b[0m\u001b[1;33m\u001b[0m\u001b[0m\n\u001b[0;32m      5\u001b[0m     \u001b[0mtime\u001b[0m\u001b[1;33m.\u001b[0m\u001b[0msleep\u001b[0m\u001b[1;33m(\u001b[0m\u001b[1;36m10\u001b[0m\u001b[1;33m)\u001b[0m\u001b[1;33m\u001b[0m\u001b[1;33m\u001b[0m\u001b[0m\n",
      "\u001b[1;32mc:\\users\\mridu\\appdata\\local\\programs\\python\\python38-32\\lib\\site-packages\\selenium\\webdriver\\remote\\webelement.py\u001b[0m in \u001b[0;36mclick\u001b[1;34m(self)\u001b[0m\n\u001b[0;32m     78\u001b[0m     \u001b[1;32mdef\u001b[0m \u001b[0mclick\u001b[0m\u001b[1;33m(\u001b[0m\u001b[0mself\u001b[0m\u001b[1;33m)\u001b[0m\u001b[1;33m:\u001b[0m\u001b[1;33m\u001b[0m\u001b[1;33m\u001b[0m\u001b[0m\n\u001b[0;32m     79\u001b[0m         \u001b[1;34m\"\"\"Clicks the element.\"\"\"\u001b[0m\u001b[1;33m\u001b[0m\u001b[1;33m\u001b[0m\u001b[0m\n\u001b[1;32m---> 80\u001b[1;33m         \u001b[0mself\u001b[0m\u001b[1;33m.\u001b[0m\u001b[0m_execute\u001b[0m\u001b[1;33m(\u001b[0m\u001b[0mCommand\u001b[0m\u001b[1;33m.\u001b[0m\u001b[0mCLICK_ELEMENT\u001b[0m\u001b[1;33m)\u001b[0m\u001b[1;33m\u001b[0m\u001b[1;33m\u001b[0m\u001b[0m\n\u001b[0m\u001b[0;32m     81\u001b[0m \u001b[1;33m\u001b[0m\u001b[0m\n\u001b[0;32m     82\u001b[0m     \u001b[1;32mdef\u001b[0m \u001b[0msubmit\u001b[0m\u001b[1;33m(\u001b[0m\u001b[0mself\u001b[0m\u001b[1;33m)\u001b[0m\u001b[1;33m:\u001b[0m\u001b[1;33m\u001b[0m\u001b[1;33m\u001b[0m\u001b[0m\n",
      "\u001b[1;32mc:\\users\\mridu\\appdata\\local\\programs\\python\\python38-32\\lib\\site-packages\\selenium\\webdriver\\remote\\webelement.py\u001b[0m in \u001b[0;36m_execute\u001b[1;34m(self, command, params)\u001b[0m\n\u001b[0;32m    631\u001b[0m             \u001b[0mparams\u001b[0m \u001b[1;33m=\u001b[0m \u001b[1;33m{\u001b[0m\u001b[1;33m}\u001b[0m\u001b[1;33m\u001b[0m\u001b[1;33m\u001b[0m\u001b[0m\n\u001b[0;32m    632\u001b[0m         \u001b[0mparams\u001b[0m\u001b[1;33m[\u001b[0m\u001b[1;34m'id'\u001b[0m\u001b[1;33m]\u001b[0m \u001b[1;33m=\u001b[0m \u001b[0mself\u001b[0m\u001b[1;33m.\u001b[0m\u001b[0m_id\u001b[0m\u001b[1;33m\u001b[0m\u001b[1;33m\u001b[0m\u001b[0m\n\u001b[1;32m--> 633\u001b[1;33m         \u001b[1;32mreturn\u001b[0m \u001b[0mself\u001b[0m\u001b[1;33m.\u001b[0m\u001b[0m_parent\u001b[0m\u001b[1;33m.\u001b[0m\u001b[0mexecute\u001b[0m\u001b[1;33m(\u001b[0m\u001b[0mcommand\u001b[0m\u001b[1;33m,\u001b[0m \u001b[0mparams\u001b[0m\u001b[1;33m)\u001b[0m\u001b[1;33m\u001b[0m\u001b[1;33m\u001b[0m\u001b[0m\n\u001b[0m\u001b[0;32m    634\u001b[0m \u001b[1;33m\u001b[0m\u001b[0m\n\u001b[0;32m    635\u001b[0m     \u001b[1;32mdef\u001b[0m \u001b[0mfind_element\u001b[0m\u001b[1;33m(\u001b[0m\u001b[0mself\u001b[0m\u001b[1;33m,\u001b[0m \u001b[0mby\u001b[0m\u001b[1;33m=\u001b[0m\u001b[0mBy\u001b[0m\u001b[1;33m.\u001b[0m\u001b[0mID\u001b[0m\u001b[1;33m,\u001b[0m \u001b[0mvalue\u001b[0m\u001b[1;33m=\u001b[0m\u001b[1;32mNone\u001b[0m\u001b[1;33m)\u001b[0m\u001b[1;33m:\u001b[0m\u001b[1;33m\u001b[0m\u001b[1;33m\u001b[0m\u001b[0m\n",
      "\u001b[1;32mc:\\users\\mridu\\appdata\\local\\programs\\python\\python38-32\\lib\\site-packages\\selenium\\webdriver\\remote\\webdriver.py\u001b[0m in \u001b[0;36mexecute\u001b[1;34m(self, driver_command, params)\u001b[0m\n\u001b[0;32m    319\u001b[0m         \u001b[0mresponse\u001b[0m \u001b[1;33m=\u001b[0m \u001b[0mself\u001b[0m\u001b[1;33m.\u001b[0m\u001b[0mcommand_executor\u001b[0m\u001b[1;33m.\u001b[0m\u001b[0mexecute\u001b[0m\u001b[1;33m(\u001b[0m\u001b[0mdriver_command\u001b[0m\u001b[1;33m,\u001b[0m \u001b[0mparams\u001b[0m\u001b[1;33m)\u001b[0m\u001b[1;33m\u001b[0m\u001b[1;33m\u001b[0m\u001b[0m\n\u001b[0;32m    320\u001b[0m         \u001b[1;32mif\u001b[0m \u001b[0mresponse\u001b[0m\u001b[1;33m:\u001b[0m\u001b[1;33m\u001b[0m\u001b[1;33m\u001b[0m\u001b[0m\n\u001b[1;32m--> 321\u001b[1;33m             \u001b[0mself\u001b[0m\u001b[1;33m.\u001b[0m\u001b[0merror_handler\u001b[0m\u001b[1;33m.\u001b[0m\u001b[0mcheck_response\u001b[0m\u001b[1;33m(\u001b[0m\u001b[0mresponse\u001b[0m\u001b[1;33m)\u001b[0m\u001b[1;33m\u001b[0m\u001b[1;33m\u001b[0m\u001b[0m\n\u001b[0m\u001b[0;32m    322\u001b[0m             response['value'] = self._unwrap_value(\n\u001b[0;32m    323\u001b[0m                 response.get('value', None))\n",
      "\u001b[1;32mc:\\users\\mridu\\appdata\\local\\programs\\python\\python38-32\\lib\\site-packages\\selenium\\webdriver\\remote\\errorhandler.py\u001b[0m in \u001b[0;36mcheck_response\u001b[1;34m(self, response)\u001b[0m\n\u001b[0;32m    240\u001b[0m                 \u001b[0malert_text\u001b[0m \u001b[1;33m=\u001b[0m \u001b[0mvalue\u001b[0m\u001b[1;33m[\u001b[0m\u001b[1;34m'alert'\u001b[0m\u001b[1;33m]\u001b[0m\u001b[1;33m.\u001b[0m\u001b[0mget\u001b[0m\u001b[1;33m(\u001b[0m\u001b[1;34m'text'\u001b[0m\u001b[1;33m)\u001b[0m\u001b[1;33m\u001b[0m\u001b[1;33m\u001b[0m\u001b[0m\n\u001b[0;32m    241\u001b[0m             \u001b[1;32mraise\u001b[0m \u001b[0mexception_class\u001b[0m\u001b[1;33m(\u001b[0m\u001b[0mmessage\u001b[0m\u001b[1;33m,\u001b[0m \u001b[0mscreen\u001b[0m\u001b[1;33m,\u001b[0m \u001b[0mstacktrace\u001b[0m\u001b[1;33m,\u001b[0m \u001b[0malert_text\u001b[0m\u001b[1;33m)\u001b[0m\u001b[1;33m\u001b[0m\u001b[1;33m\u001b[0m\u001b[0m\n\u001b[1;32m--> 242\u001b[1;33m         \u001b[1;32mraise\u001b[0m \u001b[0mexception_class\u001b[0m\u001b[1;33m(\u001b[0m\u001b[0mmessage\u001b[0m\u001b[1;33m,\u001b[0m \u001b[0mscreen\u001b[0m\u001b[1;33m,\u001b[0m \u001b[0mstacktrace\u001b[0m\u001b[1;33m)\u001b[0m\u001b[1;33m\u001b[0m\u001b[1;33m\u001b[0m\u001b[0m\n\u001b[0m\u001b[0;32m    243\u001b[0m \u001b[1;33m\u001b[0m\u001b[0m\n\u001b[0;32m    244\u001b[0m     \u001b[1;32mdef\u001b[0m \u001b[0m_value_or_default\u001b[0m\u001b[1;33m(\u001b[0m\u001b[0mself\u001b[0m\u001b[1;33m,\u001b[0m \u001b[0mobj\u001b[0m\u001b[1;33m,\u001b[0m \u001b[0mkey\u001b[0m\u001b[1;33m,\u001b[0m \u001b[0mdefault\u001b[0m\u001b[1;33m)\u001b[0m\u001b[1;33m:\u001b[0m\u001b[1;33m\u001b[0m\u001b[1;33m\u001b[0m\u001b[0m\n",
      "\u001b[1;31mElementClickInterceptedException\u001b[0m: Message: element click intercepted: Element <div class=\"_9AhH0\"></div> is not clickable at point (639, 147). Other element would receive the click: <video class=\"tWeCl\" controls=\"\" controlslist=\"nodownload\" playsinline=\"\" poster=\"https://scontent-bom1-2.cdninstagram.com/v/t51.2885-15/e35/122327422_713279722610847_5014941201968056798_n.jpg?_nc_ht=scontent-bom1-2.cdninstagram.com&amp;_nc_cat=1&amp;_nc_ohc=d75AOJO0C60AX98RAFv&amp;_nc_tp=18&amp;oh=6870a80e4a9d0878be6a57b05936540f&amp;oe=5F93D203\" preload=\"metadata\" type=\"video/mp4\" src=\"https://scontent-bom1-1.cdninstagram.com/v/t50.2886-16/10000000_418330125822146_4499612417762372564_n.mp4?_nc_ht=scontent-bom1-1.cdninstagram.com&amp;_nc_cat=102&amp;_nc_ohc=WK4HZ6EPq1IAX9Cl2bn&amp;oe=5F939834&amp;oh=664439dc090450cb7555583d7800455b\" loop=\"\"></video>\n  (Session info: chrome=86.0.4240.111)\n"
     ]
    }
   ],
   "source": [
    "for i in post:\n",
    "    i.click()\n",
    "#     like=driver.find_element_by_xpath(\"//button[contains(@class,'wpO6b ')]\")\n",
    "#     like.click()\n",
    "    time.sleep(10)"
   ]
  },
  {
   "cell_type": "code",
   "execution_count": 288,
   "metadata": {},
   "outputs": [
    {
     "ename": "NoSuchElementException",
     "evalue": "Message: no such element: Unable to locate element: {\"method\":\"xpath\",\"selector\":\"//button[contains(@class,'wpO6b ')]/div/span/svg/path\"}\n  (Session info: chrome=86.0.4240.111)\n",
     "output_type": "error",
     "traceback": [
      "\u001b[1;31m---------------------------------------------------------------------------\u001b[0m",
      "\u001b[1;31mNoSuchElementException\u001b[0m                    Traceback (most recent call last)",
      "\u001b[1;32m<ipython-input-288-d57e9dad1e67>\u001b[0m in \u001b[0;36m<module>\u001b[1;34m\u001b[0m\n\u001b[1;32m----> 1\u001b[1;33m \u001b[0mlike\u001b[0m\u001b[1;33m=\u001b[0m\u001b[0mdriver\u001b[0m\u001b[1;33m.\u001b[0m\u001b[0mfind_element_by_xpath\u001b[0m\u001b[1;33m(\u001b[0m\u001b[1;34m\"//button[contains(@class,'wpO6b ')]/div/span/svg/path\"\u001b[0m\u001b[1;33m)\u001b[0m\u001b[1;33m\u001b[0m\u001b[1;33m\u001b[0m\u001b[0m\n\u001b[0m",
      "\u001b[1;32mc:\\users\\mridu\\appdata\\local\\programs\\python\\python38-32\\lib\\site-packages\\selenium\\webdriver\\remote\\webdriver.py\u001b[0m in \u001b[0;36mfind_element_by_xpath\u001b[1;34m(self, xpath)\u001b[0m\n\u001b[0;32m    392\u001b[0m             \u001b[0melement\u001b[0m \u001b[1;33m=\u001b[0m \u001b[0mdriver\u001b[0m\u001b[1;33m.\u001b[0m\u001b[0mfind_element_by_xpath\u001b[0m\u001b[1;33m(\u001b[0m\u001b[1;34m'//div/td[1]'\u001b[0m\u001b[1;33m)\u001b[0m\u001b[1;33m\u001b[0m\u001b[1;33m\u001b[0m\u001b[0m\n\u001b[0;32m    393\u001b[0m         \"\"\"\n\u001b[1;32m--> 394\u001b[1;33m         \u001b[1;32mreturn\u001b[0m \u001b[0mself\u001b[0m\u001b[1;33m.\u001b[0m\u001b[0mfind_element\u001b[0m\u001b[1;33m(\u001b[0m\u001b[0mby\u001b[0m\u001b[1;33m=\u001b[0m\u001b[0mBy\u001b[0m\u001b[1;33m.\u001b[0m\u001b[0mXPATH\u001b[0m\u001b[1;33m,\u001b[0m \u001b[0mvalue\u001b[0m\u001b[1;33m=\u001b[0m\u001b[0mxpath\u001b[0m\u001b[1;33m)\u001b[0m\u001b[1;33m\u001b[0m\u001b[1;33m\u001b[0m\u001b[0m\n\u001b[0m\u001b[0;32m    395\u001b[0m \u001b[1;33m\u001b[0m\u001b[0m\n\u001b[0;32m    396\u001b[0m     \u001b[1;32mdef\u001b[0m \u001b[0mfind_elements_by_xpath\u001b[0m\u001b[1;33m(\u001b[0m\u001b[0mself\u001b[0m\u001b[1;33m,\u001b[0m \u001b[0mxpath\u001b[0m\u001b[1;33m)\u001b[0m\u001b[1;33m:\u001b[0m\u001b[1;33m\u001b[0m\u001b[1;33m\u001b[0m\u001b[0m\n",
      "\u001b[1;32mc:\\users\\mridu\\appdata\\local\\programs\\python\\python38-32\\lib\\site-packages\\selenium\\webdriver\\remote\\webdriver.py\u001b[0m in \u001b[0;36mfind_element\u001b[1;34m(self, by, value)\u001b[0m\n\u001b[0;32m    974\u001b[0m                 \u001b[0mby\u001b[0m \u001b[1;33m=\u001b[0m \u001b[0mBy\u001b[0m\u001b[1;33m.\u001b[0m\u001b[0mCSS_SELECTOR\u001b[0m\u001b[1;33m\u001b[0m\u001b[1;33m\u001b[0m\u001b[0m\n\u001b[0;32m    975\u001b[0m                 \u001b[0mvalue\u001b[0m \u001b[1;33m=\u001b[0m \u001b[1;34m'[name=\"%s\"]'\u001b[0m \u001b[1;33m%\u001b[0m \u001b[0mvalue\u001b[0m\u001b[1;33m\u001b[0m\u001b[1;33m\u001b[0m\u001b[0m\n\u001b[1;32m--> 976\u001b[1;33m         return self.execute(Command.FIND_ELEMENT, {\n\u001b[0m\u001b[0;32m    977\u001b[0m             \u001b[1;34m'using'\u001b[0m\u001b[1;33m:\u001b[0m \u001b[0mby\u001b[0m\u001b[1;33m,\u001b[0m\u001b[1;33m\u001b[0m\u001b[1;33m\u001b[0m\u001b[0m\n\u001b[0;32m    978\u001b[0m             'value': value})['value']\n",
      "\u001b[1;32mc:\\users\\mridu\\appdata\\local\\programs\\python\\python38-32\\lib\\site-packages\\selenium\\webdriver\\remote\\webdriver.py\u001b[0m in \u001b[0;36mexecute\u001b[1;34m(self, driver_command, params)\u001b[0m\n\u001b[0;32m    319\u001b[0m         \u001b[0mresponse\u001b[0m \u001b[1;33m=\u001b[0m \u001b[0mself\u001b[0m\u001b[1;33m.\u001b[0m\u001b[0mcommand_executor\u001b[0m\u001b[1;33m.\u001b[0m\u001b[0mexecute\u001b[0m\u001b[1;33m(\u001b[0m\u001b[0mdriver_command\u001b[0m\u001b[1;33m,\u001b[0m \u001b[0mparams\u001b[0m\u001b[1;33m)\u001b[0m\u001b[1;33m\u001b[0m\u001b[1;33m\u001b[0m\u001b[0m\n\u001b[0;32m    320\u001b[0m         \u001b[1;32mif\u001b[0m \u001b[0mresponse\u001b[0m\u001b[1;33m:\u001b[0m\u001b[1;33m\u001b[0m\u001b[1;33m\u001b[0m\u001b[0m\n\u001b[1;32m--> 321\u001b[1;33m             \u001b[0mself\u001b[0m\u001b[1;33m.\u001b[0m\u001b[0merror_handler\u001b[0m\u001b[1;33m.\u001b[0m\u001b[0mcheck_response\u001b[0m\u001b[1;33m(\u001b[0m\u001b[0mresponse\u001b[0m\u001b[1;33m)\u001b[0m\u001b[1;33m\u001b[0m\u001b[1;33m\u001b[0m\u001b[0m\n\u001b[0m\u001b[0;32m    322\u001b[0m             response['value'] = self._unwrap_value(\n\u001b[0;32m    323\u001b[0m                 response.get('value', None))\n",
      "\u001b[1;32mc:\\users\\mridu\\appdata\\local\\programs\\python\\python38-32\\lib\\site-packages\\selenium\\webdriver\\remote\\errorhandler.py\u001b[0m in \u001b[0;36mcheck_response\u001b[1;34m(self, response)\u001b[0m\n\u001b[0;32m    240\u001b[0m                 \u001b[0malert_text\u001b[0m \u001b[1;33m=\u001b[0m \u001b[0mvalue\u001b[0m\u001b[1;33m[\u001b[0m\u001b[1;34m'alert'\u001b[0m\u001b[1;33m]\u001b[0m\u001b[1;33m.\u001b[0m\u001b[0mget\u001b[0m\u001b[1;33m(\u001b[0m\u001b[1;34m'text'\u001b[0m\u001b[1;33m)\u001b[0m\u001b[1;33m\u001b[0m\u001b[1;33m\u001b[0m\u001b[0m\n\u001b[0;32m    241\u001b[0m             \u001b[1;32mraise\u001b[0m \u001b[0mexception_class\u001b[0m\u001b[1;33m(\u001b[0m\u001b[0mmessage\u001b[0m\u001b[1;33m,\u001b[0m \u001b[0mscreen\u001b[0m\u001b[1;33m,\u001b[0m \u001b[0mstacktrace\u001b[0m\u001b[1;33m,\u001b[0m \u001b[0malert_text\u001b[0m\u001b[1;33m)\u001b[0m\u001b[1;33m\u001b[0m\u001b[1;33m\u001b[0m\u001b[0m\n\u001b[1;32m--> 242\u001b[1;33m         \u001b[1;32mraise\u001b[0m \u001b[0mexception_class\u001b[0m\u001b[1;33m(\u001b[0m\u001b[0mmessage\u001b[0m\u001b[1;33m,\u001b[0m \u001b[0mscreen\u001b[0m\u001b[1;33m,\u001b[0m \u001b[0mstacktrace\u001b[0m\u001b[1;33m)\u001b[0m\u001b[1;33m\u001b[0m\u001b[1;33m\u001b[0m\u001b[0m\n\u001b[0m\u001b[0;32m    243\u001b[0m \u001b[1;33m\u001b[0m\u001b[0m\n\u001b[0;32m    244\u001b[0m     \u001b[1;32mdef\u001b[0m \u001b[0m_value_or_default\u001b[0m\u001b[1;33m(\u001b[0m\u001b[0mself\u001b[0m\u001b[1;33m,\u001b[0m \u001b[0mobj\u001b[0m\u001b[1;33m,\u001b[0m \u001b[0mkey\u001b[0m\u001b[1;33m,\u001b[0m \u001b[0mdefault\u001b[0m\u001b[1;33m)\u001b[0m\u001b[1;33m:\u001b[0m\u001b[1;33m\u001b[0m\u001b[1;33m\u001b[0m\u001b[0m\n",
      "\u001b[1;31mNoSuchElementException\u001b[0m: Message: no such element: Unable to locate element: {\"method\":\"xpath\",\"selector\":\"//button[contains(@class,'wpO6b ')]/div/span/svg/path\"}\n  (Session info: chrome=86.0.4240.111)\n"
     ]
    }
   ],
   "source": [
    "like=driver.find_element_by_xpath(\"//button[contains(@class,'wpO6b ')]/div/span/svg/path\")"
   ]
  },
  {
   "cell_type": "code",
   "execution_count": 144,
   "metadata": {},
   "outputs": [
    {
     "ename": "IndexError",
     "evalue": "list index out of range",
     "output_type": "error",
     "traceback": [
      "\u001b[1;31m---------------------------------------------------------------------------\u001b[0m",
      "\u001b[1;31mIndexError\u001b[0m                                Traceback (most recent call last)",
      "\u001b[1;32m<ipython-input-144-775463757f40>\u001b[0m in \u001b[0;36m<module>\u001b[1;34m\u001b[0m\n\u001b[1;32m----> 1\u001b[1;33m \u001b[0mlike\u001b[0m\u001b[1;33m[\u001b[0m\u001b[1;36m0\u001b[0m\u001b[1;33m]\u001b[0m\u001b[1;33m.\u001b[0m\u001b[0mclick\u001b[0m\u001b[1;33m(\u001b[0m\u001b[1;33m)\u001b[0m\u001b[1;33m\u001b[0m\u001b[1;33m\u001b[0m\u001b[0m\n\u001b[0m",
      "\u001b[1;31mIndexError\u001b[0m: list index out of range"
     ]
    }
   ],
   "source": [
    "like[0].click()"
   ]
  },
  {
   "cell_type": "code",
   "execution_count": null,
   "metadata": {},
   "outputs": [],
   "source": [
    "def Like_post(profile) :\n",
    "    driver.get('https://www.instagram.com/')\n",
    "    open_profile(profile) # calling func to open given profile\n",
    "    time.sleep(4)\n",
    "    driver.maximize_window() # maximizing window so more posts can be loaded\n",
    "    driver.execute_script('window.scrollTo(0, 6000);') # Scrolling to 6000 pixels\n",
    "    time.sleep(3)\n",
    "    posts = driver.find_elements_by_class_name('v1Nh3') # finding all posts on page\n",
    "    for i in range(30):\n",
    "        posts[i].click() # clicking on each post\n",
    "        time.sleep(2)\n",
    "        like = driver.find_element_by_css_selector('span.fr66n>button>svg') # finding like button\n",
    "        if like.get_attribute('aria-label') == 'Like' : # checking condn if already liked or not\n",
    "            like.click()\n",
    "        else :\n",
    "            print('You have already liked post number', i+1)\n",
    "        time.sleep(2)\n",
    "        driver.find_element_by_class_name('yiMZG').click()  # clickeng on cross button\n",
    "        time.sleep(2)"
   ]
  },
  {
   "cell_type": "code",
   "execution_count": null,
   "metadata": {},
   "outputs": [],
   "source": []
  },
  {
   "cell_type": "code",
   "execution_count": null,
   "metadata": {},
   "outputs": [],
   "source": []
  },
  {
   "cell_type": "code",
   "execution_count": null,
   "metadata": {},
   "outputs": [],
   "source": []
  },
  {
   "cell_type": "code",
   "execution_count": null,
   "metadata": {},
   "outputs": [],
   "source": []
  },
  {
   "cell_type": "code",
   "execution_count": null,
   "metadata": {},
   "outputs": [],
   "source": [
    "def followers(profile):\n",
    "    open_profile(profile) # calling func to open given profile\n",
    "    time.sleep(5)\n",
    "    driver.maximize_window()\n",
    "    time.sleep(4)"
   ]
  },
  {
   "cell_type": "code",
   "execution_count": 712,
   "metadata": {},
   "outputs": [],
   "source": [
    "a=driver.find_elements_by_class_name(\"Y8-fY \")"
   ]
  },
  {
   "cell_type": "code",
   "execution_count": 713,
   "metadata": {},
   "outputs": [
    {
     "data": {
      "text/plain": [
       "'<li class=\"Y8-fY \"><a class=\"-nal3 \" href=\"/deepikapadukone/followers/\" tabindex=\"0\"><span class=\"g47SY \" title=\"52,342,945\">52.3m</span> followers</a></li>'"
      ]
     },
     "execution_count": 713,
     "metadata": {},
     "output_type": "execute_result"
    }
   ],
   "source": [
    "a[1].get_attribute(\"outerHTML\")"
   ]
  },
  {
   "cell_type": "code",
   "execution_count": 715,
   "metadata": {},
   "outputs": [],
   "source": [
    "a[1].click()"
   ]
  },
  {
   "cell_type": "code",
   "execution_count": 725,
   "metadata": {},
   "outputs": [],
   "source": [
    "\n",
    "follow=driver.find_elements_by_xpath(\"//a[contains(@class,'FPmhX notranslate  _0imsa ')]\")"
   ]
  },
  {
   "cell_type": "code",
   "execution_count": 728,
   "metadata": {},
   "outputs": [
    {
     "data": {
      "text/plain": [
       "[<selenium.webdriver.remote.webelement.WebElement (session=\"0f96d77750980dd2615dc70859eefa31\", element=\"7e55b83a-31fb-466a-9a55-a567649bc441\")>,\n",
       " <selenium.webdriver.remote.webelement.WebElement (session=\"0f96d77750980dd2615dc70859eefa31\", element=\"a381555c-c2d3-4c87-936e-0a63bb14b35c\")>,\n",
       " <selenium.webdriver.remote.webelement.WebElement (session=\"0f96d77750980dd2615dc70859eefa31\", element=\"251869c3-3308-47f0-ad50-7669f2828d30\")>,\n",
       " <selenium.webdriver.remote.webelement.WebElement (session=\"0f96d77750980dd2615dc70859eefa31\", element=\"fa040f57-d2fd-4fe0-8a94-ccdc2574ae5d\")>,\n",
       " <selenium.webdriver.remote.webelement.WebElement (session=\"0f96d77750980dd2615dc70859eefa31\", element=\"1d87159b-dd67-4927-97ca-b786ba8915be\")>,\n",
       " <selenium.webdriver.remote.webelement.WebElement (session=\"0f96d77750980dd2615dc70859eefa31\", element=\"f5b8245b-48da-464a-a7e4-df1414d90725\")>,\n",
       " <selenium.webdriver.remote.webelement.WebElement (session=\"0f96d77750980dd2615dc70859eefa31\", element=\"c6214a27-2a42-422a-ad5c-0abb6a6b4c4f\")>,\n",
       " <selenium.webdriver.remote.webelement.WebElement (session=\"0f96d77750980dd2615dc70859eefa31\", element=\"be08c116-64d8-4ba4-9fd7-280325db7685\")>,\n",
       " <selenium.webdriver.remote.webelement.WebElement (session=\"0f96d77750980dd2615dc70859eefa31\", element=\"239d943c-edbb-4ea6-90e3-5e0866194b53\")>,\n",
       " <selenium.webdriver.remote.webelement.WebElement (session=\"0f96d77750980dd2615dc70859eefa31\", element=\"fffebff1-95f7-4615-8af3-6a91655cf95d\")>,\n",
       " <selenium.webdriver.remote.webelement.WebElement (session=\"0f96d77750980dd2615dc70859eefa31\", element=\"510962a1-e2ff-4a3b-8c10-cbaf7b1187e9\")>,\n",
       " <selenium.webdriver.remote.webelement.WebElement (session=\"0f96d77750980dd2615dc70859eefa31\", element=\"a1fcc215-7b6d-4bde-be24-64e7fed4af69\")>,\n",
       " <selenium.webdriver.remote.webelement.WebElement (session=\"0f96d77750980dd2615dc70859eefa31\", element=\"1e9660b1-be06-4bad-84ab-575f2e436820\")>,\n",
       " <selenium.webdriver.remote.webelement.WebElement (session=\"0f96d77750980dd2615dc70859eefa31\", element=\"aed6a768-62f8-4506-9f25-d9d95ccece7d\")>,\n",
       " <selenium.webdriver.remote.webelement.WebElement (session=\"0f96d77750980dd2615dc70859eefa31\", element=\"2964d3b4-7c5c-465c-aef3-b709b103e9fd\")>,\n",
       " <selenium.webdriver.remote.webelement.WebElement (session=\"0f96d77750980dd2615dc70859eefa31\", element=\"ac735211-b8cc-46a5-958d-b455139e7d67\")>,\n",
       " <selenium.webdriver.remote.webelement.WebElement (session=\"0f96d77750980dd2615dc70859eefa31\", element=\"563754ad-2f39-4bb6-8ef7-8210e2b5bc1d\")>,\n",
       " <selenium.webdriver.remote.webelement.WebElement (session=\"0f96d77750980dd2615dc70859eefa31\", element=\"e2a9aecc-1507-49c6-9e95-c4c56c6aa045\")>,\n",
       " <selenium.webdriver.remote.webelement.WebElement (session=\"0f96d77750980dd2615dc70859eefa31\", element=\"e7076df2-0c38-4c83-b5d9-4e55b82301a2\")>,\n",
       " <selenium.webdriver.remote.webelement.WebElement (session=\"0f96d77750980dd2615dc70859eefa31\", element=\"92397e11-9572-4c5f-812d-d441d51c9da1\")>,\n",
       " <selenium.webdriver.remote.webelement.WebElement (session=\"0f96d77750980dd2615dc70859eefa31\", element=\"4cb5732f-73f0-472b-9a67-570898f910f0\")>,\n",
       " <selenium.webdriver.remote.webelement.WebElement (session=\"0f96d77750980dd2615dc70859eefa31\", element=\"e98519f3-a9d9-4c0c-a11d-f36564437557\")>,\n",
       " <selenium.webdriver.remote.webelement.WebElement (session=\"0f96d77750980dd2615dc70859eefa31\", element=\"99086c12-da3a-4cbf-8697-e32f80153ced\")>,\n",
       " <selenium.webdriver.remote.webelement.WebElement (session=\"0f96d77750980dd2615dc70859eefa31\", element=\"39119c17-868f-4aad-8511-d9cca3b69b4f\")>]"
      ]
     },
     "execution_count": 728,
     "metadata": {},
     "output_type": "execute_result"
    }
   ],
   "source": [
    "follow"
   ]
  },
  {
   "cell_type": "code",
   "execution_count": 737,
   "metadata": {},
   "outputs": [
    {
     "data": {
      "text/plain": [
       "3"
      ]
     },
     "execution_count": 737,
     "metadata": {},
     "output_type": "execute_result"
    }
   ],
   "source": [
    "len(f1)"
   ]
  },
  {
   "cell_type": "code",
   "execution_count": 773,
   "metadata": {},
   "outputs": [],
   "source": [
    "f1=[]\n",
    "for i in range(2):\n",
    "    follow=driver.find_elements_by_xpath(\"//a[contains(@class,'FPmhX notranslate  _0imsa ')]\")\n",
    "    f1.append(follow)\n",
    "    driver.execute_script('window.scrollBy(0,700);')"
   ]
  },
  {
   "cell_type": "code",
   "execution_count": 759,
   "metadata": {},
   "outputs": [
    {
     "name": "stdout",
     "output_type": "stream",
     "text": [
      "siddurajanal\n",
      "raaiiha\n",
      "turbocarwash9\n",
      "kritimogari_05\n",
      "__meme_nation____\n",
      "olgatrembachsmile\n",
      "rocelyscamacaro2020\n",
      "ayoub_el_abeed\n",
      "kvellcitizen\n",
      "amyofficial_05\n",
      "tanha_mim19\n",
      "anoop_a_c_h_u\n",
      "we.talk.alottt\n",
      "lyntle1\n",
      "2devil4u\n",
      "saritaa255\n",
      "gaju_margepwar\n",
      "macberkett\n",
      "hmdl8693\n",
      "mooresusan7562969\n",
      "__s.a.u.r.a.b.h__s.a.n.a.p__99\n",
      "bipanashresbudathoki\n",
      "anikaoishe\n",
      "sunaina_raju\n",
      "siddurajanal\n",
      "raaiiha\n",
      "turbocarwash9\n",
      "kritimogari_05\n",
      "__meme_nation____\n",
      "olgatrembachsmile\n",
      "rocelyscamacaro2020\n",
      "ayoub_el_abeed\n",
      "kvellcitizen\n",
      "amyofficial_05\n",
      "tanha_mim19\n",
      "anoop_a_c_h_u\n",
      "we.talk.alottt\n",
      "lyntle1\n",
      "2devil4u\n",
      "saritaa255\n",
      "gaju_margepwar\n",
      "macberkett\n",
      "hmdl8693\n",
      "mooresusan7562969\n",
      "__s.a.u.r.a.b.h__s.a.n.a.p__99\n",
      "bipanashresbudathoki\n",
      "anikaoishe\n",
      "sunaina_raju\n",
      "48\n"
     ]
    }
   ],
   "source": [
    "c=0\n",
    "for i in f1:\n",
    "    for j in i:\n",
    "        print(j.text)\n",
    "        c=c+1 \n",
    "print(c)"
   ]
  },
  {
   "cell_type": "code",
   "execution_count": 779,
   "metadata": {},
   "outputs": [],
   "source": [
    "current_height = driver.execute_script('return document.getElementsByClassName(\"isgrP\")[0].scrollHeight;')"
   ]
  },
  {
   "cell_type": "code",
   "execution_count": 777,
   "metadata": {
    "scrolled": true
   },
   "outputs": [
    {
     "data": {
      "text/plain": [
       "[<selenium.webdriver.remote.webelement.WebElement (session=\"0f96d77750980dd2615dc70859eefa31\", element=\"fe684986-2ff6-4cf9-b90c-1e28dce5938e\")>]"
      ]
     },
     "execution_count": 777,
     "metadata": {},
     "output_type": "execute_result"
    }
   ],
   "source": [
    "driver.find_elements_by_class_name(\"isgrP\")"
   ]
  },
  {
   "cell_type": "code",
   "execution_count": 780,
   "metadata": {},
   "outputs": [
    {
     "data": {
      "text/plain": [
       "1346"
      ]
     },
     "execution_count": 780,
     "metadata": {},
     "output_type": "execute_result"
    }
   ],
   "source": [
    "current_height"
   ]
  }
 ],
 "metadata": {
  "kernelspec": {
   "display_name": "Python 3",
   "language": "python",
   "name": "python3"
  },
  "language_info": {
   "codemirror_mode": {
    "name": "ipython",
    "version": 3
   },
   "file_extension": ".py",
   "mimetype": "text/x-python",
   "name": "python",
   "nbconvert_exporter": "python",
   "pygments_lexer": "ipython3",
   "version": "3.8.2"
  }
 },
 "nbformat": 4,
 "nbformat_minor": 4
}
