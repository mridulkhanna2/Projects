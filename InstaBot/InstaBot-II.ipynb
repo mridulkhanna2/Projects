{
 "cells": [
  {
   "cell_type": "markdown",
   "metadata": {},
   "source": [
    "<h1 style=\"color:blue;\"><center style=\"font-size:40px;\">InstaBot - II </h1>"
   ]
  },
  {
   "cell_type": "markdown",
   "metadata": {},
   "source": [
    "<h3> <strong> In this notebook I have done a survey on \"FOOD\" handles of Instagram by web scraping using Selenium. \n",
    "Same code can be be applied for other content/topics </strong> </h3>\n",
    "\n",
    "(Change the search handle in 1.1 for results on other desired topics) \n",
    "\n",
    "To use some other functionalities of this Bot refer to <strong style=\"color:blue;\"> InstaBot-I</strong> notebook.\n",
    " \n"
   ]
  },
  {
   "cell_type": "markdown",
   "metadata": {},
   "source": [
    "<strong><ul>Instructions:</strong>\n",
    "    <li>Enter your Username and Password in 'Log in Instagram' section.</li>\n",
    "    <li>Please run the codes in sequence as given, as some functions are dependent.</li>\n",
    "    <li>Incase you feel the site has stopped processing the code, please have some patience as some components take time to load and code has been accordingly written to handle it. </li>\n"
   ]
  },
  {
   "cell_type": "markdown",
   "metadata": {},
   "source": [
    "### Creating a web driver session "
   ]
  },
  {
   "cell_type": "code",
   "execution_count": 13,
   "metadata": {},
   "outputs": [],
   "source": [
    "#importing selenium libraries\n",
    "from selenium import webdriver\n",
    "from selenium.webdriver.common.keys import Keys\n",
    "from selenium.common.exceptions import NoSuchElementException\n",
    "from selenium.common.exceptions import StaleElementReferenceException\n",
    "from selenium.common.exceptions import TimeoutException\n",
    "from selenium.webdriver.support.ui import WebDriverWait\n",
    "from selenium.webdriver.support import expected_conditions as EC\n",
    "from selenium.webdriver.common.by import By\n",
    "from selenium.webdriver.support.select import Select\n",
    "import time\n",
    "\n",
    "driver = webdriver.Chrome(executable_path = 'D:\\Coding Ninja\\Data science & Machine Learning/chromedriver')"
   ]
  },
  {
   "cell_type": "markdown",
   "metadata": {},
   "source": [
    "## Log in Instagram"
   ]
  },
  {
   "cell_type": "code",
   "execution_count": 2,
   "metadata": {},
   "outputs": [],
   "source": [
    "def login(user,password):\n",
    "    driver.get('https://www.instagram.com/?hl=en')\n",
    "    time.sleep(5)\n",
    "    assert 'Instagram' in driver.title\n",
    "    us=driver.find_element_by_name(\"username\")\n",
    "    us.send_keys(user)\n",
    "    ps=driver.find_element_by_name(\"password\")\n",
    "    ps.send_keys(password)\n",
    "    bt=driver.find_element_by_xpath(\"//button[contains(@class,'y3zKF')]\")\n",
    "    bt.submit()\n",
    "    time.sleep(5)"
   ]
  },
  {
   "cell_type": "code",
   "execution_count": 3,
   "metadata": {},
   "outputs": [],
   "source": [
    "#run this if you have set up two factor authentication\n",
    "\n",
    "def verification(x):\n",
    "    sc=driver.find_element_by_name(\"verificationCode\")\n",
    "    sc.send_keys(x)\n",
    "    bt=driver.find_element_by_xpath(\"//button[contains(@class,'y3zKF')]\")\n",
    "    bt.submit()\n",
    "    time.sleep(5)"
   ]
  },
  {
   "cell_type": "code",
   "execution_count": 83,
   "metadata": {},
   "outputs": [],
   "source": [
    "def login_process():   \n",
    "    try :\n",
    "        #dont save information\n",
    "        bt=driver.find_element_by_xpath(\"//button[contains(@class,'sqdOP yWX7d    y3zKF     ')]\")\n",
    "        bt.click()\n",
    "    except NoSuchElementException:\n",
    "        pass\n",
    "     \n",
    "        \n",
    "    try:\n",
    "        # dont turn on notification\n",
    "        bt=driver.find_element_by_xpath(\"//button[contains(@class,'aOOlW   HoLwm ')]\")\n",
    "        bt.click() \n",
    "    except NoSuchElementException:\n",
    "        pass    "
   ]
  },
  {
   "cell_type": "code",
   "execution_count": 82,
   "metadata": {},
   "outputs": [],
   "source": [
    "#Enter your instagram username and password inplace of sample username and sample password\n",
    "login(\"SAMPLE USERNAME\",\"SAMPLE PASSWORD\")"
   ]
  },
  {
   "cell_type": "code",
   "execution_count": 84,
   "metadata": {},
   "outputs": [],
   "source": [
    "#run this if you have set up two factor authentication for your account\n",
    "#enter the verification code recieved on your phone\n",
    "\n",
    "verification(\"987654\")"
   ]
  },
  {
   "cell_type": "code",
   "execution_count": 7,
   "metadata": {},
   "outputs": [],
   "source": [
    "#for not saving info and turning off notifications\n",
    "login_process()"
   ]
  },
  {
   "cell_type": "markdown",
   "metadata": {},
   "source": [
    "# 1.1 Exracting top 5 handles with highest followers"
   ]
  },
  {
   "cell_type": "markdown",
   "metadata": {},
   "source": [
    "### Search "
   ]
  },
  {
   "cell_type": "code",
   "execution_count": 3,
   "metadata": {},
   "outputs": [],
   "source": [
    "#gives a list of first ten instagram handles  on searching\n",
    "def search(text):\n",
    "    search=driver.find_element_by_xpath(\"//div[contains(@class,'LWmhU _0aCwM')]/input\")\n",
    "    search.clear()\n",
    "    search.send_keys(text)\n",
    "    time.sleep(5)\n",
    "    li=[]\n",
    "    drop=driver.find_elements_by_class_name(\"Ap253\")\n",
    "    for i in drop:\n",
    "        x=i.text\n",
    "        if x[0] != \"#\":\n",
    "            li.append(x)\n",
    "    return li[:10]"
   ]
  },
  {
   "cell_type": "code",
   "execution_count": 9,
   "metadata": {
    "scrolled": false
   },
   "outputs": [],
   "source": [
    "#enter your desired search key\n",
    "\n",
    "ten=search(\"food\")"
   ]
  },
  {
   "cell_type": "code",
   "execution_count": 155,
   "metadata": {
    "scrolled": true
   },
   "outputs": [
    {
     "data": {
      "text/plain": [
       "['foodi.buddy',\n",
       " 'foodranchi',\n",
       " 'foodzaara',\n",
       " 'foodrush.recipe',\n",
       " 'dilsefoodie',\n",
       " 'yourfoodlab',\n",
       " 'food',\n",
       " 'food__crushhh___',\n",
       " 'ranchi_food_walks',\n",
       " 'foodtalkindia']"
      ]
     },
     "execution_count": 155,
     "metadata": {},
     "output_type": "execute_result"
    }
   ],
   "source": [
    "ten"
   ]
  },
  {
   "cell_type": "markdown",
   "metadata": {},
   "source": [
    "### Open Profile"
   ]
  },
  {
   "cell_type": "code",
   "execution_count": 1,
   "metadata": {},
   "outputs": [],
   "source": [
    "#To open any instagram profile or handle- enter the username in place of handle\n",
    "def open_profile(handle):\n",
    "    driver.get('https://www.instagram.com/?hl=en')\n",
    "    time.sleep(5)\n",
    "    #search textfield\n",
    "    search=driver.find_element_by_xpath(\"//div[contains(@class,'LWmhU _0aCwM')]/input\")\n",
    "    search.clear()\n",
    "    search.send_keys(handle)\n",
    "    time.sleep(5)\n",
    "    \n",
    "    cl=driver.find_element_by_xpath(\"//div[@class='fuqBx']/a\")\n",
    "    cl.click()"
   ]
  },
  {
   "cell_type": "markdown",
   "metadata": {},
   "source": [
    "## Handles with highest followers\n"
   ]
  },
  {
   "cell_type": "code",
   "execution_count": 2,
   "metadata": {},
   "outputs": [],
   "source": [
    "#gives top 5 handles with highest followers from the list 'ten'\n",
    "def top_follow():\n",
    "    d={}\n",
    "    for i in ten:\n",
    "        open_profile(i)\n",
    "        time.sleep(10)\n",
    "        followers = driver.find_elements_by_class_name('g47SY')[1].get_attribute('title') # extracting followers of each handle\n",
    "        d[i] = int(followers.replace(',','')) # converting to integer value\n",
    "    \n",
    "    #sorts the dictionary by followers\n",
    "    sorted_d = sorted(d.items(), key = lambda kv:kv[1], reverse = True)[:5] # sorting the by number of followers \n",
    "    return sorted_d  "
   ]
  },
  {
   "cell_type": "code",
   "execution_count": 15,
   "metadata": {},
   "outputs": [],
   "source": [
    "sorted_top=top_follow()"
   ]
  },
  {
   "cell_type": "code",
   "execution_count": 157,
   "metadata": {
    "scrolled": false
   },
   "outputs": [
    {
     "name": "stdout",
     "output_type": "stream",
     "text": [
      "Top 5 handles (w.r.t followers) : \n",
      "\n",
      "  Handle        Followers\n",
      "yourfoodlab  :  1456546\n",
      "dilsefoodie  :  654767\n",
      "foodrush.recipe  :  628853\n",
      "foodtalkindia  :  302763\n",
      "foodzaara  :  151925\n"
     ]
    }
   ],
   "source": [
    "print(\"Top 5 handles (w.r.t followers) : \")\n",
    "print()\n",
    "\n",
    "print(\" \", \"Handle\",\"      \",\"Followers\")\n",
    "\n",
    "five=[]\n",
    "for i,j in sorted_top:\n",
    "    print(i,\" : \",j)\n",
    "    five.append(i)"
   ]
  },
  {
   "cell_type": "markdown",
   "metadata": {},
   "source": [
    "# 1.2 Finding number of posts these handles have done in the past 3 days.\n"
   ]
  },
  {
   "cell_type": "code",
   "execution_count": 83,
   "metadata": {},
   "outputs": [],
   "source": [
    "def past_3():\n",
    "    \n",
    "    posts={}\n",
    "    for i in five:\n",
    "        open_profile(i)\n",
    "        time.sleep(5)\n",
    "        count=0\n",
    "        try:\n",
    "            post=driver.find_element_by_class_name(\"_9AhH0\")\n",
    "            post.click()\n",
    "            time.sleep(4)\n",
    "            \n",
    "        except NoSuchElementException: \n",
    "            print(i, \"is a private account or has 0 posts\")\n",
    "            continue\n",
    "            \n",
    "        try:\n",
    "            while True :\n",
    "                time.sleep(3)\n",
    "                upload_time = driver.find_element_by_class_name('_1o9PC').text\n",
    "                arr=[]\n",
    "                arr=upload_time.split(\" \")\n",
    "                if( arr[1] == 'HOURS' or arr[1] == 'HOUR' or arr[1] == 'MINUTES' or int(arr[0]) < 3) : # checking condns\n",
    "                    count += 1\n",
    "                    next_button = driver.find_element_by_class_name('_65Bje') # clicking on next button to go to next post\n",
    "                    next_button.click()\n",
    "\n",
    "\n",
    "            else :\n",
    "                break\n",
    "                \n",
    "                \n",
    "        except ValueError:\n",
    "            count=0\n",
    "        \n",
    "            \n",
    "        posts[i]=count\n",
    "        \n",
    "    return posts"
   ]
  },
  {
   "cell_type": "code",
   "execution_count": 104,
   "metadata": {},
   "outputs": [],
   "source": [
    "posts=past_3()"
   ]
  },
  {
   "cell_type": "code",
   "execution_count": 159,
   "metadata": {},
   "outputs": [
    {
     "name": "stdout",
     "output_type": "stream",
     "text": [
      " Nuber of Posts in past 3 days:\n",
      "yourfoodlab  :  4\n",
      "dilsefoodie  :  2\n",
      "foodrush.recipe  :  1\n",
      "foodtalkindia  :  3\n",
      "foodzaara  :  10\n"
     ]
    }
   ],
   "source": [
    "print(\" Nuber of Posts in past 3 days:\")\n",
    "for i,j in posts.items():\n",
    "    print(i,\" : \",j)"
   ]
  },
  {
   "cell_type": "markdown",
   "metadata": {},
   "source": [
    "# 1.3 Graph displaying number of posts done in past three days by top handles"
   ]
  },
  {
   "cell_type": "code",
   "execution_count": 108,
   "metadata": {},
   "outputs": [],
   "source": [
    "keys=posts.keys()\n",
    "values=posts.values()"
   ]
  },
  {
   "cell_type": "code",
   "execution_count": 160,
   "metadata": {
    "scrolled": true
   },
   "outputs": [
    {
     "data": {
      "image/png": "[encoded data removed]",
      "text/plain": [
       "<Figure size 504x360 with 1 Axes>"
      ]
     },
     "metadata": {
      "needs_background": "light"
     },
     "output_type": "display_data"
    }
   ],
   "source": [
    "import matplotlib.pyplot as plt\n",
    "\n",
    "plt.figure( figsize=(7, 5))\n",
    "plt.grid()\n",
    "plt.bar(keys, values)\n",
    "plt.xticks(rotation = 15)\n",
    "plt.title('Top food handles v/s No. of posts in last 3 days')\n",
    "plt.xlabel('Food handles')\n",
    "plt.ylabel('No of Posts')\n",
    "plt.show()"
   ]
  },
  {
   "cell_type": "markdown",
   "metadata": {},
   "source": [
    "# 2.1, 2.2 Hashtags used in recent 10 posts of each top handle and their frequency\n"
   ]
  },
  {
   "cell_type": "code",
   "execution_count": 84,
   "metadata": {},
   "outputs": [],
   "source": [
    "def hashtags_posts():\n",
    "    \n",
    "    hashtag={}\n",
    "    for j in posts:\n",
    "        open_profile(j)\n",
    "        time.sleep(5)\n",
    "        count=0\n",
    "        try:\n",
    "            #clicking on the first post\n",
    "            post=driver.find_element_by_class_name(\"_9AhH0\")\n",
    "            post.click()\n",
    "            time.sleep(4)\n",
    "            count=1\n",
    "\n",
    "            while count<10:\n",
    "                #extracting each hashtag\n",
    "                h=driver.find_elements_by_xpath(\"//div[contains(@class,'C4VMK')]//span/a\")\n",
    "                for i in h:\n",
    "                    x=i.text\n",
    "\n",
    "                    #creating a dictionary of hashtags and their frequency\n",
    "                    if '#' in x:\n",
    "                        hashtag[x]=hashtag.get(x,0)+1\n",
    "\n",
    "                # clicking on next button to go to next post\n",
    "                next_button = driver.find_element_by_class_name('_65Bje') \n",
    "                next_button.click()\n",
    "                time.sleep(5)\n",
    "                count=count+1\n",
    "   \n",
    "        except NoSuchElementException: \n",
    "            continue\n",
    "            \n",
    "    return hashtag"
   ]
  },
  {
   "cell_type": "code",
   "execution_count": 121,
   "metadata": {
    "scrolled": true
   },
   "outputs": [],
   "source": [
    "hashtags=hashtags_posts()"
   ]
  },
  {
   "cell_type": "code",
   "execution_count": 123,
   "metadata": {},
   "outputs": [
    {
     "data": {
      "text/plain": [
       "{'#MorphyRichards': 2,\n",
       " '#CookItMyWay': 4,\n",
       " '#recipes': 3,\n",
       " '#idli': 2,\n",
       " '#idlilove': 1,\n",
       " '#southindianfood': 2,\n",
       " '#southindian': 2,\n",
       " '#foodporn': 15,\n",
       " '#foodies': 1,\n",
       " '#streetfood': 8,\n",
       " '#streetstyle': 5,\n",
       " '#indiancuisine': 6,\n",
       " '#recipe': 9,\n",
       " '#recipeoftheday': 3,\n",
       " '#masala': 2,\n",
       " '#mumbaistreetfood': 2,\n",
       " '#fooddaily': 1,\n",
       " '#yourfoodtographer': 1,\n",
       " '#sanjyotkeer': 4,\n",
       " '#instadaily': 9,\n",
       " '#foodie': 11,\n",
       " '#comfortfood': 3,\n",
       " '#food': 10,\n",
       " '#bhindimasala': 1,\n",
       " '#palak': 1,\n",
       " '#paneer': 4,\n",
       " '#rajma': 2,\n",
       " '#foodphotography': 2,\n",
       " '#easyrecipes': 1,\n",
       " '#palakpaneer': 1,\n",
       " '#paneerrecipes': 1,\n",
       " '#foodstagram': 3,\n",
       " '#mumbai': 7,\n",
       " '#foodpics': 1,\n",
       " '#instagram': 2,\n",
       " '#instafood': 4,\n",
       " '#cinematography': 1,\n",
       " '#anda': 1,\n",
       " '#dilsefoodie': 9,\n",
       " '#southdelhi': 1,\n",
       " '#gk1': 1,\n",
       " '#delhitovrindavan': 1,\n",
       " '#Onedaytrip': 1,\n",
       " '#MadhurSugar': 1,\n",
       " '#MadhurMithaas': 1,\n",
       " '#MadhurDiwali': 1,\n",
       " '#DiwaliUtsav': 1,\n",
       " '#LooseNahiMadhurSahi': 1,\n",
       " '#Diwali': 1,\n",
       " '#Sweets': 1,\n",
       " '#DiwaliSweets': 1,\n",
       " '#5SGuarantee': 1,\n",
       " '#Kalakand': 1,\n",
       " '#diwali': 3,\n",
       " '#festive': 2,\n",
       " '#sweet': 2,\n",
       " '#dessert': 3,\n",
       " '#mithai': 1,\n",
       " '#barfi': 1,\n",
       " '#instantkalakand': 1,\n",
       " '#kalakand': 1,\n",
       " '#diwalirecipes': 2,\n",
       " '#festiverecipes': 2,\n",
       " '#foodblogger': 3,\n",
       " '#foodholic': 2,\n",
       " '#sweettooth': 2,\n",
       " '#foodrush': 2,\n",
       " '#californiawalnuts': 1,\n",
       " '#CaliforniaWalnuts': 1,\n",
       " '#MakingEverydayHealthy': 2,\n",
       " '#californiawalnutsindia': 1,\n",
       " '#walnuts': 1,\n",
       " '#akhrot': 1,\n",
       " '#foodrushrecipe': 2,\n",
       " '#foodpassion': 1,\n",
       " '#foodlove': 1,\n",
       " '#foodinsta': 1,\n",
       " '#foodstyle': 1,\n",
       " '#foodpost': 1,\n",
       " '#foodpostdaily': 1,\n",
       " '#foodielife': 1,\n",
       " '#foodposts': 1,\n",
       " '#foodstylist': 1,\n",
       " '#indianrecipes': 1,\n",
       " '#healthyrecipes': 1,\n",
       " '#veegies': 1,\n",
       " '#vegrecipes': 1,\n",
       " '#resturantstylerecipes': 1,\n",
       " '#bigbasket': 1,\n",
       " '#rosepalkhozhukattai': 1,\n",
       " '#rosekhozhukattai': 1,\n",
       " '#khozhukattai': 1,\n",
       " '#recipevideos': 1,\n",
       " '#sweetdish': 1,\n",
       " '#dessertrecipes': 1,\n",
       " '#dessertfirst': 1,\n",
       " '#dessertlife': 1,\n",
       " '#desserttable': 1,\n",
       " '#popcorn': 1,\n",
       " '#cauliflower': 1,\n",
       " '#fried': 2,\n",
       " '#homemade': 3,\n",
       " '#crispy': 1,\n",
       " '#party': 1,\n",
       " '#gamenight': 1,\n",
       " '#chocolate': 1,\n",
       " '#roll': 1,\n",
       " '#bread': 2,\n",
       " '#chocolicious': 1,\n",
       " '#cocoa': 1,\n",
       " '#cinnamon': 1,\n",
       " '#bun': 1,\n",
       " '#potato': 1,\n",
       " '#ring': 1,\n",
       " '#potatoring': 1,\n",
       " '#appetizer': 1,\n",
       " '#snacks': 1,\n",
       " '#cheese': 3,\n",
       " '#turkish': 1,\n",
       " '#turkishfood': 1,\n",
       " '#cheesy': 1,\n",
       " '#garlic': 2,\n",
       " '#mini': 1,\n",
       " '#makhana': 1,\n",
       " '#makhanakheer': 1,\n",
       " '#khana': 1,\n",
       " '#vrat': 1,\n",
       " '#milk': 1,\n",
       " '#indianfood': 1,\n",
       " '#india': 4,\n",
       " '#navratri': 1,\n",
       " '#indian': 5,\n",
       " '#iforiodine': 2,\n",
       " '#stuffed': 1,\n",
       " '#aashirvaad': 1,\n",
       " '#instagood': 8,\n",
       " '#instant': 1,\n",
       " '#suji': 1,\n",
       " '#widd2020': 1,\n",
       " '#GiveawayAlert': 1,\n",
       " '#HendricksMidsummer': 5,\n",
       " '#HendricksGin': 3,\n",
       " '#IgotGinspired': 1,\n",
       " '#foodzaara': 9,\n",
       " '#dinnertime': 1,\n",
       " '#delhi': 9,\n",
       " '#traveling': 6,\n",
       " '#gurgaon': 1,\n",
       " '#bestoftheday': 2,\n",
       " '#dinner': 2,\n",
       " '#awesome': 4,\n",
       " '#latepost': 5,\n",
       " '#best': 3,\n",
       " '#northindian': 1,\n",
       " '#explore': 5,\n",
       " '#mumbaidiaries': 6,\n",
       " '#kolkata': 7,\n",
       " '#colourful': 2,\n",
       " '#colour': 2,\n",
       " '#positivevibes': 3,\n",
       " '#pune': 8,\n",
       " '#rajasthan': 2,\n",
       " '#omg': 3,\n",
       " '#cravings': 1,\n",
       " '#london': 2,\n",
       " '#nomnom': 5,\n",
       " '#delhigram': 4,\n",
       " '#instamood': 5,\n",
       " '#mood': 3,\n",
       " '#chennai': 3,\n",
       " '#dosa': 1,\n",
       " '#wow': 3,\n",
       " '#punekar': 2,\n",
       " '#delhidiaries': 4,\n",
       " '#mumbaikar': 8,\n",
       " '#explorepage': 2,\n",
       " '#video': 3,\n",
       " '#quarantine': 4,\n",
       " '#favourite': 2,\n",
       " '#evening': 1,\n",
       " '#videos': 1,\n",
       " '#zingyzest': 6,\n",
       " '#maharashtra': 3,\n",
       " '#lifestyle': 4,\n",
       " '#besoftheday': 1,\n",
       " '#coffee': 1,\n",
       " '#coldcoffee': 1,\n",
       " '#usa': 2,\n",
       " '#shake': 1,\n",
       " '#savage': 1,\n",
       " '#drink': 1,\n",
       " '#amazing': 1,\n",
       " '#videooftheday': 1,\n",
       " '#reels': 1,\n",
       " '#reel': 1,\n",
       " '#noida': 1,\n",
       " '#samosa': 1,\n",
       " '#traveldiaries': 2,\n",
       " '#chole': 1,\n",
       " '#brunch': 2,\n",
       " '#pictureoftheday': 2,\n",
       " '#picture': 1,\n",
       " '#festival': 1,\n",
       " '#punjab': 1,\n",
       " '#loveislove': 4,\n",
       " '#sodelhi': 2,\n",
       " '#noodles': 1,\n",
       " '#manchurian': 1,\n",
       " '#honeychillipotato': 1,\n",
       " '#delhifoodbloggers': 2,\n",
       " '#delhifood': 3,\n",
       " '#delhistreetfood': 1,\n",
       " '#mumbaifoodie': 2,\n",
       " '#punefoodie': 1,\n",
       " '#kolkatadiaries': 2,\n",
       " '#kerala': 1,\n",
       " '#photooftheday': 3,\n",
       " '#chinese': 1,\n",
       " '#momos': 1,\n",
       " '#tandoori': 1,\n",
       " '#momo': 1,\n",
       " '#creamy': 1,\n",
       " '#tastyfood': 1,\n",
       " '#blog': 2,\n",
       " '#vegetarian': 1,\n",
       " '#lifestyleblog': 1,\n",
       " '#photograph': 1,\n",
       " '#pavbhaji': 1,\n",
       " '#street': 1,\n",
       " '#streetphotography': 1,\n",
       " '#sunday': 1,\n",
       " '#lunch': 1,\n",
       " '#delhibloggers': 1,\n",
       " '#love': 1,\n",
       " '#cake': 1,\n",
       " '#flowers': 1,\n",
       " '#yummy': 1,\n",
       " '#celebration': 1,\n",
       " '#influencer': 1,\n",
       " '#150k': 1,\n",
       " '#followers': 1,\n",
       " '#thankyou': 1,\n",
       " '#delhiblogger': 1,\n",
       " '#photographylovers': 1,\n",
       " '#want': 1,\n",
       " '#garlicbread': 1}"
      ]
     },
     "execution_count": 123,
     "metadata": {},
     "output_type": "execute_result"
    }
   ],
   "source": [
    "hashtags"
   ]
  },
  {
   "cell_type": "code",
   "execution_count": 124,
   "metadata": {},
   "outputs": [
    {
     "data": {
      "text/plain": [
       "[('#foodporn', 15),\n",
       " ('#foodie', 11),\n",
       " ('#food', 10),\n",
       " ('#recipe', 9),\n",
       " ('#instadaily', 9),\n",
       " ('#dilsefoodie', 9),\n",
       " ('#foodzaara', 9),\n",
       " ('#delhi', 9),\n",
       " ('#streetfood', 8),\n",
       " ('#instagood', 8),\n",
       " ('#pune', 8),\n",
       " ('#mumbaikar', 8),\n",
       " ('#mumbai', 7),\n",
       " ('#kolkata', 7),\n",
       " ('#indiancuisine', 6),\n",
       " ('#traveling', 6),\n",
       " ('#mumbaidiaries', 6),\n",
       " ('#zingyzest', 6),\n",
       " ('#streetstyle', 5),\n",
       " ('#indian', 5),\n",
       " ('#HendricksMidsummer', 5),\n",
       " ('#latepost', 5),\n",
       " ('#explore', 5),\n",
       " ('#nomnom', 5),\n",
       " ('#instamood', 5),\n",
       " ('#CookItMyWay', 4),\n",
       " ('#sanjyotkeer', 4),\n",
       " ('#paneer', 4),\n",
       " ('#instafood', 4),\n",
       " ('#india', 4),\n",
       " ('#awesome', 4),\n",
       " ('#delhigram', 4),\n",
       " ('#delhidiaries', 4),\n",
       " ('#quarantine', 4),\n",
       " ('#lifestyle', 4),\n",
       " ('#loveislove', 4),\n",
       " ('#recipes', 3),\n",
       " ('#recipeoftheday', 3),\n",
       " ('#comfortfood', 3),\n",
       " ('#foodstagram', 3),\n",
       " ('#diwali', 3),\n",
       " ('#dessert', 3),\n",
       " ('#foodblogger', 3),\n",
       " ('#homemade', 3),\n",
       " ('#cheese', 3),\n",
       " ('#HendricksGin', 3),\n",
       " ('#best', 3),\n",
       " ('#positivevibes', 3),\n",
       " ('#omg', 3),\n",
       " ('#mood', 3),\n",
       " ('#chennai', 3),\n",
       " ('#wow', 3),\n",
       " ('#video', 3),\n",
       " ('#maharashtra', 3),\n",
       " ('#delhifood', 3),\n",
       " ('#photooftheday', 3),\n",
       " ('#MorphyRichards', 2),\n",
       " ('#idli', 2),\n",
       " ('#southindianfood', 2),\n",
       " ('#southindian', 2),\n",
       " ('#masala', 2),\n",
       " ('#mumbaistreetfood', 2),\n",
       " ('#rajma', 2),\n",
       " ('#foodphotography', 2),\n",
       " ('#instagram', 2),\n",
       " ('#festive', 2),\n",
       " ('#sweet', 2),\n",
       " ('#diwalirecipes', 2),\n",
       " ('#festiverecipes', 2),\n",
       " ('#foodholic', 2),\n",
       " ('#sweettooth', 2),\n",
       " ('#foodrush', 2),\n",
       " ('#MakingEverydayHealthy', 2),\n",
       " ('#foodrushrecipe', 2),\n",
       " ('#fried', 2),\n",
       " ('#bread', 2),\n",
       " ('#garlic', 2),\n",
       " ('#iforiodine', 2),\n",
       " ('#bestoftheday', 2),\n",
       " ('#dinner', 2),\n",
       " ('#colourful', 2),\n",
       " ('#colour', 2),\n",
       " ('#rajasthan', 2),\n",
       " ('#london', 2),\n",
       " ('#punekar', 2),\n",
       " ('#explorepage', 2),\n",
       " ('#favourite', 2),\n",
       " ('#usa', 2),\n",
       " ('#traveldiaries', 2),\n",
       " ('#brunch', 2),\n",
       " ('#pictureoftheday', 2),\n",
       " ('#sodelhi', 2),\n",
       " ('#delhifoodbloggers', 2),\n",
       " ('#mumbaifoodie', 2),\n",
       " ('#kolkatadiaries', 2),\n",
       " ('#blog', 2),\n",
       " ('#idlilove', 1),\n",
       " ('#foodies', 1),\n",
       " ('#fooddaily', 1),\n",
       " ('#yourfoodtographer', 1),\n",
       " ('#bhindimasala', 1),\n",
       " ('#palak', 1),\n",
       " ('#easyrecipes', 1),\n",
       " ('#palakpaneer', 1),\n",
       " ('#paneerrecipes', 1),\n",
       " ('#foodpics', 1),\n",
       " ('#cinematography', 1),\n",
       " ('#anda', 1),\n",
       " ('#southdelhi', 1),\n",
       " ('#gk1', 1),\n",
       " ('#delhitovrindavan', 1),\n",
       " ('#Onedaytrip', 1),\n",
       " ('#MadhurSugar', 1),\n",
       " ('#MadhurMithaas', 1),\n",
       " ('#MadhurDiwali', 1),\n",
       " ('#DiwaliUtsav', 1),\n",
       " ('#LooseNahiMadhurSahi', 1),\n",
       " ('#Diwali', 1),\n",
       " ('#Sweets', 1),\n",
       " ('#DiwaliSweets', 1),\n",
       " ('#5SGuarantee', 1),\n",
       " ('#Kalakand', 1),\n",
       " ('#mithai', 1),\n",
       " ('#barfi', 1),\n",
       " ('#instantkalakand', 1),\n",
       " ('#kalakand', 1),\n",
       " ('#californiawalnuts', 1),\n",
       " ('#CaliforniaWalnuts', 1),\n",
       " ('#californiawalnutsindia', 1),\n",
       " ('#walnuts', 1),\n",
       " ('#akhrot', 1),\n",
       " ('#foodpassion', 1),\n",
       " ('#foodlove', 1),\n",
       " ('#foodinsta', 1),\n",
       " ('#foodstyle', 1),\n",
       " ('#foodpost', 1),\n",
       " ('#foodpostdaily', 1),\n",
       " ('#foodielife', 1),\n",
       " ('#foodposts', 1),\n",
       " ('#foodstylist', 1),\n",
       " ('#indianrecipes', 1),\n",
       " ('#healthyrecipes', 1),\n",
       " ('#veegies', 1),\n",
       " ('#vegrecipes', 1),\n",
       " ('#resturantstylerecipes', 1),\n",
       " ('#bigbasket', 1),\n",
       " ('#rosepalkhozhukattai', 1),\n",
       " ('#rosekhozhukattai', 1),\n",
       " ('#khozhukattai', 1),\n",
       " ('#recipevideos', 1),\n",
       " ('#sweetdish', 1),\n",
       " ('#dessertrecipes', 1),\n",
       " ('#dessertfirst', 1),\n",
       " ('#dessertlife', 1),\n",
       " ('#desserttable', 1),\n",
       " ('#popcorn', 1),\n",
       " ('#cauliflower', 1),\n",
       " ('#crispy', 1),\n",
       " ('#party', 1),\n",
       " ('#gamenight', 1),\n",
       " ('#chocolate', 1),\n",
       " ('#roll', 1),\n",
       " ('#chocolicious', 1),\n",
       " ('#cocoa', 1),\n",
       " ('#cinnamon', 1),\n",
       " ('#bun', 1),\n",
       " ('#potato', 1),\n",
       " ('#ring', 1),\n",
       " ('#potatoring', 1),\n",
       " ('#appetizer', 1),\n",
       " ('#snacks', 1),\n",
       " ('#turkish', 1),\n",
       " ('#turkishfood', 1),\n",
       " ('#cheesy', 1),\n",
       " ('#mini', 1),\n",
       " ('#makhana', 1),\n",
       " ('#makhanakheer', 1),\n",
       " ('#khana', 1),\n",
       " ('#vrat', 1),\n",
       " ('#milk', 1),\n",
       " ('#indianfood', 1),\n",
       " ('#navratri', 1),\n",
       " ('#stuffed', 1),\n",
       " ('#aashirvaad', 1),\n",
       " ('#instant', 1),\n",
       " ('#suji', 1),\n",
       " ('#widd2020', 1),\n",
       " ('#GiveawayAlert', 1),\n",
       " ('#IgotGinspired', 1),\n",
       " ('#dinnertime', 1),\n",
       " ('#gurgaon', 1),\n",
       " ('#northindian', 1),\n",
       " ('#cravings', 1),\n",
       " ('#dosa', 1),\n",
       " ('#evening', 1),\n",
       " ('#videos', 1),\n",
       " ('#besoftheday', 1),\n",
       " ('#coffee', 1),\n",
       " ('#coldcoffee', 1),\n",
       " ('#shake', 1),\n",
       " ('#savage', 1),\n",
       " ('#drink', 1),\n",
       " ('#amazing', 1),\n",
       " ('#videooftheday', 1),\n",
       " ('#reels', 1),\n",
       " ('#reel', 1),\n",
       " ('#noida', 1),\n",
       " ('#samosa', 1),\n",
       " ('#chole', 1),\n",
       " ('#picture', 1),\n",
       " ('#festival', 1),\n",
       " ('#punjab', 1),\n",
       " ('#noodles', 1),\n",
       " ('#manchurian', 1),\n",
       " ('#honeychillipotato', 1),\n",
       " ('#delhistreetfood', 1),\n",
       " ('#punefoodie', 1),\n",
       " ('#kerala', 1),\n",
       " ('#chinese', 1),\n",
       " ('#momos', 1),\n",
       " ('#tandoori', 1),\n",
       " ('#momo', 1),\n",
       " ('#creamy', 1),\n",
       " ('#tastyfood', 1),\n",
       " ('#vegetarian', 1),\n",
       " ('#lifestyleblog', 1),\n",
       " ('#photograph', 1),\n",
       " ('#pavbhaji', 1),\n",
       " ('#street', 1),\n",
       " ('#streetphotography', 1),\n",
       " ('#sunday', 1),\n",
       " ('#lunch', 1),\n",
       " ('#delhibloggers', 1),\n",
       " ('#love', 1),\n",
       " ('#cake', 1),\n",
       " ('#flowers', 1),\n",
       " ('#yummy', 1),\n",
       " ('#celebration', 1),\n",
       " ('#influencer', 1),\n",
       " ('#150k', 1),\n",
       " ('#followers', 1),\n",
       " ('#thankyou', 1),\n",
       " ('#delhiblogger', 1),\n",
       " ('#photographylovers', 1),\n",
       " ('#want', 1),\n",
       " ('#garlicbread', 1)]"
      ]
     },
     "execution_count": 124,
     "metadata": {},
     "output_type": "execute_result"
    }
   ],
   "source": [
    "#sorting the hashtags wrt to their frequency in descending order\n",
    "sorted_hash = sorted(hashtags.items(), key = lambda kv:kv[1], reverse = True)\n",
    "sorted_hash"
   ]
  },
  {
   "cell_type": "markdown",
   "metadata": {},
   "source": [
    "# 2.3 Saving hashtags in CSV file\n"
   ]
  },
  {
   "cell_type": "code",
   "execution_count": 126,
   "metadata": {},
   "outputs": [],
   "source": [
    "import pandas as pd\n",
    "#creating a dataframe\n",
    "df = pd.DataFrame(sorted_hash, columns=['Word','Frequency'])"
   ]
  },
  {
   "cell_type": "code",
   "execution_count": 127,
   "metadata": {
    "scrolled": true
   },
   "outputs": [
    {
     "data": {
      "text/html": [
       "<div>\n",
       "<style scoped>\n",
       "    .dataframe tbody tr th:only-of-type {\n",
       "        vertical-align: middle;\n",
       "    }\n",
       "\n",
       "    .dataframe tbody tr th {\n",
       "        vertical-align: top;\n",
       "    }\n",
       "\n",
       "    .dataframe thead th {\n",
       "        text-align: right;\n",
       "    }\n",
       "</style>\n",
       "<table border=\"1\" class=\"dataframe\">\n",
       "  <thead>\n",
       "    <tr style=\"text-align: right;\">\n",
       "      <th></th>\n",
       "      <th>Word</th>\n",
       "      <th>Frequency</th>\n",
       "    </tr>\n",
       "  </thead>\n",
       "  <tbody>\n",
       "    <tr>\n",
       "      <th>0</th>\n",
       "      <td>#foodporn</td>\n",
       "      <td>15</td>\n",
       "    </tr>\n",
       "    <tr>\n",
       "      <th>1</th>\n",
       "      <td>#foodie</td>\n",
       "      <td>11</td>\n",
       "    </tr>\n",
       "    <tr>\n",
       "      <th>2</th>\n",
       "      <td>#food</td>\n",
       "      <td>10</td>\n",
       "    </tr>\n",
       "    <tr>\n",
       "      <th>3</th>\n",
       "      <td>#recipe</td>\n",
       "      <td>9</td>\n",
       "    </tr>\n",
       "    <tr>\n",
       "      <th>4</th>\n",
       "      <td>#instadaily</td>\n",
       "      <td>9</td>\n",
       "    </tr>\n",
       "    <tr>\n",
       "      <th>...</th>\n",
       "      <td>...</td>\n",
       "      <td>...</td>\n",
       "    </tr>\n",
       "    <tr>\n",
       "      <th>241</th>\n",
       "      <td>#thankyou</td>\n",
       "      <td>1</td>\n",
       "    </tr>\n",
       "    <tr>\n",
       "      <th>242</th>\n",
       "      <td>#delhiblogger</td>\n",
       "      <td>1</td>\n",
       "    </tr>\n",
       "    <tr>\n",
       "      <th>243</th>\n",
       "      <td>#photographylovers</td>\n",
       "      <td>1</td>\n",
       "    </tr>\n",
       "    <tr>\n",
       "      <th>244</th>\n",
       "      <td>#want</td>\n",
       "      <td>1</td>\n",
       "    </tr>\n",
       "    <tr>\n",
       "      <th>245</th>\n",
       "      <td>#garlicbread</td>\n",
       "      <td>1</td>\n",
       "    </tr>\n",
       "  </tbody>\n",
       "</table>\n",
       "<p>246 rows × 2 columns</p>\n",
       "</div>"
      ],
      "text/plain": [
       "                   Word  Frequency\n",
       "0             #foodporn         15\n",
       "1               #foodie         11\n",
       "2                 #food         10\n",
       "3               #recipe          9\n",
       "4           #instadaily          9\n",
       "..                  ...        ...\n",
       "241           #thankyou          1\n",
       "242       #delhiblogger          1\n",
       "243  #photographylovers          1\n",
       "244               #want          1\n",
       "245        #garlicbread          1\n",
       "\n",
       "[246 rows x 2 columns]"
      ]
     },
     "execution_count": 127,
     "metadata": {},
     "output_type": "execute_result"
    }
   ],
   "source": [
    "df"
   ]
  },
  {
   "cell_type": "code",
   "execution_count": 129,
   "metadata": {},
   "outputs": [],
   "source": [
    "hashtags_csv=df.to_csv('frequency_hashtags.csv', index = False )"
   ]
  },
  {
   "cell_type": "markdown",
   "metadata": {},
   "source": [
    "# 2.4 , 2.5 Most popular hashtags"
   ]
  },
  {
   "cell_type": "code",
   "execution_count": 130,
   "metadata": {
    "scrolled": true
   },
   "outputs": [
    {
     "name": "stdout",
     "output_type": "stream",
     "text": [
      "#foodporn  :  15\n",
      "#foodie  :  11\n",
      "#food  :  10\n",
      "#recipe  :  9\n",
      "#instadaily  :  9\n",
      "#dilsefoodie  :  9\n",
      "#foodzaara  :  9\n",
      "#delhi  :  9\n",
      "#streetfood  :  8\n",
      "#instagood  :  8\n"
     ]
    }
   ],
   "source": [
    "c=0\n",
    "for ind in df.index:\n",
    "    if c<10:\n",
    "        h=df[\"Word\"][ind]\n",
    "        f=df['Frequency'][ind]\n",
    "        print(h,\" : \",f)\n",
    "        c=c+1"
   ]
  },
  {
   "cell_type": "code",
   "execution_count": 161,
   "metadata": {},
   "outputs": [],
   "source": [
    "#creating lists\n",
    "c=0\n",
    "word=[]\n",
    "fr=[]\n",
    "for ind in df.index:\n",
    "    if c<5:\n",
    "        h=df[\"Word\"][ind]\n",
    "        f=df['Frequency'][ind]\n",
    "        word.append(h)\n",
    "        fr.append(f)\n",
    "        c=c+1"
   ]
  },
  {
   "cell_type": "code",
   "execution_count": 162,
   "metadata": {},
   "outputs": [
    {
     "data": {
      "image/png": "[encoded data removed]",
      "text/plain": [
       "<Figure size 432x288 with 1 Axes>"
      ]
     },
     "metadata": {},
     "output_type": "display_data"
    }
   ],
   "source": [
    "sizes=fr\n",
    "labels=word\n",
    "explode=[0.15,0,0,0,0]\n",
    "plt.pie(sizes,labels=labels,explode=explode,autopct=\"%.1f%%\") #or pass a function in \n",
    "plt.title(\"Most popular hashtags\")\n",
    "plt.axis(\"equal\")\n",
    "plt.show()"
   ]
  },
  {
   "cell_type": "markdown",
   "metadata": {},
   "source": [
    "# 3.1 Likes of the top 10 posts of the 5 handles obtained earlier\n",
    "\n",
    "<br>(except private accounts not followed by you)"
   ]
  },
  {
   "cell_type": "code",
   "execution_count": 75,
   "metadata": {},
   "outputs": [],
   "source": [
    "def likes_posts():\n",
    "    likes_handle={}\n",
    "    for j in five:\n",
    "        open_profile(j)\n",
    "        time.sleep(5)\n",
    "        count=1\n",
    "        print(j)\n",
    "        \n",
    "        try:\n",
    "            post=driver.find_element_by_class_name(\"_9AhH0\")\n",
    "            post.click()\n",
    "            time.sleep(4)\n",
    "        \n",
    "#         for private accounts or handles with 0 posts\n",
    "        except NoSuchElementException: \n",
    "            continue\n",
    "\n",
    "        while count<=10:\n",
    "\n",
    "            try:\n",
    "                views=driver.find_element_by_class_name(\"vcOH2\")\n",
    "                views.click()\n",
    "                l=driver.find_element_by_class_name(\"vJRqr\").text\n",
    "                ls=l.split(\" \")[0]\n",
    "                like=int(ls.replace(\",\",\"\"))\n",
    "                driver.find_element_by_class_name(\"QhbhU\").click()\n",
    "\n",
    "\n",
    "\n",
    "            except NoSuchElementException:\n",
    "                bt=driver.find_element_by_xpath(\"//div[contains(@class,'Nm9Fw')]//button/span\").text\n",
    "                like=int(bt.replace(\",\",\"\"))\n",
    "            print(like)\n",
    "            likes_handle[j]=likes_handle.get(j,0)+ like\n",
    "            \n",
    "            try:\n",
    "                next_button = driver.find_element_by_class_name('_65Bje') # clicking on next button to go to next post\n",
    "                next_button.click()\n",
    "                time.sleep(5)\n",
    "            \n",
    "#             for handles with less than 10 posts\n",
    "            except NoSuchElementException:\n",
    "                break\n",
    "            \n",
    "            count=count+1\n",
    "    return likes_handle"
   ]
  },
  {
   "cell_type": "code",
   "execution_count": 144,
   "metadata": {
    "scrolled": true
   },
   "outputs": [
    {
     "name": "stdout",
     "output_type": "stream",
     "text": [
      "yourfoodlab\n",
      "20740\n",
      "18273\n",
      "22985\n",
      "25184\n",
      "22199\n",
      "28964\n",
      "17081\n",
      "25034\n",
      "22493\n",
      "26213\n",
      "dilsefoodie\n",
      "22319\n",
      "9560\n",
      "3605\n",
      "28594\n",
      "12153\n",
      "3367\n",
      "9322\n",
      "8565\n",
      "10610\n",
      "7905\n",
      "foodrush.recipe\n",
      "7752\n",
      "16650\n",
      "74423\n",
      "8731\n",
      "6811\n",
      "12068\n",
      "19502\n",
      "11405\n",
      "43780\n",
      "42203\n",
      "foodtalkindia\n",
      "367\n",
      "299\n",
      "159\n",
      "424\n",
      "575\n",
      "714\n",
      "723\n",
      "1358\n",
      "257\n",
      "154\n",
      "foodzaara\n",
      "2015\n",
      "7801\n",
      "2462\n",
      "3392\n",
      "3299\n",
      "4269\n",
      "2897\n",
      "3230\n",
      "4680\n",
      "5658\n"
     ]
    }
   ],
   "source": [
    "likes=likes_posts()"
   ]
  },
  {
   "cell_type": "markdown",
   "metadata": {},
   "source": [
    "# 3.2 Average likes for each handle"
   ]
  },
  {
   "cell_type": "code",
   "execution_count": 145,
   "metadata": {},
   "outputs": [
    {
     "data": {
      "text/plain": [
       "{'yourfoodlab': 228775,\n",
       " 'dilsefoodie': 115567,\n",
       " 'foodrush.recipe': 243182,\n",
       " 'foodtalkindia': 5025,\n",
       " 'foodzaara': 39528}"
      ]
     },
     "execution_count": 145,
     "metadata": {},
     "output_type": "execute_result"
    }
   ],
   "source": [
    "#total likes for each handle\n",
    "likes_handle"
   ]
  },
  {
   "cell_type": "code",
   "execution_count": 146,
   "metadata": {
    "scrolled": true
   },
   "outputs": [
    {
     "name": "stdout",
     "output_type": "stream",
     "text": [
      "yourfoodlab  :   22877.5\n",
      "dilsefoodie  :   11556.7\n",
      "foodrush.recipe  :   24318.2\n",
      "foodtalkindia  :   502.5\n",
      "foodzaara  :   3952.8\n"
     ]
    }
   ],
   "source": [
    "avg_likes=[]\n",
    "handles=[]\n",
    "for i,j in likes_handle.items():\n",
    "    av=j/10\n",
    "    print(i,\" :  \",av)\n",
    "    avg_likes.append(j)\n",
    "    handles.append(i)"
   ]
  },
  {
   "cell_type": "markdown",
   "metadata": {},
   "source": [
    "# 3.3, 3.4 Followers: Average likes ratio for top handles"
   ]
  },
  {
   "cell_type": "code",
   "execution_count": 147,
   "metadata": {},
   "outputs": [],
   "source": [
    "five_followers=[]\n",
    "for i,j in sorted_top:\n",
    "    five_followers.append(j)"
   ]
  },
  {
   "cell_type": "code",
   "execution_count": 148,
   "metadata": {},
   "outputs": [
    {
     "name": "stdout",
     "output_type": "stream",
     "text": [
      "yourfoodlab  :  6.36671839143263\n",
      "dilsefoodie  :  5.665691763219604\n",
      "foodrush.recipe  :  2.585935636683636\n",
      "foodtalkindia  :  60.25134328358209\n",
      "foodzaara  :  3.8434780408824123\n"
     ]
    }
   ],
   "source": [
    "ratio=[]\n",
    "for i in range(5):\n",
    "    r=five_followers[i]/avg_likes[i]\n",
    "    ratio.append(r)\n",
    "    print(handles[i],\" : \",r)"
   ]
  },
  {
   "cell_type": "code",
   "execution_count": 163,
   "metadata": {},
   "outputs": [
    {
     "data": {
      "image/png": "[encoded data removed]",
      "text/plain": [
       "<Figure size 504x360 with 1 Axes>"
      ]
     },
     "metadata": {
      "needs_background": "light"
     },
     "output_type": "display_data"
    }
   ],
   "source": [
    "import matplotlib.pyplot as plt\n",
    "\n",
    "plt.figure( figsize=(7, 5))\n",
    "plt.bar(handles,ratio)\n",
    "plt.grid()\n",
    "plt.title(\"Follower/Like ratio for top food handles\")\n",
    "plt.xlabel(\"Top Handles\")\n",
    "plt.ylabel(\"Followers/Like\")\n",
    "plt.xticks(rotation=15)\n",
    "plt.show()\n",
    "\n"
   ]
  }
 ],
 "metadata": {
  "kernelspec": {
   "display_name": "Python 3",
   "language": "python",
   "name": "python3"
  },
  "language_info": {
   "codemirror_mode": {
    "name": "ipython",
    "version": 3
   },
   "file_extension": ".py",
   "mimetype": "text/x-python",
   "name": "python",
   "nbconvert_exporter": "python",
   "pygments_lexer": "ipython3",
   "version": "3.8.2"
  }
 },
 "nbformat": 4,
 "nbformat_minor": 4
}
