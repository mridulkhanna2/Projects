{
 "cells": [
  {
   "cell_type": "code",
   "execution_count": 1,
   "metadata": {
    "_cell_guid": "b1076dfc-b9ad-4769-8c92-a6c4dae69d19",
    "_uuid": "8f2839f25d086af736a60e9eeb907d3b93b6e0e5",
    "execution": {
     "iopub.execute_input": "2021-02-07T04:49:47.506289Z",
     "iopub.status.busy": "2021-02-07T04:49:47.505326Z",
     "iopub.status.idle": "2021-02-07T04:49:47.508649Z",
     "shell.execute_reply": "2021-02-07T04:49:47.507864Z"
    },
    "papermill": {
     "duration": 0.022666,
     "end_time": "2021-02-07T04:49:47.508869",
     "exception": false,
     "start_time": "2021-02-07T04:49:47.486203",
     "status": "completed"
    },
    "tags": []
   },
   "outputs": [],
   "source": [
    "import numpy as np # linear algebra\n",
    "import pandas as pd # data processing, CSV file I/O (e.g. pd.read_csv)\n",
    "import os"
   ]
  },
  {
   "cell_type": "code",
   "execution_count": 2,
   "metadata": {},
   "outputs": [],
   "source": [
    "import cv2\n",
    "from glob import glob\n",
    "\n",
    "train_images = [] \n",
    "train_labels = []\n"
   ]
  },
  {
   "cell_type": "code",
   "execution_count": 3,
   "metadata": {},
   "outputs": [],
   "source": [
    "def load_images(classed):\n",
    "    # Loop over the training folder \n",
    "    \n",
    "    print('Loading directory c{}'.format(classed))\n",
    "    files = glob(os.path.join('..', 'input','state-farm-distracted-driver-detection','imgs', 'train', 'c' + str(classed), '*.jpg'))\n",
    "    for file in files:\n",
    "        img = cv2.imread(file)\n",
    "        img = cv2.cvtColor(img, cv2.COLOR_BGR2GRAY) \n",
    "        train_images.append(cv2.resize(img, (225,225)))\n",
    "        train_labels.append(classed)\n"
   ]
  },
  {
   "cell_type": "code",
   "execution_count": 4,
   "metadata": {},
   "outputs": [
    {
     "name": "stdout",
     "output_type": "stream",
     "text": [
      "Loading directory c0\n",
      "Loading directory c2\n",
      "Loading directory c4\n",
      "Loading directory c6\n"
     ]
    }
   ],
   "source": [
    "load_images(0)\n",
    "load_images(2)\n",
    "load_images(4)\n",
    "load_images(6)"
   ]
  },
  {
   "cell_type": "code",
   "execution_count": 5,
   "metadata": {},
   "outputs": [
    {
     "ename": "ModuleNotFoundError",
     "evalue": "No module named 'tensorflow'",
     "output_type": "error",
     "traceback": [
      "\u001b[1;31m---------------------------------------------------------------------------\u001b[0m",
      "\u001b[1;31mModuleNotFoundError\u001b[0m                       Traceback (most recent call last)",
      "\u001b[1;32m<ipython-input-5-089a73a720ad>\u001b[0m in \u001b[0;36m<module>\u001b[1;34m\u001b[0m\n\u001b[0;32m      1\u001b[0m \u001b[1;32mfrom\u001b[0m \u001b[0msklearn\u001b[0m\u001b[1;33m.\u001b[0m\u001b[0mmodel_selection\u001b[0m \u001b[1;32mimport\u001b[0m \u001b[0mtrain_test_split\u001b[0m\u001b[1;33m\u001b[0m\u001b[1;33m\u001b[0m\u001b[0m\n\u001b[1;32m----> 2\u001b[1;33m \u001b[1;32mimport\u001b[0m \u001b[0mtensorflow\u001b[0m \u001b[1;32mas\u001b[0m \u001b[0mtf\u001b[0m\u001b[1;33m\u001b[0m\u001b[1;33m\u001b[0m\u001b[0m\n\u001b[0m\u001b[0;32m      3\u001b[0m \u001b[1;33m\u001b[0m\u001b[0m\n\u001b[0;32m      4\u001b[0m \u001b[0mx_train\u001b[0m\u001b[1;33m,\u001b[0m \u001b[0mx_test\u001b[0m\u001b[1;33m,\u001b[0m \u001b[0my_train\u001b[0m\u001b[1;33m,\u001b[0m \u001b[0my_test\u001b[0m \u001b[1;33m=\u001b[0m  \u001b[0mtrain_test_split\u001b[0m\u001b[1;33m(\u001b[0m\u001b[0mtrain_images\u001b[0m\u001b[1;33m,\u001b[0m\u001b[0mtrain_labels\u001b[0m\u001b[1;33m,\u001b[0m \u001b[0mtest_size\u001b[0m \u001b[1;33m=\u001b[0m \u001b[1;36m0.25\u001b[0m\u001b[1;33m)\u001b[0m\u001b[1;33m\u001b[0m\u001b[1;33m\u001b[0m\u001b[0m\n",
      "\u001b[1;31mModuleNotFoundError\u001b[0m: No module named 'tensorflow'"
     ]
    }
   ],
   "source": [
    "from sklearn.model_selection import train_test_split\n",
    "import tensorflow as tf\n",
    "\n",
    "x_train, x_test, y_train, y_test =  train_test_split(train_images,train_labels, test_size = 0.25)"
   ]
  },
  {
   "cell_type": "code",
   "execution_count": null,
   "metadata": {
    "execution": {
     "iopub.execute_input": "2021-02-07T04:54:31.23969Z",
     "iopub.status.busy": "2021-02-07T04:54:31.238908Z",
     "iopub.status.idle": "2021-02-07T04:54:39.654605Z",
     "shell.execute_reply": "2021-02-07T04:54:39.655119Z"
    },
    "papermill": {
     "duration": 8.440117,
     "end_time": "2021-02-07T04:54:39.6553",
     "exception": false,
     "start_time": "2021-02-07T04:54:31.215183",
     "status": "completed"
    },
    "tags": []
   },
   "outputs": [],
   "source": [
    "\n",
    "y_train = tf.keras.utils.to_categorical(y_train, num_classes=10)\n",
    "y_test = tf.keras.utils.to_categorical(y_test, num_classes=10)\n",
    "\n",
    "x_train, y_train = np.asarray(x_train), np.asarray(y_train)\n",
    "x_test, y_test = np.asarray(x_test), np.asarray(y_test)\n",
    "print(x_train.shape, y_train.shape)"
   ]
  },
  {
   "cell_type": "code",
   "execution_count": null,
   "metadata": {},
   "outputs": [],
   "source": [
    "x_test = np.expand_dims(x_test, axis=3)\n",
    "x_train = np.expand_dims(x_train, axis=3)"
   ]
  },
  {
   "cell_type": "markdown",
   "metadata": {
    "papermill": {
     "duration": 0.016858,
     "end_time": "2021-02-07T04:54:39.730342",
     "exception": false,
     "start_time": "2021-02-07T04:54:39.713484",
     "status": "completed"
    },
    "tags": []
   },
   "source": [
    "# Exploring the dataset"
   ]
  },
  {
   "cell_type": "code",
   "execution_count": null,
   "metadata": {
    "execution": {
     "iopub.execute_input": "2021-02-07T04:54:39.832624Z",
     "iopub.status.busy": "2021-02-07T04:54:39.831916Z",
     "iopub.status.idle": "2021-02-07T04:54:40.078614Z",
     "shell.execute_reply": "2021-02-07T04:54:40.079398Z"
    },
    "papermill": {
     "duration": 0.271815,
     "end_time": "2021-02-07T04:54:40.079676",
     "exception": false,
     "start_time": "2021-02-07T04:54:39.807861",
     "status": "completed"
    },
    "tags": []
   },
   "outputs": [],
   "source": [
    "import matplotlib.pyplot as plt\n",
    "plt.imshow(cv2.cvtColor(x_train[1000], cv2.COLOR_BGR2RGB))\n",
    "plt.show()\n",
    "print(y_train[1000])"
   ]
  },
  {
   "cell_type": "markdown",
   "metadata": {
    "papermill": {
     "duration": 0.021774,
     "end_time": "2021-02-07T04:54:40.123189",
     "exception": false,
     "start_time": "2021-02-07T04:54:40.101415",
     "status": "completed"
    },
    "tags": []
   },
   "source": [
    "# CNN Model"
   ]
  },
  {
   "cell_type": "code",
   "execution_count": null,
   "metadata": {
    "execution": {
     "iopub.execute_input": "2021-02-07T04:54:40.180941Z",
     "iopub.status.busy": "2021-02-07T04:54:40.180199Z",
     "iopub.status.idle": "2021-02-07T04:54:43.852912Z",
     "shell.execute_reply": "2021-02-07T04:54:43.851991Z"
    },
    "papermill": {
     "duration": 3.7076,
     "end_time": "2021-02-07T04:54:43.853061",
     "exception": false,
     "start_time": "2021-02-07T04:54:40.145461",
     "status": "completed"
    },
    "tags": []
   },
   "outputs": [],
   "source": [
    "from keras.utils import to_categorical\n",
    "from keras.models import Sequential\n",
    "from keras.layers import *\n",
    "from keras.optimizers import RMSprop\n",
    "import keras\n",
    "from keras.callbacks import EarlyStopping\n",
    "\n",
    "\n",
    "model = Sequential()\n",
    "\n",
    "size = 16\n",
    "\n",
    "model.add(Conv2D(size*2, (3, 3), padding='same', input_shape=(225,225,1)))\n",
    "model.add(Activation('elu'))\n",
    "model.add(Conv2D(size*2, (3, 3)))\n",
    "model.add(Activation('elu'))\n",
    "model.add(MaxPooling2D(pool_size=(2, 2)))\n",
    "model.add(Dropout(0.25))\n",
    "\n",
    "model.add(Conv2D(size*4, (3, 3), padding='same'))\n",
    "model.add(Activation('elu'))\n",
    "model.add(Conv2D(size*4, (3, 3)))\n",
    "model.add(Activation('elu'))\n",
    "model.add(MaxPooling2D(pool_size=(2, 2)))\n",
    "model.add(Dropout(0.25))\n",
    "\n",
    "model.add(Conv2D(size*8, (3, 3), padding='same'))\n",
    "model.add(Activation('elu'))\n",
    "model.add(Conv2D(size*8, (3, 3)))\n",
    "model.add(Activation('elu'))\n",
    "model.add(MaxPooling2D(pool_size=(2, 2)))\n",
    "model.add(Dropout(0.25))\n",
    "\n",
    "\n",
    "model.add(Flatten())\n",
    "model.add(Dense(size*16))\n",
    "model.add(Activation('elu'))\n",
    "model.add(Dropout(0.5))\n",
    "model.add(Dense(10))\n",
    "model.add(Activation('softmax'))\n",
    "\n",
    "# initiate RMSprop optimizer\n",
    "opt = keras.optimizers.RMSprop(lr=0.0001, decay=1e-6)\n",
    "\n",
    "# Let's train the model using RMSprop\n",
    "model.compile(loss='categorical_crossentropy',\n",
    "              optimizer=opt,\n",
    "              metrics=['accuracy'])\n"
   ]
  },
  {
   "cell_type": "code",
   "execution_count": null,
   "metadata": {
    "execution": {
     "iopub.execute_input": "2021-02-07T04:54:43.905855Z",
     "iopub.status.busy": "2021-02-07T04:54:43.901503Z",
     "iopub.status.idle": "2021-02-07T04:54:43.916716Z",
     "shell.execute_reply": "2021-02-07T04:54:43.915638Z"
    },
    "papermill": {
     "duration": 0.042408,
     "end_time": "2021-02-07T04:54:43.91684",
     "exception": false,
     "start_time": "2021-02-07T04:54:43.874432",
     "status": "completed"
    },
    "tags": []
   },
   "outputs": [],
   "source": [
    "model.summary()"
   ]
  },
  {
   "cell_type": "code",
   "execution_count": null,
   "metadata": {
    "execution": {
     "iopub.execute_input": "2021-02-07T04:54:43.964868Z",
     "iopub.status.busy": "2021-02-07T04:54:43.964183Z",
     "iopub.status.idle": "2021-02-07T04:59:34.553865Z",
     "shell.execute_reply": "2021-02-07T04:59:34.554533Z"
    },
    "papermill": {
     "duration": 290.616226,
     "end_time": "2021-02-07T04:59:34.554755",
     "exception": false,
     "start_time": "2021-02-07T04:54:43.938529",
     "status": "completed"
    },
    "tags": []
   },
   "outputs": [],
   "source": [
    "history = model.fit(x_train, y_train, \n",
    "          validation_data=(x_test, y_test),\n",
    "          epochs=8, batch_size=25, callbacks = EarlyStopping(monitor='val_loss', mode='min', patience=2))"
   ]
  },
  {
   "cell_type": "code",
   "execution_count": null,
   "metadata": {
    "execution": {
     "iopub.execute_input": "2021-02-07T04:59:37.39646Z",
     "iopub.status.busy": "2021-02-07T04:59:37.395563Z",
     "iopub.status.idle": "2021-02-07T04:59:37.718672Z",
     "shell.execute_reply": "2021-02-07T04:59:37.718046Z"
    },
    "papermill": {
     "duration": 1.743371,
     "end_time": "2021-02-07T04:59:37.718838",
     "exception": false,
     "start_time": "2021-02-07T04:59:35.975467",
     "status": "completed"
    },
    "tags": []
   },
   "outputs": [],
   "source": [
    "plt.figure(figsize=(8,8))\n",
    "plt.subplot(211)\n",
    "plt.title('Cross Entropy Loss')\n",
    "plt.plot(history.history['loss'], color='blue', label='train')\n",
    "plt.plot(history.history['val_loss'], color='orange', label='test')\n",
    "# plot accuracy\n",
    "plt.subplot(212)\n",
    "plt.title('Classification Accuracy')\n",
    "plt.plot(history.history['accuracy'], color='blue', label='train')\n",
    "plt.plot(history.history['val_accuracy'], color='orange', label='test')"
   ]
  },
  {
   "cell_type": "code",
   "execution_count": null,
   "metadata": {
    "execution": {
     "iopub.execute_input": "2021-02-07T04:59:40.756983Z",
     "iopub.status.busy": "2021-02-07T04:59:40.756083Z",
     "iopub.status.idle": "2021-02-07T04:59:41.24822Z",
     "shell.execute_reply": "2021-02-07T04:59:41.247604Z"
    },
    "papermill": {
     "duration": 1.986102,
     "end_time": "2021-02-07T04:59:41.24838",
     "exception": false,
     "start_time": "2021-02-07T04:59:39.262278",
     "status": "completed"
    },
    "tags": []
   },
   "outputs": [],
   "source": [
    "from keras.models import load_model\n",
    "\n",
    "model.save('distracted_drivers.h5')"
   ]
  },
  {
   "cell_type": "code",
   "execution_count": null,
   "metadata": {
    "execution": {
     "iopub.execute_input": "2021-02-07T04:59:44.64653Z",
     "iopub.status.busy": "2021-02-07T04:59:44.644731Z",
     "iopub.status.idle": "2021-02-07T04:59:49.811284Z",
     "shell.execute_reply": "2021-02-07T04:59:49.810619Z"
    },
    "papermill": {
     "duration": 7.017377,
     "end_time": "2021-02-07T04:59:49.81151",
     "exception": false,
     "start_time": "2021-02-07T04:59:42.794133",
     "status": "completed"
    },
    "tags": []
   },
   "outputs": [],
   "source": [
    "_, acc = model.evaluate(x_test, y_test, verbose=10)\n",
    "print(acc)"
   ]
  }
 ],
 "metadata": {
  "kernelspec": {
   "display_name": "Python 3",
   "language": "python",
   "name": "python3"
  },
  "language_info": {
   "codemirror_mode": {
    "name": "ipython",
    "version": 3
   },
   "file_extension": ".py",
   "mimetype": "text/x-python",
   "name": "python",
   "nbconvert_exporter": "python",
   "pygments_lexer": "ipython3",
   "version": "3.8.2"
  }
 },
 "nbformat": 4,
 "nbformat_minor": 4
}
